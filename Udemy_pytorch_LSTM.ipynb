{
  "nbformat": 4,
  "nbformat_minor": 0,
  "metadata": {
    "colab": {
      "name": "Udemy_pytorch_LSTM.ipynb",
      "provenance": [],
      "authorship_tag": "ABX9TyNCQo4DcB3gp3GCwRM22yp7",
      "include_colab_link": true
    },
    "kernelspec": {
      "name": "python3",
      "display_name": "Python 3"
    }
  },
  "cells": [
    {
      "cell_type": "markdown",
      "metadata": {
        "id": "view-in-github",
        "colab_type": "text"
      },
      "source": [
        "<a href=\"https://colab.research.google.com/github/nekotanku/colab/blob/master/Udemy_pytorch_LSTM.ipynb\" target=\"_parent\"><img src=\"https://colab.research.google.com/assets/colab-badge.svg\" alt=\"Open In Colab\"/></a>"
      ]
    },
    {
      "cell_type": "code",
      "metadata": {
        "id": "8fBmf3S-pWxl",
        "colab_type": "code",
        "colab": {}
      },
      "source": [
        "import torch\n",
        "import torch.nn as nn\n",
        "import torch.optim as optim\n",
        "import matplotlib.pyplot as plt\n",
        "import numpy as np\n",
        "plt.style.use(\"ggplot\")\n",
        "%matplotlib inline"
      ],
      "execution_count": 3,
      "outputs": []
    },
    {
      "cell_type": "code",
      "metadata": {
        "id": "am1OW-Nypc5v",
        "colab_type": "code",
        "colab": {}
      },
      "source": [
        "x = np.linspace(0, 499, 500)\n",
        "y = np.sin(x * 2 *np.pi / 50)"
      ],
      "execution_count": 4,
      "outputs": []
    },
    {
      "cell_type": "code",
      "metadata": {
        "id": "TDCOs2riqLkP",
        "colab_type": "code",
        "colab": {
          "base_uri": "https://localhost:8080/",
          "height": 282
        },
        "outputId": "976dbb6a-b2ec-4b05-e7c3-0c82e6d4f9be"
      },
      "source": [
        "plt.plot(x, y)"
      ],
      "execution_count": 5,
      "outputs": [
        {
          "output_type": "execute_result",
          "data": {
            "text/plain": [
              "[<matplotlib.lines.Line2D at 0x7f727439b0b8>]"
            ]
          },
          "metadata": {
            "tags": []
          },
          "execution_count": 5
        },
        {
          "output_type": "display_data",
          "data": {
            "image/png": "[encoded data removed]",
            "text/plain": [
              "<Figure size 432x288 with 1 Axes>"
            ]
          },
          "metadata": {
            "tags": [],
            "needs_background": "light"
          }
        }
      ]
    },
    {
      "cell_type": "code",
      "metadata": {
        "id": "VyzChHEFqOE3",
        "colab_type": "code",
        "colab": {}
      },
      "source": [
        "#490を学習10をテスト用データとする\n",
        "#データをシーケンスにする\n",
        "def make_sequence_data(y, num_sequence):\n",
        "    num_data = len(y)\n",
        "    seq_data = []\n",
        "    target_data = []\n",
        "    for i in range(num_data-num_sequence):\n",
        "        seq_data.append(y[i:i+num_sequence])\n",
        "        target_data.append(y[i+num_sequence:i+num_sequence+1])\n",
        "    seq_arr = np.array(seq_data)\n",
        "    target_arr = np.array(target_data)\n",
        "    return seq_arr, target_arr"
      ],
      "execution_count": 6,
      "outputs": []
    },
    {
      "cell_type": "code",
      "metadata": {
        "id": "Mxh4GJWfryT6",
        "colab_type": "code",
        "colab": {}
      },
      "source": [
        "seq_length = 40\n",
        "y_seq, y_target = make_sequence_data(y, seq_length)"
      ],
      "execution_count": 7,
      "outputs": []
    },
    {
      "cell_type": "code",
      "metadata": {
        "id": "zAdXrsGBr_bh",
        "colab_type": "code",
        "colab": {
          "base_uri": "https://localhost:8080/",
          "height": 34
        },
        "outputId": "4904e6ce-3274-43ac-8a72-d33228d9be2c"
      },
      "source": [
        "y_seq.shape"
      ],
      "execution_count": 8,
      "outputs": [
        {
          "output_type": "execute_result",
          "data": {
            "text/plain": [
              "(460, 40)"
            ]
          },
          "metadata": {
            "tags": []
          },
          "execution_count": 8
        }
      ]
    },
    {
      "cell_type": "code",
      "metadata": {
        "id": "AQp4CD38sDAP",
        "colab_type": "code",
        "colab": {
          "base_uri": "https://localhost:8080/",
          "height": 34
        },
        "outputId": "49cb4c38-5ed4-4ea3-dd86-a946009cd0d8"
      },
      "source": [
        "y_target.shape"
      ],
      "execution_count": 10,
      "outputs": [
        {
          "output_type": "execute_result",
          "data": {
            "text/plain": [
              "(460, 1)"
            ]
          },
          "metadata": {
            "tags": []
          },
          "execution_count": 10
        }
      ]
    },
    {
      "cell_type": "code",
      "metadata": {
        "id": "IVlpZlfUsHf1",
        "colab_type": "code",
        "colab": {}
      },
      "source": [
        "num_test = 10\n",
        "y_seq_train = y_seq[:-num_test]\n",
        "y_seq_test = y_seq[-num_test:]\n",
        "y_target_train = y_target[:-num_test]\n",
        "y_target_test = y_target[-num_test:]"
      ],
      "execution_count": 11,
      "outputs": []
    },
    {
      "cell_type": "code",
      "metadata": {
        "id": "4KCeKUZmshv7",
        "colab_type": "code",
        "colab": {
          "base_uri": "https://localhost:8080/",
          "height": 238
        },
        "outputId": "2abf4764-5012-4e0c-de11-60c18c40e38e"
      },
      "source": [
        "y_seq_train"
      ],
      "execution_count": 13,
      "outputs": [
        {
          "output_type": "execute_result",
          "data": {
            "text/plain": [
              "array([[ 0.00000000e+00,  1.25333234e-01,  2.48689887e-01, ...,\n",
              "        -9.98026728e-01, -9.98026728e-01, -9.82287251e-01],\n",
              "       [ 1.25333234e-01,  2.48689887e-01,  3.68124553e-01, ...,\n",
              "        -9.98026728e-01, -9.82287251e-01, -9.51056516e-01],\n",
              "       [ 2.48689887e-01,  3.68124553e-01,  4.81753674e-01, ...,\n",
              "        -9.82287251e-01, -9.51056516e-01, -9.04827052e-01],\n",
              "       ...,\n",
              "       [-3.68124553e-01, -2.48689887e-01, -1.25333234e-01, ...,\n",
              "        -9.04827052e-01, -9.51056516e-01, -9.82287251e-01],\n",
              "       [-2.48689887e-01, -1.25333234e-01, -2.20436424e-15, ...,\n",
              "        -9.51056516e-01, -9.82287251e-01, -9.98026728e-01],\n",
              "       [-1.25333234e-01, -2.20436424e-15,  1.25333234e-01, ...,\n",
              "        -9.82287251e-01, -9.98026728e-01, -9.98026728e-01]])"
            ]
          },
          "metadata": {
            "tags": []
          },
          "execution_count": 13
        }
      ]
    },
    {
      "cell_type": "code",
      "metadata": {
        "id": "FcEMBn6Psl8p",
        "colab_type": "code",
        "colab": {
          "base_uri": "https://localhost:8080/",
          "height": 34
        },
        "outputId": "7d841531-38f0-45c4-f3e1-785be23f7682"
      },
      "source": [
        "y_seq_train.shape"
      ],
      "execution_count": 14,
      "outputs": [
        {
          "output_type": "execute_result",
          "data": {
            "text/plain": [
              "(450, 40)"
            ]
          },
          "metadata": {
            "tags": []
          },
          "execution_count": 14
        }
      ]
    },
    {
      "cell_type": "code",
      "metadata": {
        "id": "zR2AukfGso90",
        "colab_type": "code",
        "colab": {}
      },
      "source": [
        "y_seq_t = torch.FloatTensor(y_seq_train)\n",
        "y_target_t = torch.FloatTensor(y_target_train)"
      ],
      "execution_count": 15,
      "outputs": []
    },
    {
      "cell_type": "code",
      "metadata": {
        "id": "RAmA5V1Ps4x6",
        "colab_type": "code",
        "colab": {}
      },
      "source": [
        "#モデルの定義\n",
        "class LSTM(nn.Module):\n",
        "    def __init__(self, hidden_size):\n",
        "        super().__init__()\n",
        "        self.hidden_size = hidden_size\n",
        "        self.lstm = nn.LSTM(input_size=1, hidden_size=self.hidden_size)\n",
        "        self.linear = nn.Linear(self.hidden_size, 1)\n",
        "    def forward(self, x):\n",
        "        x, _ = self.lstm(x)\n",
        "        x_last = x[-1]\n",
        "        x = self.linear(x_last)\n",
        "        return x"
      ],
      "execution_count": 18,
      "outputs": []
    },
    {
      "cell_type": "code",
      "metadata": {
        "id": "h6_Q1n66trs6",
        "colab_type": "code",
        "colab": {}
      },
      "source": [
        "model = LSTM(100)"
      ],
      "execution_count": 19,
      "outputs": []
    },
    {
      "cell_type": "code",
      "metadata": {
        "id": "ZLPNUXB-ttqq",
        "colab_type": "code",
        "colab": {}
      },
      "source": [
        "criterion = nn.MSELoss()\n",
        "optimizer = optim.Adam(model.parameters(), lr=0.001)"
      ],
      "execution_count": 21,
      "outputs": []
    },
    {
      "cell_type": "code",
      "metadata": {
        "id": "qYX_PXttuVU2",
        "colab_type": "code",
        "colab": {
          "base_uri": "https://localhost:8080/",
          "height": 34
        },
        "outputId": "c7396efa-d986-4be8-db77-56603628096b"
      },
      "source": [
        "y_seq_t.size()"
      ],
      "execution_count": 22,
      "outputs": [
        {
          "output_type": "execute_result",
          "data": {
            "text/plain": [
              "torch.Size([450, 40])"
            ]
          },
          "metadata": {
            "tags": []
          },
          "execution_count": 22
        }
      ]
    },
    {
      "cell_type": "code",
      "metadata": {
        "id": "JXwbTbDUuiIn",
        "colab_type": "code",
        "colab": {}
      },
      "source": [
        "y_seq_t = y_seq_t.permute(1,0)\n",
        "y_target_t = y_target_t.permute(1,0)"
      ],
      "execution_count": 23,
      "outputs": []
    },
    {
      "cell_type": "code",
      "metadata": {
        "id": "M40Zs3Rn_G0c",
        "colab_type": "code",
        "colab": {
          "base_uri": "https://localhost:8080/",
          "height": 34
        },
        "outputId": "fd2090af-dba5-42f1-816d-a5628a9f9c30"
      },
      "source": [
        "y_seq_t.size()"
      ],
      "execution_count": 24,
      "outputs": [
        {
          "output_type": "execute_result",
          "data": {
            "text/plain": [
              "torch.Size([40, 450])"
            ]
          },
          "metadata": {
            "tags": []
          },
          "execution_count": 24
        }
      ]
    },
    {
      "cell_type": "code",
      "metadata": {
        "id": "3my4IS1w_Kkp",
        "colab_type": "code",
        "colab": {}
      },
      "source": [
        "y_seq_t = y_seq_t.unsqueeze(dim = -1)\n",
        "y_target_t = y_target_t.unsqueeze(dim=-1)"
      ],
      "execution_count": 25,
      "outputs": []
    },
    {
      "cell_type": "code",
      "metadata": {
        "id": "NQMfvSmT_ccD",
        "colab_type": "code",
        "colab": {
          "base_uri": "https://localhost:8080/",
          "height": 34
        },
        "outputId": "46cf9930-26be-4dc9-df62-2cc69a34a8d1"
      },
      "source": [
        "y_seq_t.size()"
      ],
      "execution_count": 26,
      "outputs": [
        {
          "output_type": "execute_result",
          "data": {
            "text/plain": [
              "torch.Size([40, 450, 1])"
            ]
          },
          "metadata": {
            "tags": []
          },
          "execution_count": 26
        }
      ]
    },
    {
      "cell_type": "code",
      "metadata": {
        "id": "JQnl2q0x_gpT",
        "colab_type": "code",
        "colab": {
          "base_uri": "https://localhost:8080/",
          "height": 207
        },
        "outputId": "c3adc365-9ee1-4714-f371-7b307861899c"
      },
      "source": [
        "num_epochs = 80\n",
        "losses = []\n",
        "for epoch in range(num_epochs):\n",
        "    optimizer.zero_grad()\n",
        "    output = model(y_seq_t)\n",
        "    loss  = criterion(output, y_target_t)\n",
        "    loss.backward()\n",
        "    losses.append(loss.item())\n",
        "    optimizer.step()\n",
        "    if epoch % 10 == 0:\n",
        "        print(\"epoch:{}, loss:{}\".format(epoch, loss.item()))"
      ],
      "execution_count": 27,
      "outputs": [
        {
          "output_type": "stream",
          "text": [
            "/usr/local/lib/python3.6/dist-packages/torch/nn/modules/loss.py:445: UserWarning: Using a target size (torch.Size([1, 450, 1])) that is different to the input size (torch.Size([450, 1])). This will likely lead to incorrect results due to broadcasting. Please ensure they have the same size.\n",
            "  return F.mse_loss(input, target, reduction=self.reduction)\n"
          ],
          "name": "stderr"
        },
        {
          "output_type": "stream",
          "text": [
            "epoch:0, loss:0.5003932118415833\n",
            "epoch:10, loss:0.38159024715423584\n",
            "epoch:20, loss:0.2347850501537323\n",
            "epoch:30, loss:0.06471124291419983\n",
            "epoch:40, loss:0.009307235479354858\n",
            "epoch:50, loss:0.006490626372396946\n",
            "epoch:60, loss:0.0018956561107188463\n",
            "epoch:70, loss:0.0010800592135637999\n"
          ],
          "name": "stdout"
        }
      ]
    },
    {
      "cell_type": "code",
      "metadata": {
        "id": "F7aIKkd4BNyM",
        "colab_type": "code",
        "colab": {
          "base_uri": "https://localhost:8080/",
          "height": 282
        },
        "outputId": "7ebeaceb-79fd-49f6-a664-dc51bc9dc2de"
      },
      "source": [
        "plt.plot(losses)"
      ],
      "execution_count": 28,
      "outputs": [
        {
          "output_type": "execute_result",
          "data": {
            "text/plain": [
              "[<matplotlib.lines.Line2D at 0x7f7271bf3be0>]"
            ]
          },
          "metadata": {
            "tags": []
          },
          "execution_count": 28
        },
        {
          "output_type": "display_data",
          "data": {
            "image/png": "[encoded data removed]",
            "text/plain": [
              "<Figure size 432x288 with 1 Axes>"
            ]
          },
          "metadata": {
            "tags": [],
            "needs_background": "light"
          }
        }
      ]
    },
    {
      "cell_type": "code",
      "metadata": {
        "id": "evhwbFSvBaqh",
        "colab_type": "code",
        "colab": {}
      },
      "source": [
        "y_seq_test_t = torch.FloatTensor(y_seq_test)\n",
        "y_seq_test_t = y_seq_test_t.permute(1,0)\n",
        "y_seq_test_t = y_seq_test_t.unsqueeze(dim=-1)"
      ],
      "execution_count": 31,
      "outputs": []
    },
    {
      "cell_type": "code",
      "metadata": {
        "id": "HWPtR8RLB6le",
        "colab_type": "code",
        "colab": {
          "base_uri": "https://localhost:8080/",
          "height": 34
        },
        "outputId": "110a2ac0-5c7f-4784-c204-a138b76e575d"
      },
      "source": [
        "y_seq_test_t.size()"
      ],
      "execution_count": 32,
      "outputs": [
        {
          "output_type": "execute_result",
          "data": {
            "text/plain": [
              "torch.Size([40, 10, 1])"
            ]
          },
          "metadata": {
            "tags": []
          },
          "execution_count": 32
        }
      ]
    },
    {
      "cell_type": "code",
      "metadata": {
        "id": "f8Ac_ixACB3c",
        "colab_type": "code",
        "colab": {}
      },
      "source": [
        "y_pred = model(y_seq_test_t)"
      ],
      "execution_count": 33,
      "outputs": []
    },
    {
      "cell_type": "code",
      "metadata": {
        "id": "oJaXpT55CGXe",
        "colab_type": "code",
        "colab": {
          "base_uri": "https://localhost:8080/",
          "height": 34
        },
        "outputId": "20f2fdec-8667-40fb-8d66-6bb9f48fcbc6"
      },
      "source": [
        "y_pred.size()"
      ],
      "execution_count": 34,
      "outputs": [
        {
          "output_type": "execute_result",
          "data": {
            "text/plain": [
              "torch.Size([10, 1])"
            ]
          },
          "metadata": {
            "tags": []
          },
          "execution_count": 34
        }
      ]
    },
    {
      "cell_type": "code",
      "metadata": {
        "id": "gL-9RbWRCHvv",
        "colab_type": "code",
        "colab": {
          "base_uri": "https://localhost:8080/",
          "height": 282
        },
        "outputId": "d2fdd35f-0391-4033-95b6-84bdbc33b4a4"
      },
      "source": [
        "plt.plot(x, y)\n",
        "plt.plot(np.arange(490, 500), y_pred.detach())\n",
        "plt.xlim([450, 500])"
      ],
      "execution_count": 35,
      "outputs": [
        {
          "output_type": "execute_result",
          "data": {
            "text/plain": [
              "(450.0, 500.0)"
            ]
          },
          "metadata": {
            "tags": []
          },
          "execution_count": 35
        },
        {
          "output_type": "display_data",
          "data": {
            "image/png": "[encoded data removed]",
            "text/plain": [
              "<Figure size 432x288 with 1 Axes>"
            ]
          },
          "metadata": {
            "tags": [],
            "needs_background": "light"
          }
        }
      ]
    },
    {
      "cell_type": "code",
      "metadata": {
        "id": "c2GaTHkeCW_r",
        "colab_type": "code",
        "colab": {}
      },
      "source": [
        ""
      ],
      "execution_count": null,
      "outputs": []
    }
  ]
}