{
  "nbformat": 4,
  "nbformat_minor": 0,
  "metadata": {
    "colab": {
      "name": "Udemy_pytorch_Linear_regression.ipynb",
      "provenance": [],
      "collapsed_sections": [],
      "authorship_tag": "ABX9TyO7KR8Vbn5kTCqsKzdSyKiU",
      "include_colab_link": true
    },
    "kernelspec": {
      "name": "python3",
      "display_name": "Python 3"
    }
  },
  "cells": [
    {
      "cell_type": "markdown",
      "metadata": {
        "id": "view-in-github",
        "colab_type": "text"
      },
      "source": [
        "<a href=\"https://colab.research.google.com/github/nekotanku/colab/blob/master/Udemy_pytorch_Linear_regression.ipynb\" target=\"_parent\"><img src=\"https://colab.research.google.com/assets/colab-badge.svg\" alt=\"Open In Colab\"/></a>"
      ]
    },
    {
      "cell_type": "code",
      "metadata": {
        "id": "C1RY98kugFzy",
        "colab_type": "code",
        "colab": {}
      },
      "source": [
        "import torch\n",
        "import torch.nn as nn\n",
        "import torch.optim as optim\n",
        "import matplotlib.pyplot as plt\n",
        "import numpy as np\n",
        "%matplotlib inline\n",
        "plt.style.use(\"ggplot\")"
      ],
      "execution_count": 3,
      "outputs": []
    },
    {
      "cell_type": "code",
      "metadata": {
        "id": "8skEKENGgin4",
        "colab_type": "code",
        "colab": {
          "base_uri": "https://localhost:8080/",
          "height": 34
        },
        "outputId": "99784ff6-b6b8-45a5-a25b-df97ea36a981"
      },
      "source": [
        "torch.manual_seed(123)"
      ],
      "execution_count": 4,
      "outputs": [
        {
          "output_type": "execute_result",
          "data": {
            "text/plain": [
              "<torch._C.Generator at 0x7ff3aa65dde0>"
            ]
          },
          "metadata": {
            "tags": []
          },
          "execution_count": 4
        }
      ]
    },
    {
      "cell_type": "code",
      "metadata": {
        "id": "L7WSB1TAg8Yz",
        "colab_type": "code",
        "colab": {}
      },
      "source": [
        "#データ作成\n",
        "a = 3\n",
        "b = 2\n",
        "#view(バッチの次元, 入力データの次元)の順になる\n",
        "x = torch.linspace(0, 5, 100).view(100, 1)\n"
      ],
      "execution_count": 5,
      "outputs": []
    },
    {
      "cell_type": "code",
      "metadata": {
        "id": "djvp_l41hK4Z",
        "colab_type": "code",
        "colab": {}
      },
      "source": [
        "eps = torch.randn(100, 1)\n",
        "y = a * x + b + eps"
      ],
      "execution_count": 6,
      "outputs": []
    },
    {
      "cell_type": "code",
      "metadata": {
        "id": "okfsc3CnhVQO",
        "colab_type": "code",
        "colab": {
          "base_uri": "https://localhost:8080/",
          "height": 283
        },
        "outputId": "08468b67-319f-466c-aada-35efe8fd0107"
      },
      "source": [
        "plt.scatter(x, y)"
      ],
      "execution_count": 7,
      "outputs": [
        {
          "output_type": "execute_result",
          "data": {
            "text/plain": [
              "<matplotlib.collections.PathCollection at 0x7ff35f950400>"
            ]
          },
          "metadata": {
            "tags": []
          },
          "execution_count": 7
        },
        {
          "output_type": "display_data",
          "data": {
            "image/png": "[encoded data removed]",
            "text/plain": [
              "<Figure size 432x288 with 1 Axes>"
            ]
          },
          "metadata": {
            "tags": []
          }
        }
      ]
    },
    {
      "cell_type": "code",
      "metadata": {
        "id": "QzMIcGSHiJy_",
        "colab_type": "code",
        "colab": {}
      },
      "source": [
        "#モデルの定義\n",
        "class LR(nn.Module):\n",
        "    def __init__(self):\n",
        "        super().__init__()\n",
        "        self.linear = nn.Linear(in_features=1, out_features=1)\n",
        "    \n",
        "    def forward(self, x):\n",
        "        output = self.linear(x)\n",
        "        return output"
      ],
      "execution_count": 8,
      "outputs": []
    },
    {
      "cell_type": "code",
      "metadata": {
        "id": "UvIBAdXFi5Be",
        "colab_type": "code",
        "colab": {}
      },
      "source": [
        "#インスタンス作成\n",
        "model = LR()"
      ],
      "execution_count": 9,
      "outputs": []
    },
    {
      "cell_type": "code",
      "metadata": {
        "id": "FLGEFk9ki-JA",
        "colab_type": "code",
        "colab": {}
      },
      "source": [
        "#テストデータで検証\n",
        "x_test = torch.tensor([[1.0], [2.0]])"
      ],
      "execution_count": 13,
      "outputs": []
    },
    {
      "cell_type": "code",
      "metadata": {
        "id": "IY6WMBmujHhU",
        "colab_type": "code",
        "colab": {
          "base_uri": "https://localhost:8080/",
          "height": 51
        },
        "outputId": "c942842f-5bb6-4e77-8a32-dbd99db22fd3"
      },
      "source": [
        "model(x_test)"
      ],
      "execution_count": 14,
      "outputs": [
        {
          "output_type": "execute_result",
          "data": {
            "text/plain": [
              "tensor([[-0.6505],\n",
              "        [-1.4166]], grad_fn=<AddmmBackward>)"
            ]
          },
          "metadata": {
            "tags": []
          },
          "execution_count": 14
        }
      ]
    },
    {
      "cell_type": "code",
      "metadata": {
        "id": "hiEvTmjVjN9C",
        "colab_type": "code",
        "colab": {
          "base_uri": "https://localhost:8080/",
          "height": 34
        },
        "outputId": "dec4f9b0-e323-459e-9cb3-bd6cda15e735"
      },
      "source": [
        "x2 = torch.linspace(0, 3, 100).view(100, 1)\n",
        "x2.size()"
      ],
      "execution_count": 16,
      "outputs": [
        {
          "output_type": "execute_result",
          "data": {
            "text/plain": [
              "torch.Size([100, 1])"
            ]
          },
          "metadata": {
            "tags": []
          },
          "execution_count": 16
        }
      ]
    },
    {
      "cell_type": "code",
      "metadata": {
        "id": "12xNr1eDjxq6",
        "colab_type": "code",
        "colab": {}
      },
      "source": [
        "y_pred = model(x2)"
      ],
      "execution_count": 17,
      "outputs": []
    },
    {
      "cell_type": "code",
      "metadata": {
        "id": "QcRoTYnvj3E1",
        "colab_type": "code",
        "colab": {
          "base_uri": "https://localhost:8080/",
          "height": 282
        },
        "outputId": "fae7d3c2-3dc6-4dfb-a4cc-e3a1af0c5358"
      },
      "source": [
        "#モデル作成時にネットワークができていて勾配を計算してしまうのでグラフを書くときはdetachで勾配計算しないようにする\n",
        "plt.plot(x2, y_pred.detach(), label=\"prediction\")\n",
        "plt.scatter(x, y, label=\"data\")\n",
        "plt.legend()"
      ],
      "execution_count": 18,
      "outputs": [
        {
          "output_type": "execute_result",
          "data": {
            "text/plain": [
              "<matplotlib.legend.Legend at 0x7ff35d9d4518>"
            ]
          },
          "metadata": {
            "tags": []
          },
          "execution_count": 18
        },
        {
          "output_type": "display_data",
          "data": {
            "image/png": "[encoded data removed]",
            "text/plain": [
              "<Figure size 432x288 with 1 Axes>"
            ]
          },
          "metadata": {
            "tags": []
          }
        }
      ]
    },
    {
      "cell_type": "code",
      "metadata": {
        "id": "UCwOzxrNkMFC",
        "colab_type": "code",
        "colab": {}
      },
      "source": [
        "#損失関数\n",
        "criterion = nn.MSELoss()\n",
        "#オプティマイザ\n",
        "optimizer = optim.SGD(model.parameters(), lr=0.001)"
      ],
      "execution_count": 21,
      "outputs": []
    },
    {
      "cell_type": "code",
      "metadata": {
        "id": "c9Pg9n2BkqNM",
        "colab_type": "code",
        "colab": {
          "base_uri": "https://localhost:8080/",
          "height": 867
        },
        "outputId": "293a6cd2-c6ce-47c9-ef65-4f8e99bf7b6b"
      },
      "source": [
        "losses = []\n",
        "num_epoch = 500\n",
        "for epoch in range(num_epoch):\n",
        "    optimizer.zero_grad()\n",
        "    y_pred =model(x)\n",
        "    loss = criterion(y_pred, y)\n",
        "    loss.backward()\n",
        "    optimizer.step()\n",
        "    if epoch % 10 == 0:\n",
        "        print(\"epoch: {}, loss:{}\".format(epoch, loss.item()))\n",
        "        losses.append(loss.item())"
      ],
      "execution_count": 24,
      "outputs": [
        {
          "output_type": "stream",
          "text": [
            "epoch: 0, loss:156.7843017578125\n",
            "epoch: 10, loss:108.74256896972656\n",
            "epoch: 20, loss:75.52831268310547\n",
            "epoch: 30, loss:52.56507873535156\n",
            "epoch: 40, loss:36.68894958496094\n",
            "epoch: 50, loss:25.712501525878906\n",
            "epoch: 60, loss:18.12348175048828\n",
            "epoch: 70, loss:12.876379013061523\n",
            "epoch: 80, loss:9.248371124267578\n",
            "epoch: 90, loss:6.7397308349609375\n",
            "epoch: 100, loss:5.004981517791748\n",
            "epoch: 110, loss:3.805262804031372\n",
            "epoch: 120, loss:2.9754462242126465\n",
            "epoch: 130, loss:2.4013638496398926\n",
            "epoch: 140, loss:2.0040884017944336\n",
            "epoch: 150, loss:1.7290520668029785\n",
            "epoch: 160, loss:1.5385340452194214\n",
            "epoch: 170, loss:1.406448245048523\n",
            "epoch: 180, loss:1.3147624731063843\n",
            "epoch: 190, loss:1.2510122060775757\n",
            "epoch: 200, loss:1.206579566001892\n",
            "epoch: 210, loss:1.1755024194717407\n",
            "epoch: 220, loss:1.1536648273468018\n",
            "epoch: 230, loss:1.1382170915603638\n",
            "epoch: 240, loss:1.127191185951233\n",
            "epoch: 250, loss:1.1192246675491333\n",
            "epoch: 260, loss:1.1133769750595093\n",
            "epoch: 270, loss:1.1089967489242554\n",
            "epoch: 280, loss:1.1056344509124756\n",
            "epoch: 290, loss:1.102979063987732\n",
            "epoch: 300, loss:1.1008155345916748\n",
            "epoch: 310, loss:1.0989948511123657\n",
            "epoch: 320, loss:1.0974143743515015\n",
            "epoch: 330, loss:1.0960028171539307\n",
            "epoch: 340, loss:1.0947110652923584\n",
            "epoch: 350, loss:1.0935051441192627\n",
            "epoch: 360, loss:1.092361330986023\n",
            "epoch: 370, loss:1.0912634134292603\n",
            "epoch: 380, loss:1.0901999473571777\n",
            "epoch: 390, loss:1.0891634225845337\n",
            "epoch: 400, loss:1.0881479978561401\n",
            "epoch: 410, loss:1.0871498584747314\n",
            "epoch: 420, loss:1.086166501045227\n",
            "epoch: 430, loss:1.085196614265442\n",
            "epoch: 440, loss:1.084237813949585\n",
            "epoch: 450, loss:1.0832899808883667\n",
            "epoch: 460, loss:1.0823521614074707\n",
            "epoch: 470, loss:1.0814239978790283\n",
            "epoch: 480, loss:1.0805050134658813\n",
            "epoch: 490, loss:1.0795948505401611\n"
          ],
          "name": "stdout"
        }
      ]
    },
    {
      "cell_type": "code",
      "metadata": {
        "id": "m2tgro3BlsZf",
        "colab_type": "code",
        "colab": {
          "base_uri": "https://localhost:8080/",
          "height": 282
        },
        "outputId": "c41d466f-e84e-4d9d-86aa-b9aaa301bd05"
      },
      "source": [
        "plt.plot(losses)"
      ],
      "execution_count": 25,
      "outputs": [
        {
          "output_type": "execute_result",
          "data": {
            "text/plain": [
              "[<matplotlib.lines.Line2D at 0x7ff35d8ba978>]"
            ]
          },
          "metadata": {
            "tags": []
          },
          "execution_count": 25
        },
        {
          "output_type": "display_data",
          "data": {
            "image/png": "[encoded data removed]",
            "text/plain": [
              "<Figure size 432x288 with 1 Axes>"
            ]
          },
          "metadata": {
            "tags": []
          }
        }
      ]
    },
    {
      "cell_type": "code",
      "metadata": {
        "id": "dRLihLxel7z2",
        "colab_type": "code",
        "colab": {
          "base_uri": "https://localhost:8080/",
          "height": 283
        },
        "outputId": "1c196a5b-d64e-43e8-e94b-7130922bf505"
      },
      "source": [
        "x_test = torch.linspace(0 ,5, 100).view(100, 1)\n",
        "y_test = model(x_test)\n",
        "plt.plot(x_test, y_test.detach(), label=\"prediction\")\n",
        "plt.scatter(x, y, label=\"data\")\n",
        "plt.legend()"
      ],
      "execution_count": 26,
      "outputs": [
        {
          "output_type": "execute_result",
          "data": {
            "text/plain": [
              "<matplotlib.legend.Legend at 0x7ff35d8a5198>"
            ]
          },
          "metadata": {
            "tags": []
          },
          "execution_count": 26
        },
        {
          "output_type": "display_data",
          "data": {
            "image/png": "[encoded data removed]",
            "text/plain": [
              "<Figure size 432x288 with 1 Axes>"
            ]
          },
          "metadata": {
            "tags": []
          }
        }
      ]
    },
    {
      "cell_type": "code",
      "metadata": {
        "id": "mZkChOfUmeUU",
        "colab_type": "code",
        "colab": {}
      },
      "source": [
        ""
      ],
      "execution_count": null,
      "outputs": []
    }
  ]
}