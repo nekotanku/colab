{
  "nbformat": 4,
  "nbformat_minor": 0,
  "metadata": {
    "colab": {
      "name": "Udemy_pytorch_MLP.ipynb",
      "provenance": [],
      "authorship_tag": "ABX9TyMW0q5fJMXA7DzBq7x8BE9j",
      "include_colab_link": true
    },
    "kernelspec": {
      "name": "python3",
      "display_name": "Python 3"
    },
    "accelerator": "GPU"
  },
  "cells": [
    {
      "cell_type": "markdown",
      "metadata": {
        "id": "view-in-github",
        "colab_type": "text"
      },
      "source": [
        "<a href=\"https://colab.research.google.com/github/nekotanku/colab/blob/master/Udemy_pytorch_MLP.ipynb\" target=\"_parent\"><img src=\"https://colab.research.google.com/assets/colab-badge.svg\" alt=\"Open In Colab\"/></a>"
      ]
    },
    {
      "cell_type": "code",
      "metadata": {
        "id": "NjEeXKtFm0OP",
        "colab_type": "code",
        "colab": {
          "base_uri": "https://localhost:8080/",
          "height": 51
        },
        "outputId": "777ce8fb-2557-4185-8f05-5dd2237299e4"
      },
      "source": [
        "import torch\n",
        "import torch.nn as nn\n",
        "import torch.optim as optim\n",
        "import numpy as np\n",
        "import matplotlib.pyplot as plt\n",
        "import seaborn as sns\n",
        "from torchvision import datasets, transforms\n",
        "from torch.utils.data import DataLoader "
      ],
      "execution_count": 1,
      "outputs": [
        {
          "output_type": "stream",
          "text": [
            "/usr/local/lib/python3.6/dist-packages/statsmodels/tools/_testing.py:19: FutureWarning: pandas.util.testing is deprecated. Use the functions in the public API at pandas.testing instead.\n",
            "  import pandas.util.testing as tm\n"
          ],
          "name": "stderr"
        }
      ]
    },
    {
      "cell_type": "code",
      "metadata": {
        "id": "qCKm-A5HtPbW",
        "colab_type": "code",
        "colab": {
          "base_uri": "https://localhost:8080/",
          "height": 35
        },
        "outputId": "4633d1d9-d749-40b7-aa36-50d6b5591cdf"
      },
      "source": [
        "#GPUの設定\n",
        "device = \"cuda\" if torch.cuda.is_available() else \"cpu\"\n",
        "device"
      ],
      "execution_count": 2,
      "outputs": [
        {
          "output_type": "execute_result",
          "data": {
            "application/vnd.google.colaboratory.intrinsic+json": {
              "type": "string"
            },
            "text/plain": [
              "'cuda'"
            ]
          },
          "metadata": {
            "tags": []
          },
          "execution_count": 2
        }
      ]
    },
    {
      "cell_type": "code",
      "metadata": {
        "id": "QG5y3aJUuAL9",
        "colab_type": "code",
        "colab": {}
      },
      "source": [
        "#前処理\n",
        "#ToTensor:画像をchannel Firstに変換、0~255 => 0~1.0のfloatに変換\n",
        "transform = transforms.Compose([transforms.ToTensor()])\n",
        "#Dataset用意\n",
        "#root=>カレントディレクトリの下にdataディレクトリが作成されてそこにMNISTのdatasetがダウンロードされてくる\n",
        "train_dataset = datasets.MNIST(root=\"./data\", train=True, download=True, transform=transform)"
      ],
      "execution_count": 3,
      "outputs": []
    },
    {
      "cell_type": "code",
      "metadata": {
        "id": "oQQxSnGMv_Ld",
        "colab_type": "code",
        "colab": {}
      },
      "source": [
        "#ミニバッチ数設定\n",
        "num_batches = 100"
      ],
      "execution_count": 4,
      "outputs": []
    },
    {
      "cell_type": "code",
      "metadata": {
        "id": "L4IjueaHwFi0",
        "colab_type": "code",
        "colab": {}
      },
      "source": [
        "#dataloaderを作成\n",
        "train_dataloader = DataLoader(train_dataset, batch_size=num_batches, shuffle=True)"
      ],
      "execution_count": 5,
      "outputs": []
    },
    {
      "cell_type": "code",
      "metadata": {
        "id": "FMtAjT85wOnZ",
        "colab_type": "code",
        "colab": {}
      },
      "source": [
        "#100個画像をとってきてみてみる\n",
        "train_iter = iter(train_dataloader)\n",
        "imgs, labels = train_iter.next()"
      ],
      "execution_count": 6,
      "outputs": []
    },
    {
      "cell_type": "code",
      "metadata": {
        "id": "RP0cV7Hpw1UB",
        "colab_type": "code",
        "colab": {
          "base_uri": "https://localhost:8080/",
          "height": 34
        },
        "outputId": "99d4395b-7552-4e56-aaf9-8c99d2e02022"
      },
      "source": [
        "#torch.Size([バッチサイズ, channel, H, W])\n",
        "imgs.size()"
      ],
      "execution_count": 7,
      "outputs": [
        {
          "output_type": "execute_result",
          "data": {
            "text/plain": [
              "torch.Size([100, 1, 28, 28])"
            ]
          },
          "metadata": {
            "tags": []
          },
          "execution_count": 7
        }
      ]
    },
    {
      "cell_type": "code",
      "metadata": {
        "id": "8yM63-1iw34J",
        "colab_type": "code",
        "colab": {
          "base_uri": "https://localhost:8080/",
          "height": 102
        },
        "outputId": "e84f9d95-2a64-4288-dddb-cd60a01470a9"
      },
      "source": [
        "#教師データ\n",
        "labels"
      ],
      "execution_count": 8,
      "outputs": [
        {
          "output_type": "execute_result",
          "data": {
            "text/plain": [
              "tensor([3, 5, 9, 4, 6, 7, 5, 9, 2, 6, 0, 5, 0, 1, 4, 3, 8, 8, 6, 4, 2, 2, 6, 1,\n",
              "        0, 8, 8, 5, 1, 9, 0, 2, 7, 0, 8, 8, 4, 6, 4, 0, 9, 6, 8, 5, 6, 2, 7, 1,\n",
              "        0, 4, 4, 5, 3, 3, 2, 6, 5, 6, 1, 6, 1, 1, 1, 1, 3, 4, 3, 5, 0, 2, 5, 3,\n",
              "        2, 9, 9, 1, 4, 2, 7, 1, 9, 3, 3, 6, 5, 7, 0, 7, 3, 5, 9, 3, 7, 7, 4, 4,\n",
              "        0, 1, 4, 1])"
            ]
          },
          "metadata": {
            "tags": []
          },
          "execution_count": 8
        }
      ]
    },
    {
      "cell_type": "code",
      "metadata": {
        "id": "5Smb88ZlxMbL",
        "colab_type": "code",
        "colab": {
          "base_uri": "https://localhost:8080/",
          "height": 286
        },
        "outputId": "f7f585ff-9434-4072-f40f-df612a4fcae5"
      },
      "source": [
        "#画像を１つだけ持ってくる\n",
        "img = imgs[0]\n",
        "#配列を変更\n",
        "img_permute = img.permute(1, 2, 0)\n",
        "#heatmapで図示(tensorクラスから変更、二次元に変更)\n",
        "sns.heatmap(img_permute[:,:,0])"
      ],
      "execution_count": 10,
      "outputs": [
        {
          "output_type": "execute_result",
          "data": {
            "text/plain": [
              "<matplotlib.axes._subplots.AxesSubplot at 0x7ff8bd6abd30>"
            ]
          },
          "metadata": {
            "tags": []
          },
          "execution_count": 10
        },
        {
          "output_type": "display_data",
          "data": {
            "image/png": "[encoded data removed]",
            "text/plain": [
              "<Figure size 432x288 with 2 Axes>"
            ]
          },
          "metadata": {
            "tags": [],
            "needs_background": "light"
          }
        }
      ]
    },
    {
      "cell_type": "code",
      "metadata": {
        "id": "-qElxGNhxVg-",
        "colab_type": "code",
        "colab": {
          "base_uri": "https://localhost:8080/",
          "height": 34
        },
        "outputId": "56dece68-c1d2-4269-f3d6-c956634ac333"
      },
      "source": [
        "labels[0]"
      ],
      "execution_count": 11,
      "outputs": [
        {
          "output_type": "execute_result",
          "data": {
            "text/plain": [
              "tensor(3)"
            ]
          },
          "metadata": {
            "tags": []
          },
          "execution_count": 11
        }
      ]
    },
    {
      "cell_type": "code",
      "metadata": {
        "id": "EoYKL_moy6uv",
        "colab_type": "code",
        "colab": {}
      },
      "source": [
        "class MLP(nn.Module):\n",
        "    #NNモデル構築\n",
        "    def __init__(self):\n",
        "        super().__init__()\n",
        "        self.classifier = nn.Sequential(\n",
        "            nn.Linear(28 * 28, 400),\n",
        "            #inplace:メモリが少し節約できる\n",
        "            nn.ReLU(inplace=True),\n",
        "            nn.Linear(400, 200),\n",
        "            nn.ReLU(inplace=True),\n",
        "            nn.Linear(200, 100),\n",
        "            nn.ReLU(inplace=True),\n",
        "            nn.Linear(100, 10)\n",
        "        )\n",
        "    #順伝播\n",
        "    def forward(self, x):\n",
        "        output = self.classifier(x)\n",
        "        return output"
      ],
      "execution_count": 12,
      "outputs": []
    },
    {
      "cell_type": "code",
      "metadata": {
        "id": "-Je2awi60P_-",
        "colab_type": "code",
        "colab": {
          "base_uri": "https://localhost:8080/",
          "height": 204
        },
        "outputId": "ebe7a9a7-8d28-441b-a9cc-c3b55cfc1e45"
      },
      "source": [
        "#modelのインスタンス化\n",
        "model = MLP()\n",
        "#GPUを使う設定(モデルをGPUに送る)\n",
        "model.to(device)"
      ],
      "execution_count": 15,
      "outputs": [
        {
          "output_type": "execute_result",
          "data": {
            "text/plain": [
              "MLP(\n",
              "  (classifier): Sequential(\n",
              "    (0): Linear(in_features=784, out_features=400, bias=True)\n",
              "    (1): ReLU(inplace=True)\n",
              "    (2): Linear(in_features=400, out_features=200, bias=True)\n",
              "    (3): ReLU(inplace=True)\n",
              "    (4): Linear(in_features=200, out_features=100, bias=True)\n",
              "    (5): ReLU(inplace=True)\n",
              "    (6): Linear(in_features=100, out_features=10, bias=True)\n",
              "  )\n",
              ")"
            ]
          },
          "metadata": {
            "tags": []
          },
          "execution_count": 15
        }
      ]
    },
    {
      "cell_type": "code",
      "metadata": {
        "id": "XsLAFyvM0cY8",
        "colab_type": "code",
        "colab": {
          "base_uri": "https://localhost:8080/",
          "height": 255
        },
        "outputId": "2e771b8f-fd0f-4cd4-abe0-67223aa876ba"
      },
      "source": [
        "#学習\n",
        "#損失関数\n",
        "criterion = nn.CrossEntropyLoss()\n",
        "#optimizer\n",
        "optimizer = optim.Adam(model.parameters(), lr=0.001)\n",
        "\n",
        "\n",
        "#学習ループ\n",
        "num_epochs = 15\n",
        "losses = []\n",
        "acc = []\n",
        "for epoch in range(num_epochs):\n",
        "    #lossとaccをためておくところを設定\n",
        "    running_loss = 0.0\n",
        "    running_acc = 0.0\n",
        "    for imgs, labels in train_dataloader:\n",
        "        #1次元に変換\n",
        "        imgs = imgs.view(num_batches, -1)\n",
        "        #GPUに画像とラベルを送る\n",
        "        imgs = imgs.to(device)\n",
        "        labels = labels.to(device)\n",
        "        #optimizerの初期化\n",
        "        optimizer.zero_grad()\n",
        "        #outputの計算\n",
        "        output = model(imgs)\n",
        "        #lossの計算\n",
        "        loss = criterion(output, labels)\n",
        "        #lossをrunning_lossに加える\n",
        "        running_loss += loss.item()\n",
        "        #精度の計算\n",
        "        pred = torch.argmax(output, dim=1)\n",
        "        running_acc += torch.mean(pred.eq(labels).float())\n",
        "        #誤差逆伝播\n",
        "        loss.backward()\n",
        "        #重みの更新\n",
        "        optimizer.step()\n",
        "    running_loss /= len(train_dataloader)\n",
        "    running_acc /= len(train_dataloader)\n",
        "    losses.append(running_loss)\n",
        "    acc.append(running_acc)\n",
        "    print(\"epoch:{}, loss: {}, acc: {}\".format(epoch, running_loss, running_acc))"
      ],
      "execution_count": 20,
      "outputs": [
        {
          "output_type": "stream",
          "text": [
            "epoch:0, loss: 0.3374006025058528, acc: 0.9039673805236816\n",
            "epoch:1, loss: 0.1293360298095892, acc: 0.9600166082382202\n",
            "epoch:2, loss: 0.08540598858458301, acc: 0.9733991622924805\n",
            "epoch:4, loss: 0.0480080445970331, acc: 0.9850653409957886\n",
            "epoch:5, loss: 0.037838717141033464, acc: 0.9881487488746643\n",
            "epoch:6, loss: 0.02886517921006695, acc: 0.9905150532722473\n",
            "epoch:7, loss: 0.02742337913941204, acc: 0.9907650947570801\n",
            "epoch:8, loss: 0.020716385885267908, acc: 0.9933648109436035\n",
            "epoch:9, loss: 0.019052266220363285, acc: 0.9938149452209473\n",
            "epoch:10, loss: 0.01768095098082995, acc: 0.9940982460975647\n",
            "epoch:11, loss: 0.017140608706601293, acc: 0.9945650696754456\n",
            "epoch:12, loss: 0.011183907684699079, acc: 0.996565580368042\n",
            "epoch:13, loss: 0.01307751109500714, acc: 0.9956320524215698\n",
            "epoch:14, loss: 0.013606156668878005, acc: 0.9958488345146179\n"
          ],
          "name": "stdout"
        }
      ]
    },
    {
      "cell_type": "code",
      "metadata": {
        "id": "oOKwnxrN4PKf",
        "colab_type": "code",
        "colab": {
          "base_uri": "https://localhost:8080/",
          "height": 284
        },
        "outputId": "7f7249d9-78fe-465c-9d12-dd7bae551668"
      },
      "source": [
        "plt.plot(losses)"
      ],
      "execution_count": 21,
      "outputs": [
        {
          "output_type": "execute_result",
          "data": {
            "text/plain": [
              "[<matplotlib.lines.Line2D at 0x7ff8b67c8b70>]"
            ]
          },
          "metadata": {
            "tags": []
          },
          "execution_count": 21
        },
        {
          "output_type": "display_data",
          "data": {
            "image/png": "[encoded data removed]",
            "text/plain": [
              "<Figure size 432x288 with 1 Axes>"
            ]
          },
          "metadata": {
            "tags": [],
            "needs_background": "light"
          }
        }
      ]
    },
    {
      "cell_type": "code",
      "metadata": {
        "id": "FUC3Ol7H4zYL",
        "colab_type": "code",
        "colab": {
          "base_uri": "https://localhost:8080/",
          "height": 284
        },
        "outputId": "3c1ef372-0944-4c0f-a013-9c0e26bc4e21"
      },
      "source": [
        "plt.plot(acc)"
      ],
      "execution_count": 23,
      "outputs": [
        {
          "output_type": "execute_result",
          "data": {
            "text/plain": [
              "[<matplotlib.lines.Line2D at 0x7ff8b67bb898>]"
            ]
          },
          "metadata": {
            "tags": []
          },
          "execution_count": 23
        },
        {
          "output_type": "display_data",
          "data": {
            "image/png": "[encoded data removed]",
            "text/plain": [
              "<Figure size 432x288 with 1 Axes>"
            ]
          },
          "metadata": {
            "tags": [],
            "needs_background": "light"
          }
        }
      ]
    },
    {
      "cell_type": "code",
      "metadata": {
        "id": "t1y6HFVY6Yox",
        "colab_type": "code",
        "colab": {}
      },
      "source": [
        "#試しに分類\n",
        "train_iter = iter(train_dataloader)\n",
        "imgs, labels = train_iter.next()"
      ],
      "execution_count": 38,
      "outputs": []
    },
    {
      "cell_type": "code",
      "metadata": {
        "id": "03w-f8CC7hI8",
        "colab_type": "code",
        "colab": {
          "base_uri": "https://localhost:8080/",
          "height": 102
        },
        "outputId": "d9673c12-7cbe-4b3f-e471-ffea69633cc0"
      },
      "source": [
        "labels"
      ],
      "execution_count": 39,
      "outputs": [
        {
          "output_type": "execute_result",
          "data": {
            "text/plain": [
              "tensor([0, 1, 5, 6, 0, 5, 4, 5, 0, 4, 9, 9, 4, 2, 6, 9, 6, 3, 0, 3, 7, 4, 3, 1,\n",
              "        9, 4, 8, 0, 0, 2, 6, 9, 1, 5, 9, 9, 3, 9, 0, 1, 4, 8, 0, 1, 1, 6, 9, 9,\n",
              "        7, 3, 8, 7, 8, 1, 1, 8, 4, 0, 1, 1, 6, 1, 3, 7, 2, 1, 3, 3, 0, 6, 2, 6,\n",
              "        1, 9, 3, 2, 1, 6, 6, 4, 6, 2, 5, 2, 6, 1, 3, 1, 5, 5, 3, 1, 2, 6, 2, 3,\n",
              "        2, 5, 2, 2])"
            ]
          },
          "metadata": {
            "tags": []
          },
          "execution_count": 39
        }
      ]
    },
    {
      "cell_type": "code",
      "metadata": {
        "id": "FbUuPV1E630V",
        "colab_type": "code",
        "colab": {}
      },
      "source": [
        "imgs_gpu = imgs.view(100, -1).to(device)\n",
        "output  = model(imgs_gpu)"
      ],
      "execution_count": 40,
      "outputs": []
    },
    {
      "cell_type": "code",
      "metadata": {
        "id": "OC_p1faq7Jeb",
        "colab_type": "code",
        "colab": {}
      },
      "source": [
        "pred = torch.argmax(output, dim=1)"
      ],
      "execution_count": 41,
      "outputs": []
    },
    {
      "cell_type": "code",
      "metadata": {
        "id": "Y87itFsW7Nyd",
        "colab_type": "code",
        "colab": {
          "base_uri": "https://localhost:8080/",
          "height": 102
        },
        "outputId": "7995b811-49d7-480b-cf64-6cd64cfe3ff3"
      },
      "source": [
        "pred"
      ],
      "execution_count": 42,
      "outputs": [
        {
          "output_type": "execute_result",
          "data": {
            "text/plain": [
              "tensor([0, 1, 5, 6, 0, 5, 4, 5, 0, 4, 9, 9, 4, 2, 6, 9, 6, 3, 0, 3, 7, 4, 3, 1,\n",
              "        9, 4, 8, 0, 0, 2, 6, 9, 1, 5, 9, 9, 3, 9, 0, 1, 4, 8, 0, 1, 1, 6, 9, 9,\n",
              "        7, 3, 8, 7, 8, 1, 1, 8, 6, 0, 1, 1, 6, 1, 3, 7, 2, 1, 3, 3, 0, 6, 2, 6,\n",
              "        1, 9, 3, 2, 1, 6, 6, 4, 6, 2, 5, 2, 6, 1, 3, 1, 5, 5, 3, 1, 2, 6, 2, 3,\n",
              "        2, 5, 2, 2], device='cuda:0')"
            ]
          },
          "metadata": {
            "tags": []
          },
          "execution_count": 42
        }
      ]
    },
    {
      "cell_type": "code",
      "metadata": {
        "id": "P6et6vO_7OdG",
        "colab_type": "code",
        "colab": {}
      },
      "source": [
        "#パラメータを抜き出す\n",
        "params = model.state_dict()"
      ],
      "execution_count": 43,
      "outputs": []
    },
    {
      "cell_type": "code",
      "metadata": {
        "id": "llkjN6LH8dQp",
        "colab_type": "code",
        "colab": {}
      },
      "source": [
        "#modelの保存\n",
        "torch.save(params, \"model.prm\")"
      ],
      "execution_count": 44,
      "outputs": []
    },
    {
      "cell_type": "code",
      "metadata": {
        "id": "1LC0VmbL8kNt",
        "colab_type": "code",
        "colab": {
          "base_uri": "https://localhost:8080/",
          "height": 34
        },
        "outputId": "ad8f431e-6645-4ac9-eaf5-c0090645e6c8"
      },
      "source": [
        "#ファイルができたか確認\n",
        "!ls"
      ],
      "execution_count": 45,
      "outputs": [
        {
          "output_type": "stream",
          "text": [
            "data  model.prm  sample_data\n"
          ],
          "name": "stdout"
        }
      ]
    },
    {
      "cell_type": "code",
      "metadata": {
        "id": "BkTn8VrA8k6b",
        "colab_type": "code",
        "colab": {}
      },
      "source": [
        "#パラメータファイルのロード\n",
        "param_load = torch.load(\"model.prm\")"
      ],
      "execution_count": 46,
      "outputs": []
    },
    {
      "cell_type": "code",
      "metadata": {
        "id": "mdBJze9K8vNV",
        "colab_type": "code",
        "colab": {
          "base_uri": "https://localhost:8080/",
          "height": 34
        },
        "outputId": "f9c6dcd9-88e1-4e04-8376-2e214e324138"
      },
      "source": [
        "#モデルのロード\n",
        "model.load_state_dict(param_load)"
      ],
      "execution_count": 47,
      "outputs": [
        {
          "output_type": "execute_result",
          "data": {
            "text/plain": [
              "<All keys matched successfully>"
            ]
          },
          "metadata": {
            "tags": []
          },
          "execution_count": 47
        }
      ]
    },
    {
      "cell_type": "code",
      "metadata": {
        "id": "jaJUMtlv8zWG",
        "colab_type": "code",
        "colab": {}
      },
      "source": [
        ""
      ],
      "execution_count": null,
      "outputs": []
    }
  ]
}