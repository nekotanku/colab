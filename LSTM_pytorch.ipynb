{
  "nbformat": 4,
  "nbformat_minor": 0,
  "metadata": {
    "colab": {
      "name": "LSTM_pytorch.ipynb",
      "provenance": [],
      "authorship_tag": "ABX9TyOj9jXxIlMIJIQ9OgD47xZ3",
      "include_colab_link": true
    },
    "kernelspec": {
      "name": "python3",
      "display_name": "Python 3"
    }
  },
  "cells": [
    {
      "cell_type": "markdown",
      "metadata": {
        "id": "view-in-github",
        "colab_type": "text"
      },
      "source": [
        "<a href=\"https://colab.research.google.com/github/nekotanku/colab/blob/master/LSTM_pytorch.ipynb\" target=\"_parent\"><img src=\"https://colab.research.google.com/assets/colab-badge.svg\" alt=\"Open In Colab\"/></a>"
      ]
    },
    {
      "cell_type": "code",
      "metadata": {
        "id": "ALquIsdxvRpC",
        "colab_type": "code",
        "colab": {}
      },
      "source": [
        "import torch\n",
        "import torch.nn as nn\n",
        "import torch.optim as optim\n",
        "import matplotlib.pyplot as plt\n",
        "import numpy as np\n",
        "plt.style.use(\"ggplot\")\n",
        "%matplotlib inline"
      ],
      "execution_count": 1,
      "outputs": []
    },
    {
      "cell_type": "code",
      "metadata": {
        "id": "Hafjb3UWv-2R",
        "colab_type": "code",
        "colab": {}
      },
      "source": [
        "x = np.linspace(0, 499, 500)\n",
        "y = np.sin(x * 2 * np.pi / 50)"
      ],
      "execution_count": 2,
      "outputs": []
    },
    {
      "cell_type": "code",
      "metadata": {
        "id": "lFx_C-VSwWFL",
        "colab_type": "code",
        "colab": {
          "base_uri": "https://localhost:8080/",
          "height": 282
        },
        "outputId": "a90bbedb-e2b0-4f6b-bb85-affdd518c829"
      },
      "source": [
        "plt.plot(x, y)"
      ],
      "execution_count": 3,
      "outputs": [
        {
          "output_type": "execute_result",
          "data": {
            "text/plain": [
              "[<matplotlib.lines.Line2D at 0x7f84b2324860>]"
            ]
          },
          "metadata": {
            "tags": []
          },
          "execution_count": 3
        },
        {
          "output_type": "display_data",
          "data": {
            "image/png": "[encoded data removed]",
            "text/plain": [
              "<Figure size 432x288 with 1 Axes>"
            ]
          },
          "metadata": {
            "tags": [],
            "needs_background": "light"
          }
        }
      ]
    },
    {
      "cell_type": "code",
      "metadata": {
        "id": "ALIyV5I5wZO6",
        "colab_type": "code",
        "colab": {}
      },
      "source": [
        "def make_sequence_data(y, num_sequence):\n",
        "    num_data = len(y)\n",
        "    seq_data = []\n",
        "    target_data = []\n",
        "    for i in range(num_data - num_sequence):\n",
        "        seq_data.append(y[i: i+num_sequence ])\n",
        "        target_data.append(y[i+num_sequence:i + num_sequence + 1])\n",
        "    seq_arr = np.array(seq_data)\n",
        "    target_arr = np.array(target_data)\n",
        "    return seq_arr, target_arr"
      ],
      "execution_count": 4,
      "outputs": []
    },
    {
      "cell_type": "code",
      "metadata": {
        "id": "6LacgNsW0_Fg",
        "colab_type": "code",
        "colab": {}
      },
      "source": [
        "seq_length = 40\n",
        "y_seq, y_target = make_sequence_data(y, seq_length)"
      ],
      "execution_count": 5,
      "outputs": []
    },
    {
      "cell_type": "code",
      "metadata": {
        "id": "0hPI70UD3YJa",
        "colab_type": "code",
        "colab": {
          "base_uri": "https://localhost:8080/",
          "height": 34
        },
        "outputId": "c5a5027f-81ee-4a75-8ea9-f61f8566eebb"
      },
      "source": [
        "y_seq.shape"
      ],
      "execution_count": 6,
      "outputs": [
        {
          "output_type": "execute_result",
          "data": {
            "text/plain": [
              "(460, 40)"
            ]
          },
          "metadata": {
            "tags": []
          },
          "execution_count": 6
        }
      ]
    },
    {
      "cell_type": "code",
      "metadata": {
        "id": "s7MRQVpN3bHL",
        "colab_type": "code",
        "colab": {
          "base_uri": "https://localhost:8080/",
          "height": 34
        },
        "outputId": "a119a0c9-9cc7-4e1c-e8ce-56586b13c024"
      },
      "source": [
        "y_target.shape"
      ],
      "execution_count": 7,
      "outputs": [
        {
          "output_type": "execute_result",
          "data": {
            "text/plain": [
              "(460, 1)"
            ]
          },
          "metadata": {
            "tags": []
          },
          "execution_count": 7
        }
      ]
    },
    {
      "cell_type": "code",
      "metadata": {
        "id": "y2lJQlH43hd7",
        "colab_type": "code",
        "colab": {}
      },
      "source": [
        "num_test =10 \n",
        "y_seq_train = y_seq[:-num_test]\n",
        "y_seq_test = y_seq[-num_test:]\n",
        "y_target_train = y_target[:-num_test]\n",
        "y_target_test = y_target[-num_test:]"
      ],
      "execution_count": 8,
      "outputs": []
    },
    {
      "cell_type": "code",
      "metadata": {
        "id": "caUfCq2s4Vb_",
        "colab_type": "code",
        "colab": {
          "base_uri": "https://localhost:8080/",
          "height": 238
        },
        "outputId": "6986e006-6804-495a-95ee-ef47bdb25264"
      },
      "source": [
        "y_seq_train"
      ],
      "execution_count": 9,
      "outputs": [
        {
          "output_type": "execute_result",
          "data": {
            "text/plain": [
              "array([[ 0.00000000e+00,  1.25333234e-01,  2.48689887e-01, ...,\n",
              "        -9.98026728e-01, -9.98026728e-01, -9.82287251e-01],\n",
              "       [ 1.25333234e-01,  2.48689887e-01,  3.68124553e-01, ...,\n",
              "        -9.98026728e-01, -9.82287251e-01, -9.51056516e-01],\n",
              "       [ 2.48689887e-01,  3.68124553e-01,  4.81753674e-01, ...,\n",
              "        -9.82287251e-01, -9.51056516e-01, -9.04827052e-01],\n",
              "       ...,\n",
              "       [-3.68124553e-01, -2.48689887e-01, -1.25333234e-01, ...,\n",
              "        -9.04827052e-01, -9.51056516e-01, -9.82287251e-01],\n",
              "       [-2.48689887e-01, -1.25333234e-01, -2.20436424e-15, ...,\n",
              "        -9.51056516e-01, -9.82287251e-01, -9.98026728e-01],\n",
              "       [-1.25333234e-01, -2.20436424e-15,  1.25333234e-01, ...,\n",
              "        -9.82287251e-01, -9.98026728e-01, -9.98026728e-01]])"
            ]
          },
          "metadata": {
            "tags": []
          },
          "execution_count": 9
        }
      ]
    },
    {
      "cell_type": "code",
      "metadata": {
        "id": "Ekm2LmkM4exn",
        "colab_type": "code",
        "colab": {
          "base_uri": "https://localhost:8080/",
          "height": 34
        },
        "outputId": "fdd85b08-593f-4afc-99e9-b8c27346aed1"
      },
      "source": [
        "y_seq_train.shape"
      ],
      "execution_count": 10,
      "outputs": [
        {
          "output_type": "execute_result",
          "data": {
            "text/plain": [
              "(450, 40)"
            ]
          },
          "metadata": {
            "tags": []
          },
          "execution_count": 10
        }
      ]
    },
    {
      "cell_type": "code",
      "metadata": {
        "id": "rEgqFB7S4h4P",
        "colab_type": "code",
        "colab": {}
      },
      "source": [
        "y_seq_t = torch.FloatTensor(y_seq_train)\n",
        "y_target_t = torch.FloatTensor(y_target_train)"
      ],
      "execution_count": 11,
      "outputs": []
    },
    {
      "cell_type": "code",
      "metadata": {
        "id": "Ky2iBqNG46o1",
        "colab_type": "code",
        "colab": {}
      },
      "source": [
        "class LSTM(nn.Module):\n",
        "    def __init__(self, hidden_size):\n",
        "        super().__init__()\n",
        "        self.hidden_size = hidden_size\n",
        "        self.lstm = nn.LSTM(input_size=1, hidden_size=self.hidden_size)\n",
        "        self.linear = nn.Linear(self.hidden_size, 1)\n",
        "    def forward(self, x):\n",
        "        x, _ = self.lstm(x)\n",
        "        x_last = x[-1]\n",
        "        x = self.linear(x_last)\n",
        "        return x"
      ],
      "execution_count": 12,
      "outputs": []
    },
    {
      "cell_type": "code",
      "metadata": {
        "id": "KkzpGxf3-HGF",
        "colab_type": "code",
        "colab": {}
      },
      "source": [
        "model = LSTM(100)"
      ],
      "execution_count": 13,
      "outputs": []
    },
    {
      "cell_type": "code",
      "metadata": {
        "id": "emUUz00b-0OR",
        "colab_type": "code",
        "colab": {}
      },
      "source": [
        "criterion = nn.MSELoss()\n",
        "optimizer = optim.Adam(model.parameters(), lr=0.001)"
      ],
      "execution_count": 14,
      "outputs": []
    },
    {
      "cell_type": "code",
      "metadata": {
        "id": "UFaDIL-y_Bxs",
        "colab_type": "code",
        "colab": {
          "base_uri": "https://localhost:8080/",
          "height": 34
        },
        "outputId": "3a61567d-0401-4d6b-8c0b-77f9019d79c7"
      },
      "source": [
        "y_seq_t.size()"
      ],
      "execution_count": 15,
      "outputs": [
        {
          "output_type": "execute_result",
          "data": {
            "text/plain": [
              "torch.Size([450, 40])"
            ]
          },
          "metadata": {
            "tags": []
          },
          "execution_count": 15
        }
      ]
    },
    {
      "cell_type": "code",
      "metadata": {
        "id": "gz5V0Cxs_TxN",
        "colab_type": "code",
        "colab": {}
      },
      "source": [
        "y_seq_t = y_seq_t.permute(1, 0)\n",
        "y_target_t = y_target_t.permute(1, 0)"
      ],
      "execution_count": 16,
      "outputs": []
    },
    {
      "cell_type": "code",
      "metadata": {
        "id": "hlFlZj12_c-A",
        "colab_type": "code",
        "colab": {
          "base_uri": "https://localhost:8080/",
          "height": 34
        },
        "outputId": "db641f96-ced3-447f-9224-86f4aef7efba"
      },
      "source": [
        "y_seq_t.size()"
      ],
      "execution_count": 17,
      "outputs": [
        {
          "output_type": "execute_result",
          "data": {
            "text/plain": [
              "torch.Size([40, 450])"
            ]
          },
          "metadata": {
            "tags": []
          },
          "execution_count": 17
        }
      ]
    },
    {
      "cell_type": "code",
      "metadata": {
        "id": "vJXwMydB_to-",
        "colab_type": "code",
        "colab": {}
      },
      "source": [
        "y_seq_t = y_seq_t.unsqueeze(dim=-1)\n",
        "y_target_t = y_target_t.unsqueeze(dim=-1)"
      ],
      "execution_count": 18,
      "outputs": []
    },
    {
      "cell_type": "code",
      "metadata": {
        "id": "jF1fRC9CiLtb",
        "colab_type": "code",
        "colab": {
          "base_uri": "https://localhost:8080/",
          "height": 34
        },
        "outputId": "16a6e91a-2dbd-46e2-959a-8872c2cf8984"
      },
      "source": [
        "y_seq_t.size()"
      ],
      "execution_count": 19,
      "outputs": [
        {
          "output_type": "execute_result",
          "data": {
            "text/plain": [
              "torch.Size([40, 450, 1])"
            ]
          },
          "metadata": {
            "tags": []
          },
          "execution_count": 19
        }
      ]
    },
    {
      "cell_type": "code",
      "metadata": {
        "id": "AcKEd7TtiRR6",
        "colab_type": "code",
        "colab": {
          "base_uri": "https://localhost:8080/",
          "height": 207
        },
        "outputId": "6c17f171-36cd-4483-db57-01ae25033fe4"
      },
      "source": [
        "num_epochs = 80\n",
        "losses = []\n",
        "for epoch in range(num_epochs):\n",
        "    optimizer.zero_grad()\n",
        "    output = model(y_seq_t)\n",
        "    loss = criterion(output, y_target_t)\n",
        "    loss.backward()\n",
        "    losses.append(loss.item())\n",
        "    optimizer.step()\n",
        "    if epoch % 10 == 0:\n",
        "        print(\"epoch:{}, loss:{}\".format(epoch, loss.item()))"
      ],
      "execution_count": 20,
      "outputs": [
        {
          "output_type": "stream",
          "text": [
            "/usr/local/lib/python3.6/dist-packages/torch/nn/modules/loss.py:445: UserWarning: Using a target size (torch.Size([1, 450, 1])) that is different to the input size (torch.Size([450, 1])). This will likely lead to incorrect results due to broadcasting. Please ensure they have the same size.\n",
            "  return F.mse_loss(input, target, reduction=self.reduction)\n"
          ],
          "name": "stderr"
        },
        {
          "output_type": "stream",
          "text": [
            "epoch:0, loss:0.4920926094055176\n",
            "epoch:10, loss:0.36493295431137085\n",
            "epoch:20, loss:0.21118919551372528\n",
            "epoch:30, loss:0.017780901864171028\n",
            "epoch:40, loss:0.007744303904473782\n",
            "epoch:50, loss:0.0032534333877265453\n",
            "epoch:60, loss:0.0016085854731500149\n",
            "epoch:70, loss:0.000808345153927803\n"
          ],
          "name": "stdout"
        }
      ]
    },
    {
      "cell_type": "code",
      "metadata": {
        "id": "U5pbInZMjDfQ",
        "colab_type": "code",
        "colab": {
          "base_uri": "https://localhost:8080/",
          "height": 282
        },
        "outputId": "79658c5f-5872-40bc-d345-1c4f745ec922"
      },
      "source": [
        "plt.plot(losses)"
      ],
      "execution_count": 21,
      "outputs": [
        {
          "output_type": "execute_result",
          "data": {
            "text/plain": [
              "[<matplotlib.lines.Line2D at 0x7f84b124a7b8>]"
            ]
          },
          "metadata": {
            "tags": []
          },
          "execution_count": 21
        },
        {
          "output_type": "display_data",
          "data": {
            "image/png": "[encoded data removed]",
            "text/plain": [
              "<Figure size 432x288 with 1 Axes>"
            ]
          },
          "metadata": {
            "tags": [],
            "needs_background": "light"
          }
        }
      ]
    },
    {
      "cell_type": "code",
      "metadata": {
        "id": "cu42oW1gkVSs",
        "colab_type": "code",
        "colab": {}
      },
      "source": [
        "y_seq_test_t = torch.FloatTensor(y_seq_test)\n",
        "y_seq_test_t = y_seq_test_t.permute(1, 0)\n",
        "y_seq_test_t = y_seq_test_t.unsqueeze(dim=-1)"
      ],
      "execution_count": 22,
      "outputs": []
    },
    {
      "cell_type": "code",
      "metadata": {
        "id": "TgM8XOOBktl_",
        "colab_type": "code",
        "colab": {
          "base_uri": "https://localhost:8080/",
          "height": 34
        },
        "outputId": "db3eeb3c-90f7-4779-85d5-02e2b67f09c7"
      },
      "source": [
        "y_seq_test_t.size()"
      ],
      "execution_count": 23,
      "outputs": [
        {
          "output_type": "execute_result",
          "data": {
            "text/plain": [
              "torch.Size([40, 10, 1])"
            ]
          },
          "metadata": {
            "tags": []
          },
          "execution_count": 23
        }
      ]
    },
    {
      "cell_type": "code",
      "metadata": {
        "id": "9TkfvPQ_kxR9",
        "colab_type": "code",
        "colab": {}
      },
      "source": [
        "y_pred = model(y_seq_test_t)"
      ],
      "execution_count": 24,
      "outputs": []
    },
    {
      "cell_type": "code",
      "metadata": {
        "id": "EwmHFXoyk0e8",
        "colab_type": "code",
        "colab": {
          "base_uri": "https://localhost:8080/",
          "height": 34
        },
        "outputId": "018d1503-6015-40ef-b767-cbd9b34d882f"
      },
      "source": [
        "y_pred.size()"
      ],
      "execution_count": 25,
      "outputs": [
        {
          "output_type": "execute_result",
          "data": {
            "text/plain": [
              "torch.Size([10, 1])"
            ]
          },
          "metadata": {
            "tags": []
          },
          "execution_count": 25
        }
      ]
    },
    {
      "cell_type": "code",
      "metadata": {
        "id": "y1bsUBbSk21q",
        "colab_type": "code",
        "colab": {
          "base_uri": "https://localhost:8080/",
          "height": 282
        },
        "outputId": "7771254f-dec3-4970-ad43-bee0c721a287"
      },
      "source": [
        "plt.plot(x, y)\n",
        "plt.plot(np.arange(490, 500), y_pred.detach())\n",
        "plt.xlim([450, 500])"
      ],
      "execution_count": 28,
      "outputs": [
        {
          "output_type": "execute_result",
          "data": {
            "text/plain": [
              "(450.0, 500.0)"
            ]
          },
          "metadata": {
            "tags": []
          },
          "execution_count": 28
        },
        {
          "output_type": "display_data",
          "data": {
            "image/png": "[encoded data removed]",
            "text/plain": [
              "<Figure size 432x288 with 1 Axes>"
            ]
          },
          "metadata": {
            "tags": [],
            "needs_background": "light"
          }
        }
      ]
    },
    {
      "cell_type": "code",
      "metadata": {
        "id": "ZG12E1BQlFL6",
        "colab_type": "code",
        "colab": {}
      },
      "source": [
        ""
      ],
      "execution_count": null,
      "outputs": []
    }
  ]
}