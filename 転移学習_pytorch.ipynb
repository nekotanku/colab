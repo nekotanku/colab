{
  "nbformat": 4,
  "nbformat_minor": 0,
  "metadata": {
    "colab": {
      "name": "転移学習_pytorch.ipynb",
      "provenance": [],
      "authorship_tag": "ABX9TyOg49lX8COryMtl2oLCHboX",
      "include_colab_link": true
    },
    "kernelspec": {
      "name": "python3",
      "display_name": "Python 3"
    },
    "accelerator": "GPU",
    "widgets": {
      "application/vnd.jupyter.widget-state+json": {
        "7fa803d475f940dab680fec86b7a8f5e": {
          "model_module": "@jupyter-widgets/controls",
          "model_name": "HBoxModel",
          "state": {
            "_view_name": "HBoxView",
            "_dom_classes": [],
            "_model_name": "HBoxModel",
            "_view_module": "@jupyter-widgets/controls",
            "_model_module_version": "1.5.0",
            "_view_count": null,
            "_view_module_version": "1.5.0",
            "box_style": "",
            "layout": "IPY_MODEL_42fcc454b81248698214ae97aeb7bc86",
            "_model_module": "@jupyter-widgets/controls",
            "children": [
              "IPY_MODEL_d006c9407b6d4dc5a32eab4b8049fd06",
              "IPY_MODEL_b48e36d9f9044354a761bbd4e275c73d"
            ]
          }
        },
        "42fcc454b81248698214ae97aeb7bc86": {
          "model_module": "@jupyter-widgets/base",
          "model_name": "LayoutModel",
          "state": {
            "_view_name": "LayoutView",
            "grid_template_rows": null,
            "right": null,
            "justify_content": null,
            "_view_module": "@jupyter-widgets/base",
            "overflow": null,
            "_model_module_version": "1.2.0",
            "_view_count": null,
            "flex_flow": null,
            "width": null,
            "min_width": null,
            "border": null,
            "align_items": null,
            "bottom": null,
            "_model_module": "@jupyter-widgets/base",
            "top": null,
            "grid_column": null,
            "overflow_y": null,
            "overflow_x": null,
            "grid_auto_flow": null,
            "grid_area": null,
            "grid_template_columns": null,
            "flex": null,
            "_model_name": "LayoutModel",
            "justify_items": null,
            "grid_row": null,
            "max_height": null,
            "align_content": null,
            "visibility": null,
            "align_self": null,
            "height": null,
            "min_height": null,
            "padding": null,
            "grid_auto_rows": null,
            "grid_gap": null,
            "max_width": null,
            "order": null,
            "_view_module_version": "1.2.0",
            "grid_template_areas": null,
            "object_position": null,
            "object_fit": null,
            "grid_auto_columns": null,
            "margin": null,
            "display": null,
            "left": null
          }
        },
        "d006c9407b6d4dc5a32eab4b8049fd06": {
          "model_module": "@jupyter-widgets/controls",
          "model_name": "FloatProgressModel",
          "state": {
            "_view_name": "ProgressView",
            "style": "IPY_MODEL_16578378746b4bf0a6e6cfe1a9cb36c1",
            "_dom_classes": [],
            "description": "100%",
            "_model_name": "FloatProgressModel",
            "bar_style": "success",
            "max": 46827520,
            "_view_module": "@jupyter-widgets/controls",
            "_model_module_version": "1.5.0",
            "value": 46827520,
            "_view_count": null,
            "_view_module_version": "1.5.0",
            "orientation": "horizontal",
            "min": 0,
            "description_tooltip": null,
            "_model_module": "@jupyter-widgets/controls",
            "layout": "IPY_MODEL_23d81e37a6e34326ba0aa06bb9386bdd"
          }
        },
        "b48e36d9f9044354a761bbd4e275c73d": {
          "model_module": "@jupyter-widgets/controls",
          "model_name": "HTMLModel",
          "state": {
            "_view_name": "HTMLView",
            "style": "IPY_MODEL_7d831d9f46f9491995bb65f4c732946e",
            "_dom_classes": [],
            "description": "",
            "_model_name": "HTMLModel",
            "placeholder": "​",
            "_view_module": "@jupyter-widgets/controls",
            "_model_module_version": "1.5.0",
            "value": " 44.7M/44.7M [00:00&lt;00:00, 180MB/s]",
            "_view_count": null,
            "_view_module_version": "1.5.0",
            "description_tooltip": null,
            "_model_module": "@jupyter-widgets/controls",
            "layout": "IPY_MODEL_5867ee75dbfd4d26af00feef1cb86a02"
          }
        },
        "16578378746b4bf0a6e6cfe1a9cb36c1": {
          "model_module": "@jupyter-widgets/controls",
          "model_name": "ProgressStyleModel",
          "state": {
            "_view_name": "StyleView",
            "_model_name": "ProgressStyleModel",
            "description_width": "initial",
            "_view_module": "@jupyter-widgets/base",
            "_model_module_version": "1.5.0",
            "_view_count": null,
            "_view_module_version": "1.2.0",
            "bar_color": null,
            "_model_module": "@jupyter-widgets/controls"
          }
        },
        "23d81e37a6e34326ba0aa06bb9386bdd": {
          "model_module": "@jupyter-widgets/base",
          "model_name": "LayoutModel",
          "state": {
            "_view_name": "LayoutView",
            "grid_template_rows": null,
            "right": null,
            "justify_content": null,
            "_view_module": "@jupyter-widgets/base",
            "overflow": null,
            "_model_module_version": "1.2.0",
            "_view_count": null,
            "flex_flow": null,
            "width": null,
            "min_width": null,
            "border": null,
            "align_items": null,
            "bottom": null,
            "_model_module": "@jupyter-widgets/base",
            "top": null,
            "grid_column": null,
            "overflow_y": null,
            "overflow_x": null,
            "grid_auto_flow": null,
            "grid_area": null,
            "grid_template_columns": null,
            "flex": null,
            "_model_name": "LayoutModel",
            "justify_items": null,
            "grid_row": null,
            "max_height": null,
            "align_content": null,
            "visibility": null,
            "align_self": null,
            "height": null,
            "min_height": null,
            "padding": null,
            "grid_auto_rows": null,
            "grid_gap": null,
            "max_width": null,
            "order": null,
            "_view_module_version": "1.2.0",
            "grid_template_areas": null,
            "object_position": null,
            "object_fit": null,
            "grid_auto_columns": null,
            "margin": null,
            "display": null,
            "left": null
          }
        },
        "7d831d9f46f9491995bb65f4c732946e": {
          "model_module": "@jupyter-widgets/controls",
          "model_name": "DescriptionStyleModel",
          "state": {
            "_view_name": "StyleView",
            "_model_name": "DescriptionStyleModel",
            "description_width": "",
            "_view_module": "@jupyter-widgets/base",
            "_model_module_version": "1.5.0",
            "_view_count": null,
            "_view_module_version": "1.2.0",
            "_model_module": "@jupyter-widgets/controls"
          }
        },
        "5867ee75dbfd4d26af00feef1cb86a02": {
          "model_module": "@jupyter-widgets/base",
          "model_name": "LayoutModel",
          "state": {
            "_view_name": "LayoutView",
            "grid_template_rows": null,
            "right": null,
            "justify_content": null,
            "_view_module": "@jupyter-widgets/base",
            "overflow": null,
            "_model_module_version": "1.2.0",
            "_view_count": null,
            "flex_flow": null,
            "width": null,
            "min_width": null,
            "border": null,
            "align_items": null,
            "bottom": null,
            "_model_module": "@jupyter-widgets/base",
            "top": null,
            "grid_column": null,
            "overflow_y": null,
            "overflow_x": null,
            "grid_auto_flow": null,
            "grid_area": null,
            "grid_template_columns": null,
            "flex": null,
            "_model_name": "LayoutModel",
            "justify_items": null,
            "grid_row": null,
            "max_height": null,
            "align_content": null,
            "visibility": null,
            "align_self": null,
            "height": null,
            "min_height": null,
            "padding": null,
            "grid_auto_rows": null,
            "grid_gap": null,
            "max_width": null,
            "order": null,
            "_view_module_version": "1.2.0",
            "grid_template_areas": null,
            "object_position": null,
            "object_fit": null,
            "grid_auto_columns": null,
            "margin": null,
            "display": null,
            "left": null
          }
        }
      }
    }
  },
  "cells": [
    {
      "cell_type": "markdown",
      "metadata": {
        "id": "view-in-github",
        "colab_type": "text"
      },
      "source": [
        "<a href=\"https://colab.research.google.com/github/nekotanku/colab/blob/master/%E8%BB%A2%E7%A7%BB%E5%AD%A6%E7%BF%92_pytorch.ipynb\" target=\"_parent\"><img src=\"https://colab.research.google.com/assets/colab-badge.svg\" alt=\"Open In Colab\"/></a>"
      ]
    },
    {
      "cell_type": "code",
      "metadata": {
        "id": "xW8zCmdFLVlk",
        "colab_type": "code",
        "colab": {}
      },
      "source": [
        "import torch\n",
        "import torch.nn as nn\n",
        "import torch.optim as optim\n",
        "import numpy as np\n",
        "import matplotlib.pyplot as plt\n",
        "from torchvision import datasets, models, transforms\n",
        "from torch.utils.data import DataLoader"
      ],
      "execution_count": 11,
      "outputs": []
    },
    {
      "cell_type": "code",
      "metadata": {
        "id": "F7Z0OVBFLc2h",
        "colab_type": "code",
        "colab": {
          "base_uri": "https://localhost:8080/",
          "height": 35
        },
        "outputId": "194d35c7-6d0b-4dca-f249-1584bc089e39"
      },
      "source": [
        "device = \"cuda\" if torch.cuda.is_available() else \"cpu\"\n",
        "device"
      ],
      "execution_count": 3,
      "outputs": [
        {
          "output_type": "execute_result",
          "data": {
            "application/vnd.google.colaboratory.intrinsic+json": {
              "type": "string"
            },
            "text/plain": [
              "'cuda'"
            ]
          },
          "metadata": {
            "tags": []
          },
          "execution_count": 3
        }
      ]
    },
    {
      "cell_type": "code",
      "metadata": {
        "id": "95SgkcXIMCBu",
        "colab_type": "code",
        "colab": {
          "base_uri": "https://localhost:8080/",
          "height": 204
        },
        "outputId": "d4deda44-ccff-4bb8-85ca-ca128a04b721"
      },
      "source": [
        "#データセットダウンロード\n",
        "!wget https://download.pytorch.org/tutorial/hymenoptera_data.zip "
      ],
      "execution_count": 4,
      "outputs": [
        {
          "output_type": "stream",
          "text": [
            "--2020-08-18 01:38:02--  https://download.pytorch.org/tutorial/hymenoptera_data.zip\n",
            "Resolving download.pytorch.org (download.pytorch.org)... 54.230.126.123, 54.230.126.37, 54.230.126.72, ...\n",
            "Connecting to download.pytorch.org (download.pytorch.org)|54.230.126.123|:443... connected.\n",
            "HTTP request sent, awaiting response... 200 OK\n",
            "Length: 47286322 (45M) [application/zip]\n",
            "Saving to: ‘hymenoptera_data.zip’\n",
            "\n",
            "hymenoptera_data.zi 100%[===================>]  45.10M  28.1MB/s    in 1.6s    \n",
            "\n",
            "2020-08-18 01:38:04 (28.1 MB/s) - ‘hymenoptera_data.zip’ saved [47286322/47286322]\n",
            "\n"
          ],
          "name": "stdout"
        }
      ]
    },
    {
      "cell_type": "code",
      "metadata": {
        "id": "edMSXT_mN1Bi",
        "colab_type": "code",
        "colab": {
          "base_uri": "https://localhost:8080/",
          "height": 34
        },
        "outputId": "91a4459b-6da1-4ff7-8846-9869d914344f"
      },
      "source": [
        "#確認\n",
        "!ls"
      ],
      "execution_count": 5,
      "outputs": [
        {
          "output_type": "stream",
          "text": [
            "hymenoptera_data.zip  sample_data\n"
          ],
          "name": "stdout"
        }
      ]
    },
    {
      "cell_type": "code",
      "metadata": {
        "id": "TJpNGtNxN36g",
        "colab_type": "code",
        "colab": {
          "base_uri": "https://localhost:8080/",
          "height": 1000
        },
        "outputId": "87215bd7-9761-4178-e116-d35dcc200f8d"
      },
      "source": [
        "#zip解凍\n",
        "!unzip hymenoptera_data.zip"
      ],
      "execution_count": 6,
      "outputs": [
        {
          "output_type": "stream",
          "text": [
            "Archive:  hymenoptera_data.zip\n",
            "   creating: hymenoptera_data/\n",
            "   creating: hymenoptera_data/train/\n",
            "   creating: hymenoptera_data/train/ants/\n",
            "  inflating: hymenoptera_data/train/ants/0013035.jpg  \n",
            "  inflating: hymenoptera_data/train/ants/1030023514_aad5c608f9.jpg  \n",
            "  inflating: hymenoptera_data/train/ants/1095476100_3906d8afde.jpg  \n",
            "  inflating: hymenoptera_data/train/ants/1099452230_d1949d3250.jpg  \n",
            "  inflating: hymenoptera_data/train/ants/116570827_e9c126745d.jpg  \n",
            "  inflating: hymenoptera_data/train/ants/1225872729_6f0856588f.jpg  \n",
            "  inflating: hymenoptera_data/train/ants/1262877379_64fcada201.jpg  \n",
            "  inflating: hymenoptera_data/train/ants/1269756697_0bce92cdab.jpg  \n",
            "  inflating: hymenoptera_data/train/ants/1286984635_5119e80de1.jpg  \n",
            "  inflating: hymenoptera_data/train/ants/132478121_2a430adea2.jpg  \n",
            "  inflating: hymenoptera_data/train/ants/1360291657_dc248c5eea.jpg  \n",
            "  inflating: hymenoptera_data/train/ants/1368913450_e146e2fb6d.jpg  \n",
            "  inflating: hymenoptera_data/train/ants/1473187633_63ccaacea6.jpg  \n",
            "  inflating: hymenoptera_data/train/ants/148715752_302c84f5a4.jpg  \n",
            "  inflating: hymenoptera_data/train/ants/1489674356_09d48dde0a.jpg  \n",
            "  inflating: hymenoptera_data/train/ants/149244013_c529578289.jpg  \n",
            "  inflating: hymenoptera_data/train/ants/150801003_3390b73135.jpg  \n",
            "  inflating: hymenoptera_data/train/ants/150801171_cd86f17ed8.jpg  \n",
            "  inflating: hymenoptera_data/train/ants/154124431_65460430f2.jpg  \n",
            "  inflating: hymenoptera_data/train/ants/162603798_40b51f1654.jpg  \n",
            "  inflating: hymenoptera_data/train/ants/1660097129_384bf54490.jpg  \n",
            "  inflating: hymenoptera_data/train/ants/167890289_dd5ba923f3.jpg  \n",
            "  inflating: hymenoptera_data/train/ants/1693954099_46d4c20605.jpg  \n",
            "  inflating: hymenoptera_data/train/ants/175998972.jpg  \n",
            "  inflating: hymenoptera_data/train/ants/178538489_bec7649292.jpg  \n",
            "  inflating: hymenoptera_data/train/ants/1804095607_0341701e1c.jpg  \n",
            "  inflating: hymenoptera_data/train/ants/1808777855_2a895621d7.jpg  \n",
            "  inflating: hymenoptera_data/train/ants/188552436_605cc9b36b.jpg  \n",
            "  inflating: hymenoptera_data/train/ants/1917341202_d00a7f9af5.jpg  \n",
            "  inflating: hymenoptera_data/train/ants/1924473702_daa9aacdbe.jpg  \n",
            "  inflating: hymenoptera_data/train/ants/196057951_63bf063b92.jpg  \n",
            "  inflating: hymenoptera_data/train/ants/196757565_326437f5fe.jpg  \n",
            "  inflating: hymenoptera_data/train/ants/201558278_fe4caecc76.jpg  \n",
            "  inflating: hymenoptera_data/train/ants/201790779_527f4c0168.jpg  \n",
            "  inflating: hymenoptera_data/train/ants/2019439677_2db655d361.jpg  \n",
            "  inflating: hymenoptera_data/train/ants/207947948_3ab29d7207.jpg  \n",
            "  inflating: hymenoptera_data/train/ants/20935278_9190345f6b.jpg  \n",
            "  inflating: hymenoptera_data/train/ants/224655713_3956f7d39a.jpg  \n",
            "  inflating: hymenoptera_data/train/ants/2265824718_2c96f485da.jpg  \n",
            "  inflating: hymenoptera_data/train/ants/2265825502_fff99cfd2d.jpg  \n",
            "  inflating: hymenoptera_data/train/ants/226951206_d6bf946504.jpg  \n",
            "  inflating: hymenoptera_data/train/ants/2278278459_6b99605e50.jpg  \n",
            "  inflating: hymenoptera_data/train/ants/2288450226_a6e96e8fdf.jpg  \n",
            "  inflating: hymenoptera_data/train/ants/2288481644_83ff7e4572.jpg  \n",
            "  inflating: hymenoptera_data/train/ants/2292213964_ca51ce4bef.jpg  \n",
            "  inflating: hymenoptera_data/train/ants/24335309_c5ea483bb8.jpg  \n",
            "  inflating: hymenoptera_data/train/ants/245647475_9523dfd13e.jpg  \n",
            "  inflating: hymenoptera_data/train/ants/255434217_1b2b3fe0a4.jpg  \n",
            "  inflating: hymenoptera_data/train/ants/258217966_d9d90d18d3.jpg  \n",
            "  inflating: hymenoptera_data/train/ants/275429470_b2d7d9290b.jpg  \n",
            "  inflating: hymenoptera_data/train/ants/28847243_e79fe052cd.jpg  \n",
            "  inflating: hymenoptera_data/train/ants/318052216_84dff3f98a.jpg  \n",
            "  inflating: hymenoptera_data/train/ants/334167043_cbd1adaeb9.jpg  \n",
            "  inflating: hymenoptera_data/train/ants/339670531_94b75ae47a.jpg  \n",
            "  inflating: hymenoptera_data/train/ants/342438950_a3da61deab.jpg  \n",
            "  inflating: hymenoptera_data/train/ants/36439863_0bec9f554f.jpg  \n",
            "  inflating: hymenoptera_data/train/ants/374435068_7eee412ec4.jpg  \n",
            "  inflating: hymenoptera_data/train/ants/382971067_0bfd33afe0.jpg  \n",
            "  inflating: hymenoptera_data/train/ants/384191229_5779cf591b.jpg  \n",
            "  inflating: hymenoptera_data/train/ants/386190770_672743c9a7.jpg  \n",
            "  inflating: hymenoptera_data/train/ants/392382602_1b7bed32fa.jpg  \n",
            "  inflating: hymenoptera_data/train/ants/403746349_71384f5b58.jpg  \n",
            "  inflating: hymenoptera_data/train/ants/408393566_b5b694119b.jpg  \n",
            "  inflating: hymenoptera_data/train/ants/424119020_6d57481dab.jpg  \n",
            "  inflating: hymenoptera_data/train/ants/424873399_47658a91fb.jpg  \n",
            "  inflating: hymenoptera_data/train/ants/450057712_771b3bfc91.jpg  \n",
            "  inflating: hymenoptera_data/train/ants/45472593_bfd624f8dc.jpg  \n",
            "  inflating: hymenoptera_data/train/ants/459694881_ac657d3187.jpg  \n",
            "  inflating: hymenoptera_data/train/ants/460372577_f2f6a8c9fc.jpg  \n",
            "  inflating: hymenoptera_data/train/ants/460874319_0a45ab4d05.jpg  \n",
            "  inflating: hymenoptera_data/train/ants/466430434_4000737de9.jpg  \n",
            "  inflating: hymenoptera_data/train/ants/470127037_513711fd21.jpg  \n",
            "  inflating: hymenoptera_data/train/ants/474806473_ca6caab245.jpg  \n",
            "  inflating: hymenoptera_data/train/ants/475961153_b8c13fd405.jpg  \n",
            "  inflating: hymenoptera_data/train/ants/484293231_e53cfc0c89.jpg  \n",
            "  inflating: hymenoptera_data/train/ants/49375974_e28ba6f17e.jpg  \n",
            "  inflating: hymenoptera_data/train/ants/506249802_207cd979b4.jpg  \n",
            "  inflating: hymenoptera_data/train/ants/506249836_717b73f540.jpg  \n",
            "  inflating: hymenoptera_data/train/ants/512164029_c0a66b8498.jpg  \n",
            "  inflating: hymenoptera_data/train/ants/512863248_43c8ce579b.jpg  \n",
            "  inflating: hymenoptera_data/train/ants/518773929_734dbc5ff4.jpg  \n",
            "  inflating: hymenoptera_data/train/ants/522163566_fec115ca66.jpg  \n",
            "  inflating: hymenoptera_data/train/ants/522415432_2218f34bf8.jpg  \n",
            "  inflating: hymenoptera_data/train/ants/531979952_bde12b3bc0.jpg  \n",
            "  inflating: hymenoptera_data/train/ants/533848102_70a85ad6dd.jpg  \n",
            "  inflating: hymenoptera_data/train/ants/535522953_308353a07c.jpg  \n",
            "  inflating: hymenoptera_data/train/ants/540889389_48bb588b21.jpg  \n",
            "  inflating: hymenoptera_data/train/ants/541630764_dbd285d63c.jpg  \n",
            "  inflating: hymenoptera_data/train/ants/543417860_b14237f569.jpg  \n",
            "  inflating: hymenoptera_data/train/ants/560966032_988f4d7bc4.jpg  \n",
            "  inflating: hymenoptera_data/train/ants/5650366_e22b7e1065.jpg  \n",
            "  inflating: hymenoptera_data/train/ants/6240329_72c01e663e.jpg  \n",
            "  inflating: hymenoptera_data/train/ants/6240338_93729615ec.jpg  \n",
            "  inflating: hymenoptera_data/train/ants/649026570_e58656104b.jpg  \n",
            "  inflating: hymenoptera_data/train/ants/662541407_ff8db781e7.jpg  \n",
            "  inflating: hymenoptera_data/train/ants/67270775_e9fdf77e9d.jpg  \n",
            "  inflating: hymenoptera_data/train/ants/6743948_2b8c096dda.jpg  \n",
            "  inflating: hymenoptera_data/train/ants/684133190_35b62c0c1d.jpg  \n",
            "  inflating: hymenoptera_data/train/ants/69639610_95e0de17aa.jpg  \n",
            "  inflating: hymenoptera_data/train/ants/707895295_009cf23188.jpg  \n",
            "  inflating: hymenoptera_data/train/ants/7759525_1363d24e88.jpg  \n",
            "  inflating: hymenoptera_data/train/ants/795000156_a9900a4a71.jpg  \n",
            "  inflating: hymenoptera_data/train/ants/822537660_caf4ba5514.jpg  \n",
            "  inflating: hymenoptera_data/train/ants/82852639_52b7f7f5e3.jpg  \n",
            "  inflating: hymenoptera_data/train/ants/841049277_b28e58ad05.jpg  \n",
            "  inflating: hymenoptera_data/train/ants/886401651_f878e888cd.jpg  \n",
            "  inflating: hymenoptera_data/train/ants/892108839_f1aad4ca46.jpg  \n",
            "  inflating: hymenoptera_data/train/ants/938946700_ca1c669085.jpg  \n",
            "  inflating: hymenoptera_data/train/ants/957233405_25c1d1187b.jpg  \n",
            "  inflating: hymenoptera_data/train/ants/9715481_b3cb4114ff.jpg  \n",
            "  inflating: hymenoptera_data/train/ants/998118368_6ac1d91f81.jpg  \n",
            "  inflating: hymenoptera_data/train/ants/ant photos.jpg  \n",
            "  inflating: hymenoptera_data/train/ants/Ant_1.jpg  \n",
            "  inflating: hymenoptera_data/train/ants/army-ants-red-picture.jpg  \n",
            "  inflating: hymenoptera_data/train/ants/formica.jpeg  \n",
            "  inflating: hymenoptera_data/train/ants/hormiga_co_por.jpg  \n",
            "  inflating: hymenoptera_data/train/ants/imageNotFound.gif  \n",
            "  inflating: hymenoptera_data/train/ants/kurokusa.jpg  \n",
            "  inflating: hymenoptera_data/train/ants/MehdiabadiAnt2_600.jpg  \n",
            "  inflating: hymenoptera_data/train/ants/Nepenthes_rafflesiana_ant.jpg  \n",
            "  inflating: hymenoptera_data/train/ants/swiss-army-ant.jpg  \n",
            "  inflating: hymenoptera_data/train/ants/termite-vs-ant.jpg  \n",
            "  inflating: hymenoptera_data/train/ants/trap-jaw-ant-insect-bg.jpg  \n",
            "  inflating: hymenoptera_data/train/ants/VietnameseAntMimicSpider.jpg  \n",
            "   creating: hymenoptera_data/train/bees/\n",
            "  inflating: hymenoptera_data/train/bees/1092977343_cb42b38d62.jpg  \n",
            "  inflating: hymenoptera_data/train/bees/1093831624_fb5fbe2308.jpg  \n",
            "  inflating: hymenoptera_data/train/bees/1097045929_1753d1c765.jpg  \n",
            "  inflating: hymenoptera_data/train/bees/1232245714_f862fbe385.jpg  \n",
            "  inflating: hymenoptera_data/train/bees/129236073_0985e91c7d.jpg  \n",
            "  inflating: hymenoptera_data/train/bees/1295655112_7813f37d21.jpg  \n",
            "  inflating: hymenoptera_data/train/bees/132511197_0b86ad0fff.jpg  \n",
            "  inflating: hymenoptera_data/train/bees/132826773_dbbcb117b9.jpg  \n",
            "  inflating: hymenoptera_data/train/bees/150013791_969d9a968b.jpg  \n",
            "  inflating: hymenoptera_data/train/bees/1508176360_2972117c9d.jpg  \n",
            "  inflating: hymenoptera_data/train/bees/154600396_53e1252e52.jpg  \n",
            "  inflating: hymenoptera_data/train/bees/16838648_415acd9e3f.jpg  \n",
            "  inflating: hymenoptera_data/train/bees/1691282715_0addfdf5e8.jpg  \n",
            "  inflating: hymenoptera_data/train/bees/17209602_fe5a5a746f.jpg  \n",
            "  inflating: hymenoptera_data/train/bees/174142798_e5ad6d76e0.jpg  \n",
            "  inflating: hymenoptera_data/train/bees/1799726602_8580867f71.jpg  \n",
            "  inflating: hymenoptera_data/train/bees/1807583459_4fe92b3133.jpg  \n",
            "  inflating: hymenoptera_data/train/bees/196430254_46bd129ae7.jpg  \n",
            "  inflating: hymenoptera_data/train/bees/196658222_3fffd79c67.jpg  \n",
            "  inflating: hymenoptera_data/train/bees/198508668_97d818b6c4.jpg  \n",
            "  inflating: hymenoptera_data/train/bees/2031225713_50ed499635.jpg  \n",
            "  inflating: hymenoptera_data/train/bees/2037437624_2d7bce461f.jpg  \n",
            "  inflating: hymenoptera_data/train/bees/2053200300_8911ef438a.jpg  \n",
            "  inflating: hymenoptera_data/train/bees/205835650_e6f2614bee.jpg  \n",
            "  inflating: hymenoptera_data/train/bees/208702903_42fb4d9748.jpg  \n",
            "  inflating: hymenoptera_data/train/bees/21399619_3e61e5bb6f.jpg  \n",
            "  inflating: hymenoptera_data/train/bees/2227611847_ec72d40403.jpg  \n",
            "  inflating: hymenoptera_data/train/bees/2321139806_d73d899e66.jpg  \n",
            "  inflating: hymenoptera_data/train/bees/2330918208_8074770c20.jpg  \n",
            "  inflating: hymenoptera_data/train/bees/2345177635_caf07159b3.jpg  \n",
            "  inflating: hymenoptera_data/train/bees/2358061370_9daabbd9ac.jpg  \n",
            "  inflating: hymenoptera_data/train/bees/2364597044_3c3e3fc391.jpg  \n",
            "  inflating: hymenoptera_data/train/bees/2384149906_2cd8b0b699.jpg  \n",
            "  inflating: hymenoptera_data/train/bees/2397446847_04ef3cd3e1.jpg  \n",
            "  inflating: hymenoptera_data/train/bees/2405441001_b06c36fa72.jpg  \n",
            "  inflating: hymenoptera_data/train/bees/2445215254_51698ff797.jpg  \n",
            "  inflating: hymenoptera_data/train/bees/2452236943_255bfd9e58.jpg  \n",
            "  inflating: hymenoptera_data/train/bees/2467959963_a7831e9ff0.jpg  \n",
            "  inflating: hymenoptera_data/train/bees/2470492904_837e97800d.jpg  \n",
            "  inflating: hymenoptera_data/train/bees/2477324698_3d4b1b1cab.jpg  \n",
            "  inflating: hymenoptera_data/train/bees/2477349551_e75c97cf4d.jpg  \n",
            "  inflating: hymenoptera_data/train/bees/2486729079_62df0920be.jpg  \n",
            "  inflating: hymenoptera_data/train/bees/2486746709_c43cec0e42.jpg  \n",
            "  inflating: hymenoptera_data/train/bees/2493379287_4100e1dacc.jpg  \n",
            "  inflating: hymenoptera_data/train/bees/2495722465_879acf9d85.jpg  \n",
            "  inflating: hymenoptera_data/train/bees/2528444139_fa728b0f5b.jpg  \n",
            "  inflating: hymenoptera_data/train/bees/2538361678_9da84b77e3.jpg  \n",
            "  inflating: hymenoptera_data/train/bees/2551813042_8a070aeb2b.jpg  \n",
            "  inflating: hymenoptera_data/train/bees/2580598377_a4caecdb54.jpg  \n",
            "  inflating: hymenoptera_data/train/bees/2601176055_8464e6aa71.jpg  \n",
            "  inflating: hymenoptera_data/train/bees/2610833167_79bf0bcae5.jpg  \n",
            "  inflating: hymenoptera_data/train/bees/2610838525_fe8e3cae47.jpg  \n",
            "  inflating: hymenoptera_data/train/bees/2617161745_fa3ebe85b4.jpg  \n",
            "  inflating: hymenoptera_data/train/bees/2625499656_e3415e374d.jpg  \n",
            "  inflating: hymenoptera_data/train/bees/2634617358_f32fd16bea.jpg  \n",
            "  inflating: hymenoptera_data/train/bees/2638074627_6b3ae746a0.jpg  \n",
            "  inflating: hymenoptera_data/train/bees/2645107662_b73a8595cc.jpg  \n",
            "  inflating: hymenoptera_data/train/bees/2651621464_a2fa8722eb.jpg  \n",
            "  inflating: hymenoptera_data/train/bees/2652877533_a564830cbf.jpg  \n",
            "  inflating: hymenoptera_data/train/bees/266644509_d30bb16a1b.jpg  \n",
            "  inflating: hymenoptera_data/train/bees/2683605182_9d2a0c66cf.jpg  \n",
            "  inflating: hymenoptera_data/train/bees/2704348794_eb5d5178c2.jpg  \n",
            "  inflating: hymenoptera_data/train/bees/2707440199_cd170bd512.jpg  \n",
            "  inflating: hymenoptera_data/train/bees/2710368626_cb42882dc8.jpg  \n",
            "  inflating: hymenoptera_data/train/bees/2722592222_258d473e17.jpg  \n",
            "  inflating: hymenoptera_data/train/bees/2728759455_ce9bb8cd7a.jpg  \n",
            "  inflating: hymenoptera_data/train/bees/2756397428_1d82a08807.jpg  \n",
            "  inflating: hymenoptera_data/train/bees/2765347790_da6cf6cb40.jpg  \n",
            "  inflating: hymenoptera_data/train/bees/2781170484_5d61835d63.jpg  \n",
            "  inflating: hymenoptera_data/train/bees/279113587_b4843db199.jpg  \n",
            "  inflating: hymenoptera_data/train/bees/2792000093_e8ae0718cf.jpg  \n",
            "  inflating: hymenoptera_data/train/bees/2801728106_833798c909.jpg  \n",
            "  inflating: hymenoptera_data/train/bees/2822388965_f6dca2a275.jpg  \n",
            "  inflating: hymenoptera_data/train/bees/2861002136_52c7c6f708.jpg  \n",
            "  inflating: hymenoptera_data/train/bees/2908916142_a7ac8b57a8.jpg  \n",
            "  inflating: hymenoptera_data/train/bees/29494643_e3410f0d37.jpg  \n",
            "  inflating: hymenoptera_data/train/bees/2959730355_416a18c63c.jpg  \n",
            "  inflating: hymenoptera_data/train/bees/2962405283_22718d9617.jpg  \n",
            "  inflating: hymenoptera_data/train/bees/3006264892_30e9cced70.jpg  \n",
            "  inflating: hymenoptera_data/train/bees/3030189811_01d095b793.jpg  \n",
            "  inflating: hymenoptera_data/train/bees/3030772428_8578335616.jpg  \n",
            "  inflating: hymenoptera_data/train/bees/3044402684_3853071a87.jpg  \n",
            "  inflating: hymenoptera_data/train/bees/3074585407_9854eb3153.jpg  \n",
            "  inflating: hymenoptera_data/train/bees/3079610310_ac2d0ae7bc.jpg  \n",
            "  inflating: hymenoptera_data/train/bees/3090975720_71f12e6de4.jpg  \n",
            "  inflating: hymenoptera_data/train/bees/3100226504_c0d4f1e3f1.jpg  \n",
            "  inflating: hymenoptera_data/train/bees/342758693_c56b89b6b6.jpg  \n",
            "  inflating: hymenoptera_data/train/bees/354167719_22dca13752.jpg  \n",
            "  inflating: hymenoptera_data/train/bees/359928878_b3b418c728.jpg  \n",
            "  inflating: hymenoptera_data/train/bees/365759866_b15700c59b.jpg  \n",
            "  inflating: hymenoptera_data/train/bees/36900412_92b81831ad.jpg  \n",
            "  inflating: hymenoptera_data/train/bees/39672681_1302d204d1.jpg  \n",
            "  inflating: hymenoptera_data/train/bees/39747887_42df2855ee.jpg  \n",
            "  inflating: hymenoptera_data/train/bees/421515404_e87569fd8b.jpg  \n",
            "  inflating: hymenoptera_data/train/bees/444532809_9e931e2279.jpg  \n",
            "  inflating: hymenoptera_data/train/bees/446296270_d9e8b93ecf.jpg  \n",
            "  inflating: hymenoptera_data/train/bees/452462677_7be43af8ff.jpg  \n",
            "  inflating: hymenoptera_data/train/bees/452462695_40a4e5b559.jpg  \n",
            "  inflating: hymenoptera_data/train/bees/457457145_5f86eb7e9c.jpg  \n",
            "  inflating: hymenoptera_data/train/bees/465133211_80e0c27f60.jpg  \n",
            "  inflating: hymenoptera_data/train/bees/469333327_358ba8fe8a.jpg  \n",
            "  inflating: hymenoptera_data/train/bees/472288710_2abee16fa0.jpg  \n",
            "  inflating: hymenoptera_data/train/bees/473618094_8ffdcab215.jpg  \n",
            "  inflating: hymenoptera_data/train/bees/476347960_52edd72b06.jpg  \n",
            "  inflating: hymenoptera_data/train/bees/478701318_bbd5e557b8.jpg  \n",
            "  inflating: hymenoptera_data/train/bees/507288830_f46e8d4cb2.jpg  \n",
            "  inflating: hymenoptera_data/train/bees/509247772_2db2d01374.jpg  \n",
            "  inflating: hymenoptera_data/train/bees/513545352_fd3e7c7c5d.jpg  \n",
            "  inflating: hymenoptera_data/train/bees/522104315_5d3cb2758e.jpg  \n",
            "  inflating: hymenoptera_data/train/bees/537309131_532bfa59ea.jpg  \n",
            "  inflating: hymenoptera_data/train/bees/586041248_3032e277a9.jpg  \n",
            "  inflating: hymenoptera_data/train/bees/760526046_547e8b381f.jpg  \n",
            "  inflating: hymenoptera_data/train/bees/760568592_45a52c847f.jpg  \n",
            "  inflating: hymenoptera_data/train/bees/774440991_63a4aa0cbe.jpg  \n",
            "  inflating: hymenoptera_data/train/bees/85112639_6e860b0469.jpg  \n",
            "  inflating: hymenoptera_data/train/bees/873076652_eb098dab2d.jpg  \n",
            "  inflating: hymenoptera_data/train/bees/90179376_abc234e5f4.jpg  \n",
            "  inflating: hymenoptera_data/train/bees/92663402_37f379e57a.jpg  \n",
            "  inflating: hymenoptera_data/train/bees/95238259_98470c5b10.jpg  \n",
            "  inflating: hymenoptera_data/train/bees/969455125_58c797ef17.jpg  \n",
            "  inflating: hymenoptera_data/train/bees/98391118_bdb1e80cce.jpg  \n",
            "   creating: hymenoptera_data/val/\n",
            "   creating: hymenoptera_data/val/ants/\n",
            "  inflating: hymenoptera_data/val/ants/10308379_1b6c72e180.jpg  \n",
            "  inflating: hymenoptera_data/val/ants/1053149811_f62a3410d3.jpg  \n",
            "  inflating: hymenoptera_data/val/ants/1073564163_225a64f170.jpg  \n",
            "  inflating: hymenoptera_data/val/ants/1119630822_cd325ea21a.jpg  \n",
            "  inflating: hymenoptera_data/val/ants/1124525276_816a07c17f.jpg  \n",
            "  inflating: hymenoptera_data/val/ants/11381045_b352a47d8c.jpg  \n",
            "  inflating: hymenoptera_data/val/ants/119785936_dd428e40c3.jpg  \n",
            "  inflating: hymenoptera_data/val/ants/1247887232_edcb61246c.jpg  \n",
            "  inflating: hymenoptera_data/val/ants/1262751255_c56c042b7b.jpg  \n",
            "  inflating: hymenoptera_data/val/ants/1337725712_2eb53cd742.jpg  \n",
            "  inflating: hymenoptera_data/val/ants/1358854066_5ad8015f7f.jpg  \n",
            "  inflating: hymenoptera_data/val/ants/1440002809_b268d9a66a.jpg  \n",
            "  inflating: hymenoptera_data/val/ants/147542264_79506478c2.jpg  \n",
            "  inflating: hymenoptera_data/val/ants/152286280_411648ec27.jpg  \n",
            "  inflating: hymenoptera_data/val/ants/153320619_2aeb5fa0ee.jpg  \n",
            "  inflating: hymenoptera_data/val/ants/153783656_85f9c3ac70.jpg  \n",
            "  inflating: hymenoptera_data/val/ants/157401988_d0564a9d02.jpg  \n",
            "  inflating: hymenoptera_data/val/ants/159515240_d5981e20d1.jpg  \n",
            "  inflating: hymenoptera_data/val/ants/161076144_124db762d6.jpg  \n",
            "  inflating: hymenoptera_data/val/ants/161292361_c16e0bf57a.jpg  \n",
            "  inflating: hymenoptera_data/val/ants/170652283_ecdaff5d1a.jpg  \n",
            "  inflating: hymenoptera_data/val/ants/17081114_79b9a27724.jpg  \n",
            "  inflating: hymenoptera_data/val/ants/172772109_d0a8e15fb0.jpg  \n",
            "  inflating: hymenoptera_data/val/ants/1743840368_b5ccda82b7.jpg  \n",
            "  inflating: hymenoptera_data/val/ants/181942028_961261ef48.jpg  \n",
            "  inflating: hymenoptera_data/val/ants/183260961_64ab754c97.jpg  \n",
            "  inflating: hymenoptera_data/val/ants/2039585088_c6f47c592e.jpg  \n",
            "  inflating: hymenoptera_data/val/ants/205398178_c395c5e460.jpg  \n",
            "  inflating: hymenoptera_data/val/ants/208072188_f293096296.jpg  \n",
            "  inflating: hymenoptera_data/val/ants/209615353_eeb38ba204.jpg  \n",
            "  inflating: hymenoptera_data/val/ants/2104709400_8831b4fc6f.jpg  \n",
            "  inflating: hymenoptera_data/val/ants/212100470_b485e7b7b9.jpg  \n",
            "  inflating: hymenoptera_data/val/ants/2127908701_d49dc83c97.jpg  \n",
            "  inflating: hymenoptera_data/val/ants/2191997003_379df31291.jpg  \n",
            "  inflating: hymenoptera_data/val/ants/2211974567_ee4606b493.jpg  \n",
            "  inflating: hymenoptera_data/val/ants/2219621907_47bc7cc6b0.jpg  \n",
            "  inflating: hymenoptera_data/val/ants/2238242353_52c82441df.jpg  \n",
            "  inflating: hymenoptera_data/val/ants/2255445811_dabcdf7258.jpg  \n",
            "  inflating: hymenoptera_data/val/ants/239161491_86ac23b0a3.jpg  \n",
            "  inflating: hymenoptera_data/val/ants/263615709_cfb28f6b8e.jpg  \n",
            "  inflating: hymenoptera_data/val/ants/308196310_1db5ffa01b.jpg  \n",
            "  inflating: hymenoptera_data/val/ants/319494379_648fb5a1c6.jpg  \n",
            "  inflating: hymenoptera_data/val/ants/35558229_1fa4608a7a.jpg  \n",
            "  inflating: hymenoptera_data/val/ants/412436937_4c2378efc2.jpg  \n",
            "  inflating: hymenoptera_data/val/ants/436944325_d4925a38c7.jpg  \n",
            "  inflating: hymenoptera_data/val/ants/445356866_6cb3289067.jpg  \n",
            "  inflating: hymenoptera_data/val/ants/459442412_412fecf3fe.jpg  \n",
            "  inflating: hymenoptera_data/val/ants/470127071_8b8ee2bd74.jpg  \n",
            "  inflating: hymenoptera_data/val/ants/477437164_bc3e6e594a.jpg  \n",
            "  inflating: hymenoptera_data/val/ants/488272201_c5aa281348.jpg  \n",
            "  inflating: hymenoptera_data/val/ants/502717153_3e4865621a.jpg  \n",
            "  inflating: hymenoptera_data/val/ants/518746016_bcc28f8b5b.jpg  \n",
            "  inflating: hymenoptera_data/val/ants/540543309_ddbb193ee5.jpg  \n",
            "  inflating: hymenoptera_data/val/ants/562589509_7e55469b97.jpg  \n",
            "  inflating: hymenoptera_data/val/ants/57264437_a19006872f.jpg  \n",
            "  inflating: hymenoptera_data/val/ants/573151833_ebbc274b77.jpg  \n",
            "  inflating: hymenoptera_data/val/ants/649407494_9b6bc4949f.jpg  \n",
            "  inflating: hymenoptera_data/val/ants/751649788_78dd7d16ce.jpg  \n",
            "  inflating: hymenoptera_data/val/ants/768870506_8f115d3d37.jpg  \n",
            "  inflating: hymenoptera_data/val/ants/800px-Meat_eater_ant_qeen_excavating_hole.jpg  \n",
            "  inflating: hymenoptera_data/val/ants/8124241_36b290d372.jpg  \n",
            "  inflating: hymenoptera_data/val/ants/8398478_50ef10c47a.jpg  \n",
            "  inflating: hymenoptera_data/val/ants/854534770_31f6156383.jpg  \n",
            "  inflating: hymenoptera_data/val/ants/892676922_4ab37dce07.jpg  \n",
            "  inflating: hymenoptera_data/val/ants/94999827_36895faade.jpg  \n",
            "  inflating: hymenoptera_data/val/ants/Ant-1818.jpg  \n",
            "  inflating: hymenoptera_data/val/ants/ants-devouring-remains-of-large-dead-insect-on-red-tile-in-Stellenbosch-South-Africa-closeup-1-DHD.jpg  \n",
            "  inflating: hymenoptera_data/val/ants/desert_ant.jpg  \n",
            "  inflating: hymenoptera_data/val/ants/F.pergan.28(f).jpg  \n",
            "  inflating: hymenoptera_data/val/ants/Hormiga.jpg  \n",
            "   creating: hymenoptera_data/val/bees/\n",
            "  inflating: hymenoptera_data/val/bees/1032546534_06907fe3b3.jpg  \n",
            "  inflating: hymenoptera_data/val/bees/10870992_eebeeb3a12.jpg  \n",
            "  inflating: hymenoptera_data/val/bees/1181173278_23c36fac71.jpg  \n",
            "  inflating: hymenoptera_data/val/bees/1297972485_33266a18d9.jpg  \n",
            "  inflating: hymenoptera_data/val/bees/1328423762_f7a88a8451.jpg  \n",
            "  inflating: hymenoptera_data/val/bees/1355974687_1341c1face.jpg  \n",
            "  inflating: hymenoptera_data/val/bees/144098310_a4176fd54d.jpg  \n",
            "  inflating: hymenoptera_data/val/bees/1486120850_490388f84b.jpg  \n",
            "  inflating: hymenoptera_data/val/bees/149973093_da3c446268.jpg  \n",
            "  inflating: hymenoptera_data/val/bees/151594775_ee7dc17b60.jpg  \n",
            "  inflating: hymenoptera_data/val/bees/151603988_2c6f7d14c7.jpg  \n",
            "  inflating: hymenoptera_data/val/bees/1519368889_4270261ee3.jpg  \n",
            "  inflating: hymenoptera_data/val/bees/152789693_220b003452.jpg  \n",
            "  inflating: hymenoptera_data/val/bees/177677657_a38c97e572.jpg  \n",
            "  inflating: hymenoptera_data/val/bees/1799729694_0c40101071.jpg  \n",
            "  inflating: hymenoptera_data/val/bees/181171681_c5a1a82ded.jpg  \n",
            "  inflating: hymenoptera_data/val/bees/187130242_4593a4c610.jpg  \n",
            "  inflating: hymenoptera_data/val/bees/203868383_0fcbb48278.jpg  \n",
            "  inflating: hymenoptera_data/val/bees/2060668999_e11edb10d0.jpg  \n",
            "  inflating: hymenoptera_data/val/bees/2086294791_6f3789d8a6.jpg  \n",
            "  inflating: hymenoptera_data/val/bees/2103637821_8d26ee6b90.jpg  \n",
            "  inflating: hymenoptera_data/val/bees/2104135106_a65eede1de.jpg  \n",
            "  inflating: hymenoptera_data/val/bees/215512424_687e1e0821.jpg  \n",
            "  inflating: hymenoptera_data/val/bees/2173503984_9c6aaaa7e2.jpg  \n",
            "  inflating: hymenoptera_data/val/bees/220376539_20567395d8.jpg  \n",
            "  inflating: hymenoptera_data/val/bees/224841383_d050f5f510.jpg  \n",
            "  inflating: hymenoptera_data/val/bees/2321144482_f3785ba7b2.jpg  \n",
            "  inflating: hymenoptera_data/val/bees/238161922_55fa9a76ae.jpg  \n",
            "  inflating: hymenoptera_data/val/bees/2407809945_fb525ef54d.jpg  \n",
            "  inflating: hymenoptera_data/val/bees/2415414155_1916f03b42.jpg  \n",
            "  inflating: hymenoptera_data/val/bees/2438480600_40a1249879.jpg  \n",
            "  inflating: hymenoptera_data/val/bees/2444778727_4b781ac424.jpg  \n",
            "  inflating: hymenoptera_data/val/bees/2457841282_7867f16639.jpg  \n",
            "  inflating: hymenoptera_data/val/bees/2470492902_3572c90f75.jpg  \n",
            "  inflating: hymenoptera_data/val/bees/2478216347_535c8fe6d7.jpg  \n",
            "  inflating: hymenoptera_data/val/bees/2501530886_e20952b97d.jpg  \n",
            "  inflating: hymenoptera_data/val/bees/2506114833_90a41c5267.jpg  \n",
            "  inflating: hymenoptera_data/val/bees/2509402554_31821cb0b6.jpg  \n",
            "  inflating: hymenoptera_data/val/bees/2525379273_dcb26a516d.jpg  \n",
            "  inflating: hymenoptera_data/val/bees/26589803_5ba7000313.jpg  \n",
            "  inflating: hymenoptera_data/val/bees/2668391343_45e272cd07.jpg  \n",
            "  inflating: hymenoptera_data/val/bees/2670536155_c170f49cd0.jpg  \n",
            "  inflating: hymenoptera_data/val/bees/2685605303_9eed79d59d.jpg  \n",
            "  inflating: hymenoptera_data/val/bees/2702408468_d9ed795f4f.jpg  \n",
            "  inflating: hymenoptera_data/val/bees/2709775832_85b4b50a57.jpg  \n",
            "  inflating: hymenoptera_data/val/bees/2717418782_bd83307d9f.jpg  \n",
            "  inflating: hymenoptera_data/val/bees/272986700_d4d4bf8c4b.jpg  \n",
            "  inflating: hymenoptera_data/val/bees/2741763055_9a7bb00802.jpg  \n",
            "  inflating: hymenoptera_data/val/bees/2745389517_250a397f31.jpg  \n",
            "  inflating: hymenoptera_data/val/bees/2751836205_6f7b5eff30.jpg  \n",
            "  inflating: hymenoptera_data/val/bees/2782079948_8d4e94a826.jpg  \n",
            "  inflating: hymenoptera_data/val/bees/2809496124_5f25b5946a.jpg  \n",
            "  inflating: hymenoptera_data/val/bees/2815838190_0a9889d995.jpg  \n",
            "  inflating: hymenoptera_data/val/bees/2841437312_789699c740.jpg  \n",
            "  inflating: hymenoptera_data/val/bees/2883093452_7e3a1eb53f.jpg  \n",
            "  inflating: hymenoptera_data/val/bees/290082189_f66cb80bfc.jpg  \n",
            "  inflating: hymenoptera_data/val/bees/296565463_d07a7bed96.jpg  \n",
            "  inflating: hymenoptera_data/val/bees/3077452620_548c79fda0.jpg  \n",
            "  inflating: hymenoptera_data/val/bees/348291597_ee836fbb1a.jpg  \n",
            "  inflating: hymenoptera_data/val/bees/350436573_41f4ecb6c8.jpg  \n",
            "  inflating: hymenoptera_data/val/bees/353266603_d3eac7e9a0.jpg  \n",
            "  inflating: hymenoptera_data/val/bees/372228424_16da1f8884.jpg  \n",
            "  inflating: hymenoptera_data/val/bees/400262091_701c00031c.jpg  \n",
            "  inflating: hymenoptera_data/val/bees/416144384_961c326481.jpg  \n",
            "  inflating: hymenoptera_data/val/bees/44105569_16720a960c.jpg  \n",
            "  inflating: hymenoptera_data/val/bees/456097971_860949c4fc.jpg  \n",
            "  inflating: hymenoptera_data/val/bees/464594019_1b24a28bb1.jpg  \n",
            "  inflating: hymenoptera_data/val/bees/485743562_d8cc6b8f73.jpg  \n",
            "  inflating: hymenoptera_data/val/bees/540976476_844950623f.jpg  \n",
            "  inflating: hymenoptera_data/val/bees/54736755_c057723f64.jpg  \n",
            "  inflating: hymenoptera_data/val/bees/57459255_752774f1b2.jpg  \n",
            "  inflating: hymenoptera_data/val/bees/576452297_897023f002.jpg  \n",
            "  inflating: hymenoptera_data/val/bees/586474709_ae436da045.jpg  \n",
            "  inflating: hymenoptera_data/val/bees/590318879_68cf112861.jpg  \n",
            "  inflating: hymenoptera_data/val/bees/59798110_2b6a3c8031.jpg  \n",
            "  inflating: hymenoptera_data/val/bees/603709866_a97c7cfc72.jpg  \n",
            "  inflating: hymenoptera_data/val/bees/603711658_4c8cd2201e.jpg  \n",
            "  inflating: hymenoptera_data/val/bees/65038344_52a45d090d.jpg  \n",
            "  inflating: hymenoptera_data/val/bees/6a00d8341c630a53ef00e553d0beb18834-800wi.jpg  \n",
            "  inflating: hymenoptera_data/val/bees/72100438_73de9f17af.jpg  \n",
            "  inflating: hymenoptera_data/val/bees/759745145_e8bc776ec8.jpg  \n",
            "  inflating: hymenoptera_data/val/bees/936182217_c4caa5222d.jpg  \n",
            "  inflating: hymenoptera_data/val/bees/abeja.jpg  \n"
          ],
          "name": "stdout"
        }
      ]
    },
    {
      "cell_type": "code",
      "metadata": {
        "id": "pQOIxwOuN67f",
        "colab_type": "code",
        "colab": {
          "base_uri": "https://localhost:8080/",
          "height": 34
        },
        "outputId": "3f837be6-da26-441e-c23a-b98592188b8f"
      },
      "source": [
        "#解凍できたか確認\n",
        "!ls"
      ],
      "execution_count": 7,
      "outputs": [
        {
          "output_type": "stream",
          "text": [
            "hymenoptera_data  hymenoptera_data.zip\tsample_data\n"
          ],
          "name": "stdout"
        }
      ]
    },
    {
      "cell_type": "code",
      "metadata": {
        "id": "hGEnGPOTN92R",
        "colab_type": "code",
        "colab": {
          "base_uri": "https://localhost:8080/",
          "height": 34
        },
        "outputId": "edac5bfe-f100-4d6b-e5d9-af8baaa1cb42"
      },
      "source": [
        "#hymenoptera_dataの中身を確認\n",
        "!ls hymenoptera_data"
      ],
      "execution_count": 8,
      "outputs": [
        {
          "output_type": "stream",
          "text": [
            "train  val\n"
          ],
          "name": "stdout"
        }
      ]
    },
    {
      "cell_type": "code",
      "metadata": {
        "id": "oxXP96skOAYT",
        "colab_type": "code",
        "colab": {
          "base_uri": "https://localhost:8080/",
          "height": 34
        },
        "outputId": "a8fbc179-5e89-4bcc-f3a7-d0c76f75c53e"
      },
      "source": [
        "#trainの中を確認\n",
        "!ls hymenoptera_data/train"
      ],
      "execution_count": 9,
      "outputs": [
        {
          "output_type": "stream",
          "text": [
            "ants  bees\n"
          ],
          "name": "stdout"
        }
      ]
    },
    {
      "cell_type": "code",
      "metadata": {
        "id": "6Khbgg9TOZt8",
        "colab_type": "code",
        "colab": {}
      },
      "source": [
        "#前処理の定義\n",
        "transform = transforms.Compose([\n",
        "                                transforms.Resize((224,224)),\n",
        "                                transforms.ToTensor(),\n",
        "                                transforms.Normalize((0.5, ), (0.5, ))\n",
        "])"
      ],
      "execution_count": 10,
      "outputs": []
    },
    {
      "cell_type": "code",
      "metadata": {
        "id": "Jj8zKumPO1wF",
        "colab_type": "code",
        "colab": {}
      },
      "source": [
        "#今回はImageFolderを使用して使いたいデータのあるフォルダを指定する\n",
        "#最初から画像毎にフォルダが分かれている場合にはImageFolder、そうでない場合は後で説明をするカスタムデータセットを使う。\n",
        "train_dataset = datasets.ImageFolder(\"./hymenoptera_data/train\", transform=transform)\n",
        "#Dataloader作成\n",
        "train_loader = DataLoader(train_dataset, batch_size=32, shuffle=True)"
      ],
      "execution_count": 13,
      "outputs": []
    },
    {
      "cell_type": "code",
      "metadata": {
        "id": "etmgjjWGP2ov",
        "colab_type": "code",
        "colab": {}
      },
      "source": [
        "#データを取り出してみる\n",
        "data_iter = iter(train_loader)\n",
        "imgs, labels = data_iter.next()"
      ],
      "execution_count": 14,
      "outputs": []
    },
    {
      "cell_type": "code",
      "metadata": {
        "id": "6ftXYJzkQZTr",
        "colab_type": "code",
        "colab": {
          "base_uri": "https://localhost:8080/",
          "height": 51
        },
        "outputId": "42c173b6-ceb8-461a-bc68-70c3dfdc61ce"
      },
      "source": [
        "labels"
      ],
      "execution_count": 15,
      "outputs": [
        {
          "output_type": "execute_result",
          "data": {
            "text/plain": [
              "tensor([0, 0, 0, 1, 1, 1, 1, 0, 1, 1, 0, 1, 0, 0, 0, 0, 1, 1, 1, 0, 1, 0, 0, 0,\n",
              "        1, 0, 0, 1, 0, 0, 1, 1])"
            ]
          },
          "metadata": {
            "tags": []
          },
          "execution_count": 15
        }
      ]
    },
    {
      "cell_type": "code",
      "metadata": {
        "id": "mWWwNwfXQaT9",
        "colab_type": "code",
        "colab": {
          "base_uri": "https://localhost:8080/",
          "height": 34
        },
        "outputId": "9aeea5ca-8e3c-46a5-9afe-5238033e7ae0"
      },
      "source": [
        "#バッチサイズ, カラー, 縦, 横\n",
        "#(224,224)にリサイズされてる\n",
        "imgs.size()"
      ],
      "execution_count": 17,
      "outputs": [
        {
          "output_type": "execute_result",
          "data": {
            "text/plain": [
              "torch.Size([32, 3, 224, 224])"
            ]
          },
          "metadata": {
            "tags": []
          },
          "execution_count": 17
        }
      ]
    },
    {
      "cell_type": "code",
      "metadata": {
        "id": "UXFwTQttQb0Q",
        "colab_type": "code",
        "colab": {}
      },
      "source": [
        "#０番目を取り出す\n",
        "img = imgs[0]\n",
        "#配列を変更\n",
        "img_permute = img.permute(1, 2, 0)\n",
        "#明るさを調整\n",
        "img_permute = 0.5 * img_permute + 0.5\n",
        "\n",
        "#np.clip : NumPy配列ndarrayを任意の最小値・最大値に収める\n",
        "#第一引数aに処理する配列ndarray、第二引数a_minに最小値、第三引数a_maxに最大値を指定する。\n",
        "img_permute = np.clip(img_permute, 0, 1)"
      ],
      "execution_count": 18,
      "outputs": []
    },
    {
      "cell_type": "code",
      "metadata": {
        "id": "5YdDP20TRuA8",
        "colab_type": "code",
        "colab": {
          "base_uri": "https://localhost:8080/",
          "height": 286
        },
        "outputId": "abb06299-64aa-40fd-87e2-1840998d148d"
      },
      "source": [
        "plt.imshow(img_permute)"
      ],
      "execution_count": 19,
      "outputs": [
        {
          "output_type": "execute_result",
          "data": {
            "text/plain": [
              "<matplotlib.image.AxesImage at 0x7fe4bc9a5da0>"
            ]
          },
          "metadata": {
            "tags": []
          },
          "execution_count": 19
        },
        {
          "output_type": "display_data",
          "data": {
            "image/png": "[encoded data removed]",
            "text/plain": [
              "<Figure size 432x288 with 1 Axes>"
            ]
          },
          "metadata": {
            "tags": [],
            "needs_background": "light"
          }
        }
      ]
    },
    {
      "cell_type": "markdown",
      "metadata": {
        "id": "f-90sWXpR45k",
        "colab_type": "text"
      },
      "source": [
        "０：アリ、\n",
        "１：ハチ\n"
      ]
    },
    {
      "cell_type": "code",
      "metadata": {
        "id": "leAVRJmERxK8",
        "colab_type": "code",
        "colab": {
          "base_uri": "https://localhost:8080/",
          "height": 83,
          "referenced_widgets": [
            "7fa803d475f940dab680fec86b7a8f5e",
            "42fcc454b81248698214ae97aeb7bc86",
            "d006c9407b6d4dc5a32eab4b8049fd06",
            "b48e36d9f9044354a761bbd4e275c73d",
            "16578378746b4bf0a6e6cfe1a9cb36c1",
            "23d81e37a6e34326ba0aa06bb9386bdd",
            "7d831d9f46f9491995bb65f4c732946e",
            "5867ee75dbfd4d26af00feef1cb86a02"
          ]
        },
        "outputId": "01931506-fdc3-4e63-9176-f937f4293bd6"
      },
      "source": [
        "#学習済みモデルの重みをダウンロード\n",
        "model = models.resnet18(pretrained=True)"
      ],
      "execution_count": 20,
      "outputs": [
        {
          "output_type": "stream",
          "text": [
            "Downloading: \"https://download.pytorch.org/models/resnet18-5c106cde.pth\" to /root/.cache/torch/hub/checkpoints/resnet18-5c106cde.pth\n"
          ],
          "name": "stderr"
        },
        {
          "output_type": "display_data",
          "data": {
            "application/vnd.jupyter.widget-view+json": {
              "model_id": "7fa803d475f940dab680fec86b7a8f5e",
              "version_minor": 0,
              "version_major": 2
            },
            "text/plain": [
              "HBox(children=(FloatProgress(value=0.0, max=46827520.0), HTML(value='')))"
            ]
          },
          "metadata": {
            "tags": []
          }
        },
        {
          "output_type": "stream",
          "text": [
            "\n"
          ],
          "name": "stdout"
        }
      ]
    },
    {
      "cell_type": "code",
      "metadata": {
        "id": "1RMu-UN_S9eO",
        "colab_type": "code",
        "colab": {
          "base_uri": "https://localhost:8080/",
          "height": 1000
        },
        "outputId": "cb7c1919-5aa3-4f22-92f8-42872f3b4ae4"
      },
      "source": [
        "#モデル確認\n",
        "print(model)"
      ],
      "execution_count": 21,
      "outputs": [
        {
          "output_type": "stream",
          "text": [
            "ResNet(\n",
            "  (conv1): Conv2d(3, 64, kernel_size=(7, 7), stride=(2, 2), padding=(3, 3), bias=False)\n",
            "  (bn1): BatchNorm2d(64, eps=1e-05, momentum=0.1, affine=True, track_running_stats=True)\n",
            "  (relu): ReLU(inplace=True)\n",
            "  (maxpool): MaxPool2d(kernel_size=3, stride=2, padding=1, dilation=1, ceil_mode=False)\n",
            "  (layer1): Sequential(\n",
            "    (0): BasicBlock(\n",
            "      (conv1): Conv2d(64, 64, kernel_size=(3, 3), stride=(1, 1), padding=(1, 1), bias=False)\n",
            "      (bn1): BatchNorm2d(64, eps=1e-05, momentum=0.1, affine=True, track_running_stats=True)\n",
            "      (relu): ReLU(inplace=True)\n",
            "      (conv2): Conv2d(64, 64, kernel_size=(3, 3), stride=(1, 1), padding=(1, 1), bias=False)\n",
            "      (bn2): BatchNorm2d(64, eps=1e-05, momentum=0.1, affine=True, track_running_stats=True)\n",
            "    )\n",
            "    (1): BasicBlock(\n",
            "      (conv1): Conv2d(64, 64, kernel_size=(3, 3), stride=(1, 1), padding=(1, 1), bias=False)\n",
            "      (bn1): BatchNorm2d(64, eps=1e-05, momentum=0.1, affine=True, track_running_stats=True)\n",
            "      (relu): ReLU(inplace=True)\n",
            "      (conv2): Conv2d(64, 64, kernel_size=(3, 3), stride=(1, 1), padding=(1, 1), bias=False)\n",
            "      (bn2): BatchNorm2d(64, eps=1e-05, momentum=0.1, affine=True, track_running_stats=True)\n",
            "    )\n",
            "  )\n",
            "  (layer2): Sequential(\n",
            "    (0): BasicBlock(\n",
            "      (conv1): Conv2d(64, 128, kernel_size=(3, 3), stride=(2, 2), padding=(1, 1), bias=False)\n",
            "      (bn1): BatchNorm2d(128, eps=1e-05, momentum=0.1, affine=True, track_running_stats=True)\n",
            "      (relu): ReLU(inplace=True)\n",
            "      (conv2): Conv2d(128, 128, kernel_size=(3, 3), stride=(1, 1), padding=(1, 1), bias=False)\n",
            "      (bn2): BatchNorm2d(128, eps=1e-05, momentum=0.1, affine=True, track_running_stats=True)\n",
            "      (downsample): Sequential(\n",
            "        (0): Conv2d(64, 128, kernel_size=(1, 1), stride=(2, 2), bias=False)\n",
            "        (1): BatchNorm2d(128, eps=1e-05, momentum=0.1, affine=True, track_running_stats=True)\n",
            "      )\n",
            "    )\n",
            "    (1): BasicBlock(\n",
            "      (conv1): Conv2d(128, 128, kernel_size=(3, 3), stride=(1, 1), padding=(1, 1), bias=False)\n",
            "      (bn1): BatchNorm2d(128, eps=1e-05, momentum=0.1, affine=True, track_running_stats=True)\n",
            "      (relu): ReLU(inplace=True)\n",
            "      (conv2): Conv2d(128, 128, kernel_size=(3, 3), stride=(1, 1), padding=(1, 1), bias=False)\n",
            "      (bn2): BatchNorm2d(128, eps=1e-05, momentum=0.1, affine=True, track_running_stats=True)\n",
            "    )\n",
            "  )\n",
            "  (layer3): Sequential(\n",
            "    (0): BasicBlock(\n",
            "      (conv1): Conv2d(128, 256, kernel_size=(3, 3), stride=(2, 2), padding=(1, 1), bias=False)\n",
            "      (bn1): BatchNorm2d(256, eps=1e-05, momentum=0.1, affine=True, track_running_stats=True)\n",
            "      (relu): ReLU(inplace=True)\n",
            "      (conv2): Conv2d(256, 256, kernel_size=(3, 3), stride=(1, 1), padding=(1, 1), bias=False)\n",
            "      (bn2): BatchNorm2d(256, eps=1e-05, momentum=0.1, affine=True, track_running_stats=True)\n",
            "      (downsample): Sequential(\n",
            "        (0): Conv2d(128, 256, kernel_size=(1, 1), stride=(2, 2), bias=False)\n",
            "        (1): BatchNorm2d(256, eps=1e-05, momentum=0.1, affine=True, track_running_stats=True)\n",
            "      )\n",
            "    )\n",
            "    (1): BasicBlock(\n",
            "      (conv1): Conv2d(256, 256, kernel_size=(3, 3), stride=(1, 1), padding=(1, 1), bias=False)\n",
            "      (bn1): BatchNorm2d(256, eps=1e-05, momentum=0.1, affine=True, track_running_stats=True)\n",
            "      (relu): ReLU(inplace=True)\n",
            "      (conv2): Conv2d(256, 256, kernel_size=(3, 3), stride=(1, 1), padding=(1, 1), bias=False)\n",
            "      (bn2): BatchNorm2d(256, eps=1e-05, momentum=0.1, affine=True, track_running_stats=True)\n",
            "    )\n",
            "  )\n",
            "  (layer4): Sequential(\n",
            "    (0): BasicBlock(\n",
            "      (conv1): Conv2d(256, 512, kernel_size=(3, 3), stride=(2, 2), padding=(1, 1), bias=False)\n",
            "      (bn1): BatchNorm2d(512, eps=1e-05, momentum=0.1, affine=True, track_running_stats=True)\n",
            "      (relu): ReLU(inplace=True)\n",
            "      (conv2): Conv2d(512, 512, kernel_size=(3, 3), stride=(1, 1), padding=(1, 1), bias=False)\n",
            "      (bn2): BatchNorm2d(512, eps=1e-05, momentum=0.1, affine=True, track_running_stats=True)\n",
            "      (downsample): Sequential(\n",
            "        (0): Conv2d(256, 512, kernel_size=(1, 1), stride=(2, 2), bias=False)\n",
            "        (1): BatchNorm2d(512, eps=1e-05, momentum=0.1, affine=True, track_running_stats=True)\n",
            "      )\n",
            "    )\n",
            "    (1): BasicBlock(\n",
            "      (conv1): Conv2d(512, 512, kernel_size=(3, 3), stride=(1, 1), padding=(1, 1), bias=False)\n",
            "      (bn1): BatchNorm2d(512, eps=1e-05, momentum=0.1, affine=True, track_running_stats=True)\n",
            "      (relu): ReLU(inplace=True)\n",
            "      (conv2): Conv2d(512, 512, kernel_size=(3, 3), stride=(1, 1), padding=(1, 1), bias=False)\n",
            "      (bn2): BatchNorm2d(512, eps=1e-05, momentum=0.1, affine=True, track_running_stats=True)\n",
            "    )\n",
            "  )\n",
            "  (avgpool): AdaptiveAvgPool2d(output_size=(1, 1))\n",
            "  (fc): Linear(in_features=512, out_features=1000, bias=True)\n",
            ")\n"
          ],
          "name": "stdout"
        }
      ]
    },
    {
      "cell_type": "code",
      "metadata": {
        "id": "x4QNtRKcTCg8",
        "colab_type": "code",
        "colab": {}
      },
      "source": [
        "#勾配計算しないように設定\n",
        "for param in model.parameters():\n",
        "    param.requires_grad = False"
      ],
      "execution_count": 22,
      "outputs": []
    },
    {
      "cell_type": "code",
      "metadata": {
        "id": "9qMfftkQThxp",
        "colab_type": "code",
        "colab": {}
      },
      "source": [
        "#最後の層を付け替え\n",
        "model.fc = nn.Linear(512, 2)"
      ],
      "execution_count": 23,
      "outputs": []
    },
    {
      "cell_type": "code",
      "metadata": {
        "id": "QVpn_IwgTvtk",
        "colab_type": "code",
        "colab": {
          "base_uri": "https://localhost:8080/",
          "height": 1000
        },
        "outputId": "087eea7f-0f61-4b67-9770-e6fbb7d7c02e"
      },
      "source": [
        "#モデルを確認\n",
        "print(model)"
      ],
      "execution_count": 24,
      "outputs": [
        {
          "output_type": "stream",
          "text": [
            "ResNet(\n",
            "  (conv1): Conv2d(3, 64, kernel_size=(7, 7), stride=(2, 2), padding=(3, 3), bias=False)\n",
            "  (bn1): BatchNorm2d(64, eps=1e-05, momentum=0.1, affine=True, track_running_stats=True)\n",
            "  (relu): ReLU(inplace=True)\n",
            "  (maxpool): MaxPool2d(kernel_size=3, stride=2, padding=1, dilation=1, ceil_mode=False)\n",
            "  (layer1): Sequential(\n",
            "    (0): BasicBlock(\n",
            "      (conv1): Conv2d(64, 64, kernel_size=(3, 3), stride=(1, 1), padding=(1, 1), bias=False)\n",
            "      (bn1): BatchNorm2d(64, eps=1e-05, momentum=0.1, affine=True, track_running_stats=True)\n",
            "      (relu): ReLU(inplace=True)\n",
            "      (conv2): Conv2d(64, 64, kernel_size=(3, 3), stride=(1, 1), padding=(1, 1), bias=False)\n",
            "      (bn2): BatchNorm2d(64, eps=1e-05, momentum=0.1, affine=True, track_running_stats=True)\n",
            "    )\n",
            "    (1): BasicBlock(\n",
            "      (conv1): Conv2d(64, 64, kernel_size=(3, 3), stride=(1, 1), padding=(1, 1), bias=False)\n",
            "      (bn1): BatchNorm2d(64, eps=1e-05, momentum=0.1, affine=True, track_running_stats=True)\n",
            "      (relu): ReLU(inplace=True)\n",
            "      (conv2): Conv2d(64, 64, kernel_size=(3, 3), stride=(1, 1), padding=(1, 1), bias=False)\n",
            "      (bn2): BatchNorm2d(64, eps=1e-05, momentum=0.1, affine=True, track_running_stats=True)\n",
            "    )\n",
            "  )\n",
            "  (layer2): Sequential(\n",
            "    (0): BasicBlock(\n",
            "      (conv1): Conv2d(64, 128, kernel_size=(3, 3), stride=(2, 2), padding=(1, 1), bias=False)\n",
            "      (bn1): BatchNorm2d(128, eps=1e-05, momentum=0.1, affine=True, track_running_stats=True)\n",
            "      (relu): ReLU(inplace=True)\n",
            "      (conv2): Conv2d(128, 128, kernel_size=(3, 3), stride=(1, 1), padding=(1, 1), bias=False)\n",
            "      (bn2): BatchNorm2d(128, eps=1e-05, momentum=0.1, affine=True, track_running_stats=True)\n",
            "      (downsample): Sequential(\n",
            "        (0): Conv2d(64, 128, kernel_size=(1, 1), stride=(2, 2), bias=False)\n",
            "        (1): BatchNorm2d(128, eps=1e-05, momentum=0.1, affine=True, track_running_stats=True)\n",
            "      )\n",
            "    )\n",
            "    (1): BasicBlock(\n",
            "      (conv1): Conv2d(128, 128, kernel_size=(3, 3), stride=(1, 1), padding=(1, 1), bias=False)\n",
            "      (bn1): BatchNorm2d(128, eps=1e-05, momentum=0.1, affine=True, track_running_stats=True)\n",
            "      (relu): ReLU(inplace=True)\n",
            "      (conv2): Conv2d(128, 128, kernel_size=(3, 3), stride=(1, 1), padding=(1, 1), bias=False)\n",
            "      (bn2): BatchNorm2d(128, eps=1e-05, momentum=0.1, affine=True, track_running_stats=True)\n",
            "    )\n",
            "  )\n",
            "  (layer3): Sequential(\n",
            "    (0): BasicBlock(\n",
            "      (conv1): Conv2d(128, 256, kernel_size=(3, 3), stride=(2, 2), padding=(1, 1), bias=False)\n",
            "      (bn1): BatchNorm2d(256, eps=1e-05, momentum=0.1, affine=True, track_running_stats=True)\n",
            "      (relu): ReLU(inplace=True)\n",
            "      (conv2): Conv2d(256, 256, kernel_size=(3, 3), stride=(1, 1), padding=(1, 1), bias=False)\n",
            "      (bn2): BatchNorm2d(256, eps=1e-05, momentum=0.1, affine=True, track_running_stats=True)\n",
            "      (downsample): Sequential(\n",
            "        (0): Conv2d(128, 256, kernel_size=(1, 1), stride=(2, 2), bias=False)\n",
            "        (1): BatchNorm2d(256, eps=1e-05, momentum=0.1, affine=True, track_running_stats=True)\n",
            "      )\n",
            "    )\n",
            "    (1): BasicBlock(\n",
            "      (conv1): Conv2d(256, 256, kernel_size=(3, 3), stride=(1, 1), padding=(1, 1), bias=False)\n",
            "      (bn1): BatchNorm2d(256, eps=1e-05, momentum=0.1, affine=True, track_running_stats=True)\n",
            "      (relu): ReLU(inplace=True)\n",
            "      (conv2): Conv2d(256, 256, kernel_size=(3, 3), stride=(1, 1), padding=(1, 1), bias=False)\n",
            "      (bn2): BatchNorm2d(256, eps=1e-05, momentum=0.1, affine=True, track_running_stats=True)\n",
            "    )\n",
            "  )\n",
            "  (layer4): Sequential(\n",
            "    (0): BasicBlock(\n",
            "      (conv1): Conv2d(256, 512, kernel_size=(3, 3), stride=(2, 2), padding=(1, 1), bias=False)\n",
            "      (bn1): BatchNorm2d(512, eps=1e-05, momentum=0.1, affine=True, track_running_stats=True)\n",
            "      (relu): ReLU(inplace=True)\n",
            "      (conv2): Conv2d(512, 512, kernel_size=(3, 3), stride=(1, 1), padding=(1, 1), bias=False)\n",
            "      (bn2): BatchNorm2d(512, eps=1e-05, momentum=0.1, affine=True, track_running_stats=True)\n",
            "      (downsample): Sequential(\n",
            "        (0): Conv2d(256, 512, kernel_size=(1, 1), stride=(2, 2), bias=False)\n",
            "        (1): BatchNorm2d(512, eps=1e-05, momentum=0.1, affine=True, track_running_stats=True)\n",
            "      )\n",
            "    )\n",
            "    (1): BasicBlock(\n",
            "      (conv1): Conv2d(512, 512, kernel_size=(3, 3), stride=(1, 1), padding=(1, 1), bias=False)\n",
            "      (bn1): BatchNorm2d(512, eps=1e-05, momentum=0.1, affine=True, track_running_stats=True)\n",
            "      (relu): ReLU(inplace=True)\n",
            "      (conv2): Conv2d(512, 512, kernel_size=(3, 3), stride=(1, 1), padding=(1, 1), bias=False)\n",
            "      (bn2): BatchNorm2d(512, eps=1e-05, momentum=0.1, affine=True, track_running_stats=True)\n",
            "    )\n",
            "  )\n",
            "  (avgpool): AdaptiveAvgPool2d(output_size=(1, 1))\n",
            "  (fc): Linear(in_features=512, out_features=2, bias=True)\n",
            ")\n"
          ],
          "name": "stdout"
        }
      ]
    },
    {
      "cell_type": "code",
      "metadata": {
        "id": "X2zz9n21T0Pp",
        "colab_type": "code",
        "colab": {
          "base_uri": "https://localhost:8080/",
          "height": 1000
        },
        "outputId": "bca9089a-b03d-4cc7-e049-dccff2823631"
      },
      "source": [
        "#GPUにもでるを送る\n",
        "model.to(device)"
      ],
      "execution_count": 25,
      "outputs": [
        {
          "output_type": "execute_result",
          "data": {
            "text/plain": [
              "ResNet(\n",
              "  (conv1): Conv2d(3, 64, kernel_size=(7, 7), stride=(2, 2), padding=(3, 3), bias=False)\n",
              "  (bn1): BatchNorm2d(64, eps=1e-05, momentum=0.1, affine=True, track_running_stats=True)\n",
              "  (relu): ReLU(inplace=True)\n",
              "  (maxpool): MaxPool2d(kernel_size=3, stride=2, padding=1, dilation=1, ceil_mode=False)\n",
              "  (layer1): Sequential(\n",
              "    (0): BasicBlock(\n",
              "      (conv1): Conv2d(64, 64, kernel_size=(3, 3), stride=(1, 1), padding=(1, 1), bias=False)\n",
              "      (bn1): BatchNorm2d(64, eps=1e-05, momentum=0.1, affine=True, track_running_stats=True)\n",
              "      (relu): ReLU(inplace=True)\n",
              "      (conv2): Conv2d(64, 64, kernel_size=(3, 3), stride=(1, 1), padding=(1, 1), bias=False)\n",
              "      (bn2): BatchNorm2d(64, eps=1e-05, momentum=0.1, affine=True, track_running_stats=True)\n",
              "    )\n",
              "    (1): BasicBlock(\n",
              "      (conv1): Conv2d(64, 64, kernel_size=(3, 3), stride=(1, 1), padding=(1, 1), bias=False)\n",
              "      (bn1): BatchNorm2d(64, eps=1e-05, momentum=0.1, affine=True, track_running_stats=True)\n",
              "      (relu): ReLU(inplace=True)\n",
              "      (conv2): Conv2d(64, 64, kernel_size=(3, 3), stride=(1, 1), padding=(1, 1), bias=False)\n",
              "      (bn2): BatchNorm2d(64, eps=1e-05, momentum=0.1, affine=True, track_running_stats=True)\n",
              "    )\n",
              "  )\n",
              "  (layer2): Sequential(\n",
              "    (0): BasicBlock(\n",
              "      (conv1): Conv2d(64, 128, kernel_size=(3, 3), stride=(2, 2), padding=(1, 1), bias=False)\n",
              "      (bn1): BatchNorm2d(128, eps=1e-05, momentum=0.1, affine=True, track_running_stats=True)\n",
              "      (relu): ReLU(inplace=True)\n",
              "      (conv2): Conv2d(128, 128, kernel_size=(3, 3), stride=(1, 1), padding=(1, 1), bias=False)\n",
              "      (bn2): BatchNorm2d(128, eps=1e-05, momentum=0.1, affine=True, track_running_stats=True)\n",
              "      (downsample): Sequential(\n",
              "        (0): Conv2d(64, 128, kernel_size=(1, 1), stride=(2, 2), bias=False)\n",
              "        (1): BatchNorm2d(128, eps=1e-05, momentum=0.1, affine=True, track_running_stats=True)\n",
              "      )\n",
              "    )\n",
              "    (1): BasicBlock(\n",
              "      (conv1): Conv2d(128, 128, kernel_size=(3, 3), stride=(1, 1), padding=(1, 1), bias=False)\n",
              "      (bn1): BatchNorm2d(128, eps=1e-05, momentum=0.1, affine=True, track_running_stats=True)\n",
              "      (relu): ReLU(inplace=True)\n",
              "      (conv2): Conv2d(128, 128, kernel_size=(3, 3), stride=(1, 1), padding=(1, 1), bias=False)\n",
              "      (bn2): BatchNorm2d(128, eps=1e-05, momentum=0.1, affine=True, track_running_stats=True)\n",
              "    )\n",
              "  )\n",
              "  (layer3): Sequential(\n",
              "    (0): BasicBlock(\n",
              "      (conv1): Conv2d(128, 256, kernel_size=(3, 3), stride=(2, 2), padding=(1, 1), bias=False)\n",
              "      (bn1): BatchNorm2d(256, eps=1e-05, momentum=0.1, affine=True, track_running_stats=True)\n",
              "      (relu): ReLU(inplace=True)\n",
              "      (conv2): Conv2d(256, 256, kernel_size=(3, 3), stride=(1, 1), padding=(1, 1), bias=False)\n",
              "      (bn2): BatchNorm2d(256, eps=1e-05, momentum=0.1, affine=True, track_running_stats=True)\n",
              "      (downsample): Sequential(\n",
              "        (0): Conv2d(128, 256, kernel_size=(1, 1), stride=(2, 2), bias=False)\n",
              "        (1): BatchNorm2d(256, eps=1e-05, momentum=0.1, affine=True, track_running_stats=True)\n",
              "      )\n",
              "    )\n",
              "    (1): BasicBlock(\n",
              "      (conv1): Conv2d(256, 256, kernel_size=(3, 3), stride=(1, 1), padding=(1, 1), bias=False)\n",
              "      (bn1): BatchNorm2d(256, eps=1e-05, momentum=0.1, affine=True, track_running_stats=True)\n",
              "      (relu): ReLU(inplace=True)\n",
              "      (conv2): Conv2d(256, 256, kernel_size=(3, 3), stride=(1, 1), padding=(1, 1), bias=False)\n",
              "      (bn2): BatchNorm2d(256, eps=1e-05, momentum=0.1, affine=True, track_running_stats=True)\n",
              "    )\n",
              "  )\n",
              "  (layer4): Sequential(\n",
              "    (0): BasicBlock(\n",
              "      (conv1): Conv2d(256, 512, kernel_size=(3, 3), stride=(2, 2), padding=(1, 1), bias=False)\n",
              "      (bn1): BatchNorm2d(512, eps=1e-05, momentum=0.1, affine=True, track_running_stats=True)\n",
              "      (relu): ReLU(inplace=True)\n",
              "      (conv2): Conv2d(512, 512, kernel_size=(3, 3), stride=(1, 1), padding=(1, 1), bias=False)\n",
              "      (bn2): BatchNorm2d(512, eps=1e-05, momentum=0.1, affine=True, track_running_stats=True)\n",
              "      (downsample): Sequential(\n",
              "        (0): Conv2d(256, 512, kernel_size=(1, 1), stride=(2, 2), bias=False)\n",
              "        (1): BatchNorm2d(512, eps=1e-05, momentum=0.1, affine=True, track_running_stats=True)\n",
              "      )\n",
              "    )\n",
              "    (1): BasicBlock(\n",
              "      (conv1): Conv2d(512, 512, kernel_size=(3, 3), stride=(1, 1), padding=(1, 1), bias=False)\n",
              "      (bn1): BatchNorm2d(512, eps=1e-05, momentum=0.1, affine=True, track_running_stats=True)\n",
              "      (relu): ReLU(inplace=True)\n",
              "      (conv2): Conv2d(512, 512, kernel_size=(3, 3), stride=(1, 1), padding=(1, 1), bias=False)\n",
              "      (bn2): BatchNorm2d(512, eps=1e-05, momentum=0.1, affine=True, track_running_stats=True)\n",
              "    )\n",
              "  )\n",
              "  (avgpool): AdaptiveAvgPool2d(output_size=(1, 1))\n",
              "  (fc): Linear(in_features=512, out_features=2, bias=True)\n",
              ")"
            ]
          },
          "metadata": {
            "tags": []
          },
          "execution_count": 25
        }
      ]
    },
    {
      "cell_type": "code",
      "metadata": {
        "id": "x2TnNJWKT8fg",
        "colab_type": "code",
        "colab": {}
      },
      "source": [
        "#損失関数,オプティマイザを定義\n",
        "criterion = nn.CrossEntropyLoss()\n",
        "optimizer = optim.Adam(model.fc.parameters(), lr=0.001)"
      ],
      "execution_count": 26,
      "outputs": []
    },
    {
      "cell_type": "code",
      "metadata": {
        "id": "guBMG3OMUsHp",
        "colab_type": "code",
        "colab": {
          "base_uri": "https://localhost:8080/",
          "height": 272
        },
        "outputId": "120c9bfe-1049-437b-9b8d-00008ae26052"
      },
      "source": [
        "#学習ループ\n",
        "num_epoch = 15\n",
        "losses = []\n",
        "accs = []\n",
        "for epoch in range(num_epoch):\n",
        "    running_loss = 0.0\n",
        "    running_acc = 0.0 \n",
        "    for imgs, labels in train_loader:\n",
        "        imgs = imgs.to(device)\n",
        "        labels = labels.to(device)\n",
        "        optimizer.zero_grad()\n",
        "        output = model(imgs)\n",
        "        loss = criterion(output, labels)\n",
        "        running_loss  += loss.item()\n",
        "        pred = torch.argmax(output, dim=1)\n",
        "        running_acc += torch.mean(pred.eq(labels).float())\n",
        "        loss.backward()\n",
        "        optimizer.step()\n",
        "    running_loss /= len(train_loader)\n",
        "    running_acc /= len(train_loader)\n",
        "    losses.append(running_loss)\n",
        "    accs.append(running_acc)\n",
        "    print(\"epoch: {}, loss: {}, acc{}\".format(epoch, running_loss, running_acc))"
      ],
      "execution_count": 29,
      "outputs": [
        {
          "output_type": "stream",
          "text": [
            "epoch: 0, loss: 0.6607470661401749, acc0.5874999761581421\n",
            "epoch: 1, loss: 0.46120181307196617, acc0.846875011920929\n",
            "epoch: 2, loss: 0.37124622613191605, acc0.8921874761581421\n",
            "epoch: 3, loss: 0.27871890738606453, acc0.9507812261581421\n",
            "epoch: 4, loss: 0.2679205760359764, acc0.921875\n",
            "epoch: 5, loss: 0.21595698781311512, acc0.9585937261581421\n",
            "epoch: 6, loss: 0.24165945686399937, acc0.9429687261581421\n",
            "epoch: 7, loss: 0.17287302669137716, acc0.96875\n",
            "epoch: 8, loss: 0.16166935674846172, acc0.9765625\n",
            "epoch: 9, loss: 0.16597532760351896, acc0.960156261920929\n",
            "epoch: 10, loss: 0.1606102930381894, acc0.9585937261581421\n",
            "epoch: 11, loss: 0.14199425373226404, acc0.97265625\n",
            "epoch: 12, loss: 0.15576542634516954, acc0.96484375\n",
            "epoch: 13, loss: 0.12473765574395657, acc0.9781249761581421\n",
            "epoch: 14, loss: 0.11009538220241666, acc0.98046875\n"
          ],
          "name": "stdout"
        }
      ]
    },
    {
      "cell_type": "code",
      "metadata": {
        "id": "4PF-y9o4dIcu",
        "colab_type": "code",
        "colab": {
          "base_uri": "https://localhost:8080/",
          "height": 282
        },
        "outputId": "8f48d86d-4bb1-4464-9093-a84ed833738d"
      },
      "source": [
        "plt.plot(losses)"
      ],
      "execution_count": 30,
      "outputs": [
        {
          "output_type": "execute_result",
          "data": {
            "text/plain": [
              "[<matplotlib.lines.Line2D at 0x7fe4ba76ac50>]"
            ]
          },
          "metadata": {
            "tags": []
          },
          "execution_count": 30
        },
        {
          "output_type": "display_data",
          "data": {
            "image/png": "[encoded data removed]",
            "text/plain": [
              "<Figure size 432x288 with 1 Axes>"
            ]
          },
          "metadata": {
            "tags": [],
            "needs_background": "light"
          }
        }
      ]
    },
    {
      "cell_type": "code",
      "metadata": {
        "id": "FHZ4dSGQdXYi",
        "colab_type": "code",
        "colab": {
          "base_uri": "https://localhost:8080/",
          "height": 286
        },
        "outputId": "f1f720c7-5d41-41f6-efb0-2dc836145c9f"
      },
      "source": [
        "plt.plot(accs)"
      ],
      "execution_count": 31,
      "outputs": [
        {
          "output_type": "execute_result",
          "data": {
            "text/plain": [
              "[<matplotlib.lines.Line2D at 0x7fe4b8e30860>]"
            ]
          },
          "metadata": {
            "tags": []
          },
          "execution_count": 31
        },
        {
          "output_type": "display_data",
          "data": {
            "image/png": "[encoded data removed]",
            "text/plain": [
              "<Figure size 432x288 with 1 Axes>"
            ]
          },
          "metadata": {
            "tags": [],
            "needs_background": "light"
          }
        }
      ]
    },
    {
      "cell_type": "code",
      "metadata": {
        "id": "dwC1fu8wdaJG",
        "colab_type": "code",
        "colab": {}
      },
      "source": [
        ""
      ],
      "execution_count": null,
      "outputs": []
    }
  ]
}