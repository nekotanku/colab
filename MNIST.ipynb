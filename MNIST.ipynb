{
  "nbformat": 4,
  "nbformat_minor": 0,
  "metadata": {
    "colab": {
      "name": "MNIST.ipynb",
      "provenance": [],
      "authorship_tag": "ABX9TyMfKUyrkzJi+Q/0/XNluupV",
      "include_colab_link": true
    },
    "kernelspec": {
      "name": "python3",
      "display_name": "Python 3"
    }
  },
  "cells": [
    {
      "cell_type": "markdown",
      "metadata": {
        "id": "view-in-github",
        "colab_type": "text"
      },
      "source": [
        "<a href=\"https://colab.research.google.com/github/nekotanku/colab/blob/master/MNIST.ipynb\" target=\"_parent\"><img src=\"https://colab.research.google.com/assets/colab-badge.svg\" alt=\"Open In Colab\"/></a>"
      ]
    },
    {
      "cell_type": "code",
      "metadata": {
        "id": "LWyXEGivpAFg",
        "colab_type": "code",
        "colab": {
          "base_uri": "https://localhost:8080/",
          "height": 102
        },
        "outputId": "e80df90f-6237-4a79-9cf3-aa77d318377d"
      },
      "source": [
        "!pip install torch torchvision"
      ],
      "execution_count": 1,
      "outputs": [
        {
          "output_type": "stream",
          "text": [
            "Requirement already satisfied: torch in /usr/local/lib/python3.6/dist-packages (1.5.1+cu101)\n",
            "Requirement already satisfied: torchvision in /usr/local/lib/python3.6/dist-packages (0.6.1+cu101)\n",
            "Requirement already satisfied: numpy in /usr/local/lib/python3.6/dist-packages (from torch) (1.18.5)\n",
            "Requirement already satisfied: future in /usr/local/lib/python3.6/dist-packages (from torch) (0.16.0)\n",
            "Requirement already satisfied: pillow>=4.1.1 in /usr/local/lib/python3.6/dist-packages (from torchvision) (7.0.0)\n"
          ],
          "name": "stdout"
        }
      ]
    },
    {
      "cell_type": "markdown",
      "metadata": {
        "id": "Pf4fGOd787jr",
        "colab_type": "text"
      },
      "source": [
        "## ネットワーク構成とForward計算の定義"
      ]
    },
    {
      "cell_type": "code",
      "metadata": {
        "id": "onyApSkKh6pn",
        "colab_type": "code",
        "colab": {
          "base_uri": "https://localhost:8080/",
          "height": 102
        },
        "outputId": "0c4378ef-f415-4055-cf60-0df1a0695512"
      },
      "source": [
        "import numpy as np\n",
        "! pip install numpy\n",
        "!pip install scikit-learn"
      ],
      "execution_count": 12,
      "outputs": [
        {
          "output_type": "stream",
          "text": [
            "Requirement already satisfied: numpy in /usr/local/lib/python3.6/dist-packages (1.18.5)\n",
            "Requirement already satisfied: scikit-learn in /usr/local/lib/python3.6/dist-packages (0.22.2.post1)\n",
            "Requirement already satisfied: joblib>=0.11 in /usr/local/lib/python3.6/dist-packages (from scikit-learn) (0.15.1)\n",
            "Requirement already satisfied: numpy>=1.11.0 in /usr/local/lib/python3.6/dist-packages (from scikit-learn) (1.18.5)\n",
            "Requirement already satisfied: scipy>=0.17.0 in /usr/local/lib/python3.6/dist-packages (from scikit-learn) (1.4.1)\n"
          ],
          "name": "stdout"
        }
      ]
    },
    {
      "cell_type": "code",
      "metadata": {
        "id": "5ellmf9epz3T",
        "colab_type": "code",
        "colab": {}
      },
      "source": [
        "import torch \n",
        "import torch.nn as nn\n",
        "import torch.nn.functional as F\n",
        "\n",
        "#network構成とForward計算の定義\n",
        "class CNN(nn.Module):\n",
        "    def __init__(self, num_classes):\n",
        "        \"\"\"\n",
        "        Convolutional Neural Network\n",
        "        \n",
        "        ネットワーク構成：\n",
        "            input - CONV - CONV - MaxPool - CONV - CONV - MaxPool - FC - output\n",
        "            ※MaxPoolの直後にバッチ正規化を実施\n",
        " \n",
        "        引数：\n",
        "            num_classes: 分類するクラス数（＝出力層のユニット数）\n",
        "        \"\"\"\n",
        "        super(CNN, self).__init__()#nn.Moduleを継承する\n",
        "        \n",
        "        self.block1 = nn.Swquential(\n",
        "            nn.Conv2d(in_channel=1, out_channels=16, kernel_size=3, padding=1),\n",
        "            nn.ReLU(inplace=True),\n",
        "            nn.Conv2d(in_channels=16, out_channels=16, kernel_size=3, padding=1),\n",
        "            nn.ReLU(inplace=True),\n",
        "            nn.MaxPool2d(kernel_size=2, stride=1), #出力サイズ:チャネル=16, 高さ=27, 幅=27 \n",
        "            nn.BatchNorm2d(16)\n",
        "        )\n",
        "        self.block2 = nn.Sequential(\n",
        "            nn.Conv2d(in_channels=16, out_channels=32, kernel_size=3, padding=1),\n",
        "            nn.ReLU(inplace=True),\n",
        "            nn.Conv2d(in_channels=32, out_channels=32, kernel_size=3, padding=1),\n",
        "            nn.ReLU(inplace=True),\n",
        "            nn.MaxPool2d(kernel_size=2, stride=1), #出力サイズ：チャネル=32, 高さ=26, 幅=26\n",
        "            nn.BatchNorm2d(32)\n",
        "        )\n",
        "        self.full_connection = nn.Sequential(\n",
        "            nn.Linear(in_features=32 * 26 * 26, out_features=512), #in_fueaturesは直前の出力ユニット数\n",
        "            nn.ReLU(),\n",
        "            nn.Dropout(),\n",
        "            nn.Linear(in_features=512, out_features=num_classes)\n",
        "        )\n",
        "\n",
        "#forward計算の定義\n",
        "    def forward(self, x):\n",
        "        x = self.block1(x)\n",
        "        y = self.block2(x)\n",
        "\n",
        "        x = x.view(x.size(0), 32, 26, 26)\n",
        "\n",
        "        y = self.full_connection(x)\n",
        "\n",
        "        return y\n"
      ],
      "execution_count": 2,
      "outputs": []
    },
    {
      "cell_type": "markdown",
      "metadata": {
        "id": "DwjXSakw7tNg",
        "colab_type": "text"
      },
      "source": [
        "①：torch.nn.Moduleを継承してネットワーク構成を定義していく\n",
        "→お作法\n",
        "\n",
        "②：forward関数の中で入力xに応じて動的に処理を変更できる\n",
        "→Define by run\n",
        "\n",
        "③：ユニット数の計算が面倒\n",
        "\n",
        "畳み込み層から全結合層に変わる部分は全結合側のユニット数(in_features)を何個に設定するかを計算しないといけない"
      ]
    },
    {
      "cell_type": "markdown",
      "metadata": {
        "id": "KvGAs5UC9A-J",
        "colab_type": "text"
      },
      "source": [
        "## 学習用の関数の定義"
      ]
    },
    {
      "cell_type": "code",
      "metadata": {
        "id": "EhvHzEiA7j0i",
        "colab_type": "code",
        "colab": {}
      },
      "source": [
        "def train(loader_train, model_obj, optimizer, loss_fn, device, total_epoch, epoch):\n",
        "    #モデルを学習モードに変更\n",
        "    model_obj.train()\n",
        "    \n",
        "    #ミニバッチごとに学習\n",
        "    for data, targets in loader_train:\n",
        "        #GPUを使用するため、to()で明示的に指定\n",
        "        data = data.to(device)\n",
        "        targets = targets.to(device)\n",
        "        #勾配を初期化\n",
        "        optimizer.zero_grad()\n",
        "        #順伝播の計算\n",
        "        outputs = model_obj(data)\n",
        "        #誤差の計算\n",
        "        loss = loss_fn(outputs, targets)\n",
        "\n",
        "        #誤差を逆伝播する\n",
        "        loss.backward()\n",
        "        #重みを更新する\n",
        "        optimizer.step()\n",
        "    print('Epoch [%d%d], loss: %.4f' % (epoch, total_epoch, loss.item()))"
      ],
      "execution_count": 3,
      "outputs": []
    },
    {
      "cell_type": "markdown",
      "metadata": {
        "id": "b7aYsaWS_H3R",
        "colab_type": "text"
      },
      "source": [
        "①学習モードの設定を行う\n",
        "\n",
        "→pytorchは学習時と推論時で各モードを設定する必要がある\n",
        "\n",
        "②GPUを使用する場合は明示的に指定する\n",
        "\n",
        "→pytrochではGPUを使用する場合明示的にしていしなければならない\n"
      ]
    },
    {
      "cell_type": "markdown",
      "metadata": {
        "id": "lUsbeZ5HA8Yn",
        "colab_type": "text"
      },
      "source": [
        "## テスト用の関数の定義"
      ]
    },
    {
      "cell_type": "code",
      "metadata": {
        "id": "BX-K642y-R1c",
        "colab_type": "code",
        "colab": {}
      },
      "source": [
        "def test(loader_test, trained_model, device):\n",
        "    #モデルを推論モードに変更\n",
        "    trained_model.eval()\n",
        "    correct = 0\n",
        "\n",
        "    #ミニバッチごとに推論\n",
        "    with torch.no_grad():\n",
        "        for data, targets in loader_test:\n",
        "            #GPUを使用するため、to()で明示的に指定\n",
        "            data = data.to(device)\n",
        "            targets = targets.to(device)\n",
        "\n",
        "            #順伝播の計算\n",
        "            outputs  = trained_model(data)\n",
        "            \n",
        "            #推論結果の取得と正誤判定\n",
        "            #確率が最大のラベルを取得\n",
        "            _, predicted = torch.max(outputs.data, 1)\n",
        "            #正解ならば正解数カウントアップ\n",
        "            correct += predicted.eq(targets.data.view_as(predicted)).sum()\n",
        "    \n",
        "    #正解率を計算\n",
        "    #テストデータの総数\n",
        "    data_num = len(loader_test.dataset)\n",
        "    print('\\nAccuracy: {}/{} ({:.0f}%)\\n'.format(correct, data_num, 100. * correct / data_num))"
      ],
      "execution_count": 4,
      "outputs": []
    },
    {
      "cell_type": "markdown",
      "metadata": {
        "id": "mzkSUtIjM8J4",
        "colab_type": "text"
      },
      "source": [
        "①推論モードに変更する\n",
        "\n",
        "②GPUを使用する場合は明示的に指定する\n",
        "\n",
        "③推論と評価の処理は個別に記述"
      ]
    },
    {
      "cell_type": "code",
      "metadata": {
        "id": "ZkTNUeBpgTXR",
        "colab_type": "code",
        "colab": {
          "base_uri": "https://localhost:8080/",
          "height": 34
        },
        "outputId": "e49402bc-ea5c-42fd-fcdf-98ebb4dd52c5"
      },
      "source": [
        "!pip install "
      ],
      "execution_count": 5,
      "outputs": [
        {
          "output_type": "stream",
          "text": [
            "\u001b[31mERROR: You must give at least one requirement to install (see \"pip help install\")\u001b[0m\n"
          ],
          "name": "stdout"
        }
      ]
    },
    {
      "cell_type": "markdown",
      "metadata": {
        "id": "HwuDN4zFOICW",
        "colab_type": "text"
      },
      "source": [
        "## main処理の定義"
      ]
    },
    {
      "cell_type": "code",
      "metadata": {
        "id": "24ZQds7WM1n_",
        "colab_type": "code",
        "colab": {}
      },
      "source": [
        "def main():\n",
        "\n",
        "    #1, GPUの設定\n",
        "    device = torch.device('cuda' if torch.cuda.is_available() else 'cpu')\n",
        "    print(device)\n",
        "\n",
        "    #2, パラメータの設定\n",
        "    batch_size = 100\n",
        "    num_classes = 10\n",
        "    epochs = 3\n",
        "\n",
        "    #3, MNISTデータセットを取得\n",
        "    from sklearn.datasets import fetch_mldata\n",
        "    mnist = fetch_mldata('mnist_784', data_home='./')\n",
        "\n",
        "    #データの設定（入力データは閉区間[0,1]に正規化する）\n",
        "    import numpy as np\n",
        "    x = mnist.data / 255\n",
        "    y = np.array([*map(int, mnist.target)])\n",
        "\n",
        "    #5.Dataloaderの作成\n",
        "    from torch.utils.data import TensorDataset, DataLoader\n",
        "    from sklearn.model_selection import train_test_split\n",
        "\n",
        "    #学習用とテスト用に分割\n",
        "    x_train, x_test, y_train, y_test = train_test_split(x, y, test_size=1/7, random_dtate=0)\n",
        "\n",
        "    # データのフォーマットを変換：pytorchでの形式=[画像数、チャネル数、高さ、幅]\n",
        "    x_train = x_train.reshape(60000, 1, 28, 28)\n",
        "    x_test = x_test.reshape(10000, 1, 28, 28)\n",
        "\n",
        "    #Pytorchのテンソルに変換\n",
        "    x_train = torch.Tensor(x_train)\n",
        "    x_test = torch.Tensor(x_test)\n",
        "    y_train = torch.LongTensor(y_train)\n",
        "    y_test = torch.LongTensor(y_test)\n",
        "\n",
        "    #入力とラベルを組み合わせて最終的なデータを作成\n",
        "    ds_train = TensorDataset(x_train, y_train)\n",
        "    ds_test = TensorDataset(x_test, y_test)\n",
        "\n",
        "    #Dataloaderを作成\n",
        "    loader_train = Dataloader(ds_train, batch_size=batch_size, shuffle=True)\n",
        "    loader_test = Dataloader(ds_test, batch_size=batch_size, shuffle=False)\n",
        "\n",
        "    # 6. モデル作成\n",
        "    model = CNN(num_classes=num_classes).to(device)\n",
        "    print(model) # ネットワークの詳細を確認用に表示\n",
        "\n",
        "    #7,損失関数を定義\n",
        "    loss_fn = nn.CrossEntropyLoss()\n",
        "\n",
        "    #8,最適化手法を定義\n",
        "    from torch import optim\n",
        "    optimizer = optim.Adam(model.parameters(), lr=0.01)\n",
        "\n",
        "    #9,学習\n",
        "    print('Begin train')\n",
        "    for epoch in range(1, epochs+1):\n",
        "        train(loader_train, model, optimizer, loss_fn, device, epochs, epoch)\n",
        "        test(loader_test, model, device)\n"
      ],
      "execution_count": 6,
      "outputs": []
    },
    {
      "cell_type": "markdown",
      "metadata": {
        "id": "2wuASm7KaqN8",
        "colab_type": "text"
      },
      "source": [
        "①入力のオグジェクトサイズは[画像数、チャネル数、縦、幅]\n",
        "\n",
        "②DataLoaderを作成する"
      ]
    },
    {
      "cell_type": "code",
      "metadata": {
        "id": "mGCfkEVWQAmd",
        "colab_type": "code",
        "colab": {
          "base_uri": "https://localhost:8080/",
          "height": 440
        },
        "outputId": "b05a3448-8270-47e5-c1ba-4321ec560545"
      },
      "source": [
        "main()\n"
      ],
      "execution_count": 13,
      "outputs": [
        {
          "output_type": "stream",
          "text": [
            "cpu\n"
          ],
          "name": "stdout"
        },
        {
          "output_type": "error",
          "ename": "ImportError",
          "evalue": "ignored",
          "traceback": [
            "\u001b[0;31m---------------------------------------------------------------------------\u001b[0m",
            "\u001b[0;31mImportError\u001b[0m                               Traceback (most recent call last)",
            "\u001b[0;32m<ipython-input-13-263240bbee7e>\u001b[0m in \u001b[0;36m<module>\u001b[0;34m()\u001b[0m\n\u001b[0;32m----> 1\u001b[0;31m \u001b[0mmain\u001b[0m\u001b[0;34m(\u001b[0m\u001b[0;34m)\u001b[0m\u001b[0;34m\u001b[0m\u001b[0;34m\u001b[0m\u001b[0m\n\u001b[0m",
            "\u001b[0;32m<ipython-input-6-d2a0471416dc>\u001b[0m in \u001b[0;36mmain\u001b[0;34m()\u001b[0m\n\u001b[1;32m     11\u001b[0m \u001b[0;34m\u001b[0m\u001b[0m\n\u001b[1;32m     12\u001b[0m     \u001b[0;31m#3, MNISTデータセットを取得\u001b[0m\u001b[0;34m\u001b[0m\u001b[0;34m\u001b[0m\u001b[0;34m\u001b[0m\u001b[0m\n\u001b[0;32m---> 13\u001b[0;31m     \u001b[0;32mfrom\u001b[0m \u001b[0msklearn\u001b[0m\u001b[0;34m.\u001b[0m\u001b[0mdatasets\u001b[0m \u001b[0;32mimport\u001b[0m \u001b[0mfetch_mldata\u001b[0m\u001b[0;34m\u001b[0m\u001b[0;34m\u001b[0m\u001b[0m\n\u001b[0m\u001b[1;32m     14\u001b[0m     \u001b[0mmnist\u001b[0m \u001b[0;34m=\u001b[0m \u001b[0mfetch_mldata\u001b[0m\u001b[0;34m(\u001b[0m\u001b[0;34m'mnist_784'\u001b[0m\u001b[0;34m,\u001b[0m \u001b[0mdata_home\u001b[0m\u001b[0;34m=\u001b[0m\u001b[0;34m'./'\u001b[0m\u001b[0;34m)\u001b[0m\u001b[0;34m\u001b[0m\u001b[0;34m\u001b[0m\u001b[0m\n\u001b[1;32m     15\u001b[0m \u001b[0;34m\u001b[0m\u001b[0m\n",
            "\u001b[0;31mImportError\u001b[0m: cannot import name 'fetch_mldata'",
            "",
            "\u001b[0;31m---------------------------------------------------------------------------\u001b[0;32m\nNOTE: If your import is failing due to a missing package, you can\nmanually install dependencies using either !pip or !apt.\n\nTo view examples of installing some common dependencies, click the\n\"Open Examples\" button below.\n\u001b[0;31m---------------------------------------------------------------------------\u001b[0m\n"
          ]
        }
      ]
    },
    {
      "cell_type": "code",
      "metadata": {
        "id": "YwId0oMIQZwR",
        "colab_type": "code",
        "colab": {}
      },
      "source": [
        ""
      ],
      "execution_count": null,
      "outputs": []
    }
  ]
}