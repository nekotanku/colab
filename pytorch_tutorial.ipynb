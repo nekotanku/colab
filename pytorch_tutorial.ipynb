{
  "nbformat": 4,
  "nbformat_minor": 0,
  "metadata": {
    "colab": {
      "name": "pytorch_tutorial.ipynb",
      "provenance": [],
      "collapsed_sections": [],
      "authorship_tag": "ABX9TyP8CAA8BJ3F6qlJq9sejl3z",
      "include_colab_link": true
    },
    "kernelspec": {
      "name": "python3",
      "display_name": "Python 3"
    }
  },
  "cells": [
    {
      "cell_type": "markdown",
      "metadata": {
        "id": "view-in-github",
        "colab_type": "text"
      },
      "source": [
        "<a href=\"https://colab.research.google.com/github/nekotanku/colab/blob/master/pytorch_tutorial.ipynb\" target=\"_parent\"><img src=\"https://colab.research.google.com/assets/colab-badge.svg\" alt=\"Open In Colab\"/></a>"
      ]
    },
    {
      "cell_type": "markdown",
      "metadata": {
        "id": "D7RxEZQyZIsO",
        "colab_type": "text"
      },
      "source": [
        "##pytorchとは？\n",
        "pythonベースの科学計算パッケーです。\n",
        "\n",
        "こんなときに使います。\n",
        "\n",
        "・GPUのパワーを使用するためのNumpyの代わり\n",
        "\n",
        "・ディープラーニングの研究プラットフォーム"
      ]
    },
    {
      "cell_type": "markdown",
      "metadata": {
        "id": "RQNjEHkkaT3J",
        "colab_type": "text"
      },
      "source": [
        " ### tensor \n",
        "\n",
        "TensorはNumPyのndarrayに似ていますが、GPUでTensorを使用してコンピューティングを高速化することもできます。"
      ]
    },
    {
      "cell_type": "code",
      "metadata": {
        "id": "3G7a4zd_ZAqS",
        "colab_type": "code",
        "colab": {}
      },
      "source": [
        "from __future__ import print_function\n",
        "import torch"
      ],
      "execution_count": null,
      "outputs": []
    },
    {
      "cell_type": "markdown",
      "metadata": {
        "id": "Fa9HP1Hthtsa",
        "colab_type": "text"
      },
      "source": [
        "An uninitialized matrix is declared, but does not contain definite known values before it is used. When an uninitialized matrix is created, whatever values were in the allocated memory at the time will appear as the initial values.\n",
        "\n",
        "初期化されていない行列が宣言されていますが、使用する前に既知の明確な値が含まれていません。初期化されていない行列が作成されると、その時点で割り当てられたメモリにあった値が初期値として表示されます。"
      ]
    },
    {
      "cell_type": "code",
      "metadata": {
        "id": "bPl8JcFYhiwH",
        "colab_type": "code",
        "colab": {
          "base_uri": "https://localhost:8080/",
          "height": 102
        },
        "outputId": "0df29ce9-cfc5-4efc-b429-db6e58ef077b"
      },
      "source": [
        "#初期化されていない5×3行列を作成\n",
        "x = torch.empty(5,3)\n",
        "print(x)"
      ],
      "execution_count": null,
      "outputs": [
        {
          "output_type": "stream",
          "text": [
            "tensor([[1.8947e-35, 0.0000e+00, 3.3631e-44],\n",
            "        [0.0000e+00,        nan, 6.1657e-44],\n",
            "        [1.1578e+27, 1.1362e+30, 7.1547e+22],\n",
            "        [4.5828e+30, 1.2121e+04, 7.1846e+22],\n",
            "        [9.2198e-39, 7.0374e+22, 0.0000e+00]])\n"
          ],
          "name": "stdout"
        }
      ]
    },
    {
      "cell_type": "code",
      "metadata": {
        "id": "V2x5WQvVh9sz",
        "colab_type": "code",
        "colab": {
          "base_uri": "https://localhost:8080/",
          "height": 102
        },
        "outputId": "af229e5a-cd4a-4994-cc93-14ffcb15efe2"
      },
      "source": [
        "#ランダムに初期化した行列を作成\n",
        "x = torch.rand(5,3)\n",
        "print(x)"
      ],
      "execution_count": null,
      "outputs": [
        {
          "output_type": "stream",
          "text": [
            "tensor([[0.6974, 0.2901, 0.1622],\n",
            "        [0.8615, 0.3629, 0.1850],\n",
            "        [0.2728, 0.5040, 0.4161],\n",
            "        [0.4144, 0.8773, 0.9312],\n",
            "        [0.8191, 0.3923, 0.7491]])\n"
          ],
          "name": "stdout"
        }
      ]
    },
    {
      "cell_type": "code",
      "metadata": {
        "id": "QriR4Uo6iEPJ",
        "colab_type": "code",
        "colab": {
          "base_uri": "https://localhost:8080/",
          "height": 102
        },
        "outputId": "596dbc06-82a2-479e-c934-d7530426f5ca"
      },
      "source": [
        "#ゼロで満たされたdtype longの行列を作成\n",
        "x = torch.zeros(5,3, dtype=torch.long)\n",
        "print(x)"
      ],
      "execution_count": null,
      "outputs": [
        {
          "output_type": "stream",
          "text": [
            "tensor([[0, 0, 0],\n",
            "        [0, 0, 0],\n",
            "        [0, 0, 0],\n",
            "        [0, 0, 0],\n",
            "        [0, 0, 0]])\n"
          ],
          "name": "stdout"
        }
      ]
    },
    {
      "cell_type": "code",
      "metadata": {
        "id": "h4NTZ_UEi-Uf",
        "colab_type": "code",
        "colab": {
          "base_uri": "https://localhost:8080/",
          "height": 34
        },
        "outputId": "f7136074-4653-4de5-e91a-4bbcb2be8bb3"
      },
      "source": [
        "#Construct a tensor directly from data:データから直接テンソルを作成\n",
        "x = torch.tensor([5.5, 3])\n",
        "print(x)"
      ],
      "execution_count": null,
      "outputs": [
        {
          "output_type": "stream",
          "text": [
            "tensor([5.5000, 3.0000])\n"
          ],
          "name": "stdout"
        }
      ]
    },
    {
      "cell_type": "code",
      "metadata": {
        "id": "zrMeBTLTjJJy",
        "colab_type": "code",
        "colab": {
          "base_uri": "https://localhost:8080/",
          "height": 187
        },
        "outputId": "f1b0993c-2b95-47ed-c7c3-f143cf47afc0"
      },
      "source": [
        "#or create a tensor based on an existing tensor. These methods will reuse properties of the input tensor, e.g. dtype, unless new values are provided by user\n",
        "#または、既存のテンソルに基づいてテンソルを作成します。これらのメソッドは、入力テンソルのプロパティを再利用します。 dtype（ユーザーによって新しい値が提供されない限り）\n",
        "x = x.new_ones(5,3, dtype=torch.double)\n",
        "print(x)\n",
        "x = torch.randn_like(x, dtype=float)\n",
        "print(x)"
      ],
      "execution_count": null,
      "outputs": [
        {
          "output_type": "stream",
          "text": [
            "tensor([[1., 1., 1.],\n",
            "        [1., 1., 1.],\n",
            "        [1., 1., 1.],\n",
            "        [1., 1., 1.],\n",
            "        [1., 1., 1.]], dtype=torch.float64)\n",
            "tensor([[ 1.1179, -0.1495,  2.5041],\n",
            "        [-0.5842, -0.2309,  0.9329],\n",
            "        [ 0.6815, -0.5110, -1.6406],\n",
            "        [-0.2490, -0.8358,  1.5480],\n",
            "        [ 0.3299, -0.3334, -0.3641]], dtype=torch.float64)\n"
          ],
          "name": "stdout"
        }
      ]
    },
    {
      "cell_type": "code",
      "metadata": {
        "id": "ou4cuW35jzjP",
        "colab_type": "code",
        "colab": {
          "base_uri": "https://localhost:8080/",
          "height": 34
        },
        "outputId": "4ab2eb78-6c3b-4e91-f353-561d0e92813d"
      },
      "source": [
        "#Get its size:\n",
        "#torch.Size is in fact a tuple, so it supports all tuple operations. torch.Sizeは実際にはタプルなので、すべてのタプル操作をサポートします。\n",
        "print(x.size())"
      ],
      "execution_count": null,
      "outputs": [
        {
          "output_type": "stream",
          "text": [
            "torch.Size([5, 3])\n"
          ],
          "name": "stdout"
        }
      ]
    },
    {
      "cell_type": "code",
      "metadata": {
        "id": "NPKSvEbJj7rc",
        "colab_type": "code",
        "colab": {
          "base_uri": "https://localhost:8080/",
          "height": 102
        },
        "outputId": "95ccecd0-6a5a-445c-8c47-faec2f581e40"
      },
      "source": [
        "#操作には複数の構文があります。次の例では、加算演算を見てみましょう。\n",
        "y = torch.rand(5,3)\n",
        "print(x + y)"
      ],
      "execution_count": null,
      "outputs": [
        {
          "output_type": "stream",
          "text": [
            "tensor([[ 1.6028,  0.3645,  2.6657],\n",
            "        [ 0.2628,  0.6963,  1.1542],\n",
            "        [ 1.2886, -0.3389, -1.1096],\n",
            "        [ 0.4462, -0.2246,  2.1683],\n",
            "        [ 0.7264,  0.4491,  0.1941]], dtype=torch.float64)\n"
          ],
          "name": "stdout"
        }
      ]
    },
    {
      "cell_type": "code",
      "metadata": {
        "id": "roaIUbvVkSWf",
        "colab_type": "code",
        "colab": {
          "base_uri": "https://localhost:8080/",
          "height": 102
        },
        "outputId": "4b3e7c30-8e7f-45f6-f0ab-a9826e27ad36"
      },
      "source": [
        "#x+yと同じ\n",
        "print(torch.add(x, y))"
      ],
      "execution_count": null,
      "outputs": [
        {
          "output_type": "stream",
          "text": [
            "tensor([[ 1.6028,  0.3645,  2.6657],\n",
            "        [ 0.2628,  0.6963,  1.1542],\n",
            "        [ 1.2886, -0.3389, -1.1096],\n",
            "        [ 0.4462, -0.2246,  2.1683],\n",
            "        [ 0.7264,  0.4491,  0.1941]], dtype=torch.float64)\n"
          ],
          "name": "stdout"
        }
      ]
    },
    {
      "cell_type": "code",
      "metadata": {
        "id": "V_afkDyLkV37",
        "colab_type": "code",
        "colab": {
          "base_uri": "https://localhost:8080/",
          "height": 102
        },
        "outputId": "fcc7d076-8e4c-445f-af57-3999357bee3f"
      },
      "source": [
        "#引数として出力テンソルを指定\n",
        "result = torch.empty(5,3)\n",
        "torch.add(x, y, out=result)\n",
        "print(result)"
      ],
      "execution_count": null,
      "outputs": [
        {
          "output_type": "stream",
          "text": [
            "tensor([[ 1.6028,  0.3645,  2.6657],\n",
            "        [ 0.2628,  0.6963,  1.1542],\n",
            "        [ 1.2886, -0.3389, -1.1096],\n",
            "        [ 0.4462, -0.2246,  2.1683],\n",
            "        [ 0.7264,  0.4491,  0.1941]])\n"
          ],
          "name": "stdout"
        }
      ]
    },
    {
      "cell_type": "code",
      "metadata": {
        "id": "IYBpPnY8ohmS",
        "colab_type": "code",
        "colab": {
          "base_uri": "https://localhost:8080/",
          "height": 102
        },
        "outputId": "5fc129b3-b3e8-4e14-b910-70e8a8948670"
      },
      "source": [
        "#xをyに追加\n",
        "#Any operation that mutates a tensor in-place is post-fixed with an _. For example: x.copy_(y), x.t_(), will change x.\n",
        "#tensorをインプレースで変更する操作は、_で後置固定されます。たとえば、x.copy_（y）、x.t_（）はxを変更します。\n",
        "y.add_(x)\n",
        "print(y)"
      ],
      "execution_count": null,
      "outputs": [
        {
          "output_type": "stream",
          "text": [
            "tensor([[ 1.6028,  0.3645,  2.6657],\n",
            "        [ 0.2628,  0.6963,  1.1542],\n",
            "        [ 1.2886, -0.3389, -1.1096],\n",
            "        [ 0.4462, -0.2246,  2.1683],\n",
            "        [ 0.7264,  0.4491,  0.1941]])\n"
          ],
          "name": "stdout"
        }
      ]
    },
    {
      "cell_type": "code",
      "metadata": {
        "id": "YICmZaXAo1W8",
        "colab_type": "code",
        "colab": {
          "base_uri": "https://localhost:8080/",
          "height": 34
        },
        "outputId": "baea3997-ca8d-41b0-f2ca-ba67b4109c14"
      },
      "source": [
        "print(x[:, 1])"
      ],
      "execution_count": null,
      "outputs": [
        {
          "output_type": "stream",
          "text": [
            "tensor([-0.1495, -0.2309, -0.5110, -0.8358, -0.3334], dtype=torch.float64)\n"
          ],
          "name": "stdout"
        }
      ]
    },
    {
      "cell_type": "code",
      "metadata": {
        "id": "8WMomDONpmhi",
        "colab_type": "code",
        "colab": {
          "base_uri": "https://localhost:8080/",
          "height": 34
        },
        "outputId": "c955f12e-7d59-47a2-a125-3c7ca06fc7c0"
      },
      "source": [
        "#tensorのサイズを変更/変更したい場合は、torch.viewを使用できます。\n",
        "x = torch.randn(4,4)\n",
        "y = x.view(16)\n",
        "z = x.view(-1, 8)\n",
        "print(x.size(), y.size(), z.size())"
      ],
      "execution_count": null,
      "outputs": [
        {
          "output_type": "stream",
          "text": [
            "torch.Size([4, 4]) torch.Size([16]) torch.Size([2, 8])\n"
          ],
          "name": "stdout"
        }
      ]
    },
    {
      "cell_type": "code",
      "metadata": {
        "id": "Vm3xrGp2qIBs",
        "colab_type": "code",
        "colab": {
          "base_uri": "https://localhost:8080/",
          "height": 51
        },
        "outputId": "4804cc0a-fde7-4e33-ea38-54ad0d0150bf"
      },
      "source": [
        "#1要素のテンソルがある場合は、.item（）を使用して値をPythonの数値として取得します\n",
        "x = torch.randn(1)\n",
        "print(x)\n",
        "print(x.item())"
      ],
      "execution_count": null,
      "outputs": [
        {
          "output_type": "stream",
          "text": [
            "tensor([-0.6923])\n",
            "-0.6923400163650513\n"
          ],
          "name": "stdout"
        }
      ]
    },
    {
      "cell_type": "markdown",
      "metadata": {
        "id": "ox_3CAM1qrOZ",
        "colab_type": "text"
      },
      "source": [
        "## Numpy Bridge\n",
        "\n",
        "Converting a Torch Tensor to a NumPy array and vice versa is a breeze\n",
        "\n",
        "Torch TensorをNumPy配列に、またはその逆に変換することは簡単です\n",
        "\n",
        "The Torch Tensor and NumPy array will share their underlying memory locations (if the Torch Tensor is on CPU), and changing one will change the other.\n",
        "\n",
        "Torch TensorとNumPy配列は、基になるメモリロケーションを共有し（Torch TensorがCPUにある場合）、一方を変更すると他方が変更されます。"
      ]
    },
    {
      "cell_type": "markdown",
      "metadata": {
        "id": "wKWf3V3CrGhY",
        "colab_type": "text"
      },
      "source": [
        "### torch tensor を numpy配列に変換"
      ]
    },
    {
      "cell_type": "code",
      "metadata": {
        "id": "958tvavOrTVb",
        "colab_type": "code",
        "colab": {
          "base_uri": "https://localhost:8080/",
          "height": 34
        },
        "outputId": "deab892a-a8f1-435f-d56d-36f0959f3fcf"
      },
      "source": [
        "a = torch.ones(5)\n",
        "print(a)"
      ],
      "execution_count": null,
      "outputs": [
        {
          "output_type": "stream",
          "text": [
            "tensor([1., 1., 1., 1., 1.])\n"
          ],
          "name": "stdout"
        }
      ]
    },
    {
      "cell_type": "code",
      "metadata": {
        "id": "LmF9Ub7AqgrN",
        "colab_type": "code",
        "colab": {
          "base_uri": "https://localhost:8080/",
          "height": 34
        },
        "outputId": "680401e7-3818-4539-9c84-f22d4cd3e077"
      },
      "source": [
        "b = a.numpy()\n",
        "print(b)"
      ],
      "execution_count": null,
      "outputs": [
        {
          "output_type": "stream",
          "text": [
            "[1. 1. 1. 1. 1.]\n"
          ],
          "name": "stdout"
        }
      ]
    },
    {
      "cell_type": "code",
      "metadata": {
        "id": "uzI-aQ6QrhSe",
        "colab_type": "code",
        "colab": {
          "base_uri": "https://localhost:8080/",
          "height": 51
        },
        "outputId": "7c1e84eb-5832-4668-c25a-bac203be1a53"
      },
      "source": [
        "#numpy配列の値の変化を確認。元のtensorを変更すると、numpy配列の方も変更される\n",
        "a.add_(1)\n",
        "print(a)\n",
        "print(b)"
      ],
      "execution_count": null,
      "outputs": [
        {
          "output_type": "stream",
          "text": [
            "tensor([2., 2., 2., 2., 2.])\n",
            "[2. 2. 2. 2. 2.]\n"
          ],
          "name": "stdout"
        }
      ]
    },
    {
      "cell_type": "markdown",
      "metadata": {
        "id": "RAlfEalMsRLK",
        "colab_type": "text"
      },
      "source": [
        "### numpy配列を torch tensorに変換"
      ]
    },
    {
      "cell_type": "code",
      "metadata": {
        "id": "JC0Qp6p3rwlP",
        "colab_type": "code",
        "colab": {
          "base_uri": "https://localhost:8080/",
          "height": 51
        },
        "outputId": "856ce8dc-6a60-4782-8c0c-dcb57a041949"
      },
      "source": [
        "#CharTensor以外のCPU上のすべてのテンソルは、NumPyへの変換とその逆変換をサポートします。\n",
        "import numpy as np\n",
        "a = np.ones(5)\n",
        "b = torch.from_numpy(a)\n",
        "np.add(a, 1, out=a)\n",
        "print(a)\n",
        "print(b)\n"
      ],
      "execution_count": null,
      "outputs": [
        {
          "output_type": "stream",
          "text": [
            "[2. 2. 2. 2. 2.]\n",
            "tensor([2., 2., 2., 2., 2.], dtype=torch.float64)\n"
          ],
          "name": "stdout"
        }
      ]
    },
    {
      "cell_type": "markdown",
      "metadata": {
        "id": "yLFO9UCqs2gG",
        "colab_type": "text"
      },
      "source": [
        "##CUDA Tensors\n",
        "\n",
        "Tensors can be moved onto any device using the .to method.\n",
        "\n",
        "テンソルは、.toメソッドを使用して任意のデバイスに移動できます。\n",
        "\n",
        "CUDAが使えるときにだけやる"
      ]
    },
    {
      "cell_type": "code",
      "metadata": {
        "id": "4GTmC2XustiX",
        "colab_type": "code",
        "colab": {}
      },
      "source": [
        "#let us run this cell only if CUDA is available\n",
        "# We will use ``torch.device`` objects to move tensors in and out of GPU\n",
        "if torch.cuda.is_available():\n",
        "    device = torch.device(\"cuda\")          # a CUDA device object\n",
        "    y = torch.ones_like(x, device=device)  # directly create a tensor on GPU\n",
        "    x = x.to(device)                       # or just use strings ``.to(\"cuda\")``\n",
        "    z = x + y\n",
        "    print(z)\n",
        "    print(z.to(\"cpu\", torch.double))       # ``.to`` can also change dtype together!"
      ],
      "execution_count": null,
      "outputs": []
    },
    {
      "cell_type": "markdown",
      "metadata": {
        "id": "27Xjhs6YthSq",
        "colab_type": "text"
      },
      "source": [
        "#AUTOGRAD: AUTOMATIC DIFFERENTIATION\n",
        "\n",
        "PyTorchのすべてのニューラルネットワークの中心はautogradパッケージです。まず簡単にこれにアクセスしてから、最初のニューラルネットワークのトレーニングに行きます。\n",
        "\n",
        "autogradパッケージは、Tensorsのすべての操作を自動的に区別します。これは、run-by-runフレームワークです。つまり、バックプロップはコードの実行方法によって定義され、反復ごとに異なる可能性があります。\n"
      ]
    },
    {
      "cell_type": "markdown",
      "metadata": {
        "id": "yFYKEAH7vsvU",
        "colab_type": "text"
      },
      "source": [
        "###tensor\n",
        "\n",
        "torch.Tensorは、パッケージの中心的なクラスです。その属性.requires_gradをTrueに設定すると、すべての操作の追跡が開始されます。計算が終了したら、.backward（）を呼び出して、すべての勾配を自動的に計算させることができます。このテンソルの勾配は.grad属性に蓄積されます。\n",
        "\n",
        "テンソルの履歴追跡を停止するには、.detach（）を呼び出してテンソルを計算履歴から切り離し、今後の計算が追跡されないようにします。\n",
        "\n",
        "履歴を追跡しないようにする（およびメモリを使用する）には、コードブロックを\n",
        "torch.no_grad（）：でラップすることもできます。モデルはrequire_grad = Trueでトレーニング可能なパラメーターを持っている可能性があるため、モデルを評価するときに特に役立ちますが、勾配は必要ありません。\n",
        "\n",
        "autogradの実装にとって非常に重要なもう1つのクラス、Functionがあります。\n",
        "\n",
        "tensorとFunctionは相互に関連していて、計算の完全な履歴をエンコードする非循環グラフを構築します。各テンソルには、テンソルを作成した関数を参照する.grad_fn属性があります（ユーザーが作成したテンソルを除く-grad_fn is None）。\n",
        "\n",
        "導関数を計算する場合は、Tensorで.backward（）を呼び出すことができます。 Tensorがスカラーの場合（つまり、1つの要素のデータを保持する場合）、backward（）に引数を指定する必要はありません。ただし、要素が多い場合は、一致する形状のテンソルである勾配引数を指定する必要があります。\n",
        "\n"
      ]
    },
    {
      "cell_type": "code",
      "metadata": {
        "id": "8NCF69f1vr3H",
        "colab_type": "code",
        "colab": {
          "base_uri": "https://localhost:8080/",
          "height": 51
        },
        "outputId": "5066d5fd-bbea-4b1d-e1ae-1476ee717476"
      },
      "source": [
        "#tensorを作成し、requires_grad = Trueを設定して、tensorで計算を追跡します\n",
        "\n",
        "x = torch.ones(2,2, requires_grad=True)\n",
        "print(x)\n"
      ],
      "execution_count": null,
      "outputs": [
        {
          "output_type": "stream",
          "text": [
            "tensor([[1., 1.],\n",
            "        [1., 1.]], requires_grad=True)\n"
          ],
          "name": "stdout"
        }
      ]
    },
    {
      "cell_type": "code",
      "metadata": {
        "id": "A74n4EKIxhsX",
        "colab_type": "code",
        "colab": {
          "base_uri": "https://localhost:8080/",
          "height": 51
        },
        "outputId": "0217f64c-e93c-46cf-f254-a38be61c41a8"
      },
      "source": [
        "y = x + 2\n",
        "print(y)"
      ],
      "execution_count": null,
      "outputs": [
        {
          "output_type": "stream",
          "text": [
            "tensor([[3., 3.],\n",
            "        [3., 3.]], grad_fn=<AddBackward0>)\n"
          ],
          "name": "stdout"
        }
      ]
    },
    {
      "cell_type": "code",
      "metadata": {
        "id": "9vhkARPpxvDG",
        "colab_type": "code",
        "colab": {
          "base_uri": "https://localhost:8080/",
          "height": 34
        },
        "outputId": "19e5cc0a-e46b-4b34-d352-caa53ab5338b"
      },
      "source": [
        "print(y.grad_fn)"
      ],
      "execution_count": null,
      "outputs": [
        {
          "output_type": "stream",
          "text": [
            "<AddBackward0 object at 0x7f0cdb2caf28>\n"
          ],
          "name": "stdout"
        }
      ]
    },
    {
      "cell_type": "code",
      "metadata": {
        "id": "Z4_6u_hOxz86",
        "colab_type": "code",
        "colab": {
          "base_uri": "https://localhost:8080/",
          "height": 51
        },
        "outputId": "595d0fbb-9d49-4b2c-fc04-9f2be243e9d8"
      },
      "source": [
        "#Do more operations on y yでさらに操作を行う\n",
        "z = y * y * 3\n",
        "out = z.mean()\n",
        "\n",
        "print(z, out)"
      ],
      "execution_count": null,
      "outputs": [
        {
          "output_type": "stream",
          "text": [
            "tensor([[27., 27.],\n",
            "        [27., 27.]], grad_fn=<MulBackward0>) tensor(27., grad_fn=<MeanBackward0>)\n"
          ],
          "name": "stdout"
        }
      ]
    },
    {
      "cell_type": "code",
      "metadata": {
        "id": "TkVgsyTnyCUj",
        "colab_type": "code",
        "colab": {
          "base_uri": "https://localhost:8080/",
          "height": 68
        },
        "outputId": "c5f5fd10-2b68-4e87-94c9-a4504e91ba4c"
      },
      "source": [
        "#.requires_grad_（...）は、既存のTensorのrequire_gradフラグを変更します。入力フラグを指定しない場合、デフォルトでFalseになります。\n",
        "a = torch.randn(2,2)\n",
        "a = ((a * 3) / (a -1))\n",
        "print(a.requires_grad)\n",
        "a.requires_grad_(True)\n",
        "print(a.requires_grad)\n",
        "b = (a * a).sum()\n",
        "print(b.grad_fn)"
      ],
      "execution_count": null,
      "outputs": [
        {
          "output_type": "stream",
          "text": [
            "False\n",
            "True\n",
            "<SumBackward0 object at 0x7f0cdb2f4dd8>\n"
          ],
          "name": "stdout"
        }
      ]
    },
    {
      "cell_type": "markdown",
      "metadata": {
        "id": "iVyi09P4y93G",
        "colab_type": "text"
      },
      "source": [
        "##Grasients\n",
        "\n",
        "今すぐバックプロップしましょう。 outには単一のスカラーが含まれているため、out.backward（）はout.backward(torch.tensor(1.))と同等です。"
      ]
    },
    {
      "cell_type": "code",
      "metadata": {
        "id": "BEHzwlx-y1La",
        "colab_type": "code",
        "colab": {}
      },
      "source": [
        "out.backward()"
      ],
      "execution_count": null,
      "outputs": []
    },
    {
      "cell_type": "code",
      "metadata": {
        "id": "yWgVuYVwzR6T",
        "colab_type": "code",
        "colab": {
          "base_uri": "https://localhost:8080/",
          "height": 51
        },
        "outputId": "b1da7299-eb19-40f1-e5ad-c776d352b5c3"
      },
      "source": [
        "#Print gradients d(out)/dx\n",
        "print(x.grad)"
      ],
      "execution_count": null,
      "outputs": [
        {
          "output_type": "stream",
          "text": [
            "tensor([[4.5000, 4.5000],\n",
            "        [4.5000, 4.5000]])\n"
          ],
          "name": "stdout"
        }
      ]
    },
    {
      "cell_type": "code",
      "metadata": {
        "id": "ze32Bkpkzal-",
        "colab_type": "code",
        "colab": {
          "base_uri": "https://localhost:8080/",
          "height": 34
        },
        "outputId": "8dd1009f-3685-4a9a-e8fd-12eda1f675a5"
      },
      "source": [
        "x = torch.randn(3, requires_grad=True)\n",
        "y = x * 2\n",
        "while y.data.norm() < 1000:\n",
        "    y =y * 2\n",
        "print(y)"
      ],
      "execution_count": null,
      "outputs": [
        {
          "output_type": "stream",
          "text": [
            "tensor([-232.9169, -609.1898,  799.5416], grad_fn=<MulBackward0>)\n"
          ],
          "name": "stdout"
        }
      ]
    },
    {
      "cell_type": "markdown",
      "metadata": {
        "id": "8dGdRTPDz81y",
        "colab_type": "text"
      },
      "source": [
        "この場合、yはスカラーではなくなりました。 torch.autogradは完全なヤコビアンを直接計算できませんでしたが、ベクトル-ヤコビアン積が必要な場合は、単にベクトルを引数として後方に渡します。"
      ]
    },
    {
      "cell_type": "code",
      "metadata": {
        "id": "ejG6CBn8zufy",
        "colab_type": "code",
        "colab": {
          "base_uri": "https://localhost:8080/",
          "height": 34
        },
        "outputId": "d11ac8d5-7505-4e00-a7d6-e40c08e82230"
      },
      "source": [
        "v =torch.tensor([0.1, 1.0, 0.0001], dtype=torch.float)\n",
        "y.backward(v)\n",
        "print(x.grad)"
      ],
      "execution_count": null,
      "outputs": [
        {
          "output_type": "stream",
          "text": [
            "tensor([1.0240e+02, 1.0240e+03, 1.0240e-01])\n"
          ],
          "name": "stdout"
        }
      ]
    },
    {
      "cell_type": "markdown",
      "metadata": {
        "id": "bIfOC2rP0YGB",
        "colab_type": "text"
      },
      "source": [
        "torch.no_grad()でコードブロックをラップすることにより、.requires_grad = Trueを使用して、Tensorの履歴の追跡からautogradを停止することもできます。"
      ]
    },
    {
      "cell_type": "code",
      "metadata": {
        "id": "yO0WW-T_0N7e",
        "colab_type": "code",
        "colab": {
          "base_uri": "https://localhost:8080/",
          "height": 68
        },
        "outputId": "05cc40c6-83bc-4fe0-cdb2-adf85642a892"
      },
      "source": [
        "print(x.requires_grad)\n",
        "print((x ** 2).requires_grad)\n",
        "with torch.no_grad():\n",
        "    print((x ** 2).requires_grad)"
      ],
      "execution_count": null,
      "outputs": [
        {
          "output_type": "stream",
          "text": [
            "True\n",
            "True\n",
            "False\n"
          ],
          "name": "stdout"
        }
      ]
    },
    {
      "cell_type": "code",
      "metadata": {
        "id": "Sx8i8zog0tKo",
        "colab_type": "code",
        "colab": {
          "base_uri": "https://localhost:8080/",
          "height": 68
        },
        "outputId": "b0687488-36a9-4e90-8912-781ed0d44b22"
      },
      "source": [
        "#または、.detach（）を使用して、同じ内容で新しいTensorを取得しますが、グラデーションは必要ありません。\n",
        "print(x.requires_grad)\n",
        "y = x.detach()\n",
        "print(y.requires_grad)\n",
        "print(x.eq(y).all())"
      ],
      "execution_count": null,
      "outputs": [
        {
          "output_type": "stream",
          "text": [
            "True\n",
            "False\n",
            "tensor(True)\n"
          ],
          "name": "stdout"
        }
      ]
    },
    {
      "cell_type": "markdown",
      "metadata": {
        "id": "kk9Ogyv-4rlg",
        "colab_type": "text"
      },
      "source": [
        "#Nural networks\n",
        "\n",
        "ニューラルネットワークは、torch.nnパッケージを使用して構築できます。\n",
        "\n",
        "autogradを垣間見たところで、nnはautogradに依存してモデルを定義し、モデルを区別しています。 nn.Moduleには、レイヤーと、出力を返すメソッドforward（input）が含まれています。\n",
        "\n"
      ]
    },
    {
      "cell_type": "markdown",
      "metadata": {
        "id": "XJsS8_8O5i0V",
        "colab_type": "text"
      },
      "source": [
        "シンプルなフィードフォワードネットワークです。それは入力を受け取り、それをいくつかの層に次々と送り、最後に出力を与えます。 ニューラルネットワークの一般的なトレーニング手順は次のとおりです。\n",
        "\n",
        "・いくつかの学習可能なパラメーター（または重み）を持つニューラルネットワークを定義する：Define the neural network that has some learnable parameters (or weights)\n",
        "\n",
        "・入力のデータセットを反復する　：　Iterate over a dataset of inputs\n",
        "\n",
        "・ネットワークを介して入力を処理する :  Process input through the network\n",
        "\n",
        "・損失を計算します（出力が正しいことからどれだけ離れているか）：　Compute the loss (how far is the output from being correct)\n",
        "\n",
        "・勾配をネットワークのパラメータに反映させる：Propagate gradients back into the network’s parameters\n",
        "\n",
        "・通常は単純な更新ルールを使用して、ネットワークの重みを更新します。weight= weight-learning_rate * gradient：Update the weights of the network, typically using a simple update rule: weight = weight - learning_rate * gradient\n",
        "\n",
        "\n",
        "\n"
      ]
    },
    {
      "cell_type": "markdown",
      "metadata": {
        "id": "T_ksLYtU8Bee",
        "colab_type": "text"
      },
      "source": [
        "###Define  the Network"
      ]
    },
    {
      "cell_type": "code",
      "metadata": {
        "id": "pTST3qkK020F",
        "colab_type": "code",
        "colab": {}
      },
      "source": [
        "import torch\n",
        "import torch.nn as nn\n",
        "import torch.nn.functional as F\n",
        "\n",
        "class Net(nn.Module):\n",
        "    def __init__self():\n",
        "        super(Net, self).__init__()\n",
        "        #1つの入力画像チャネル、6つの出力チャネル、3x3の正方形たたみ込み\n",
        "        self.conv1 = nn.Conv2d(1,6,3)\n",
        "        #6つの入力画像チャネル,16の出力チャネル、3x3の正方形たたみ込み\n",
        "        self.conv2 = nn.Conv2d(6,16,3)\n",
        "        #an affine operation: y = Wx + b\n",
        "        self.fc1 = nn.Linear(16 * 6 * 6, 120)\n",
        "        self.fc2 = nn.Linear(120, 84)\n",
        "        self.fc3 = nn.Linear(84, 10)\n",
        "    \n",
        "    def forward(self, x):\n",
        "        #max pooling over a (2,2) window\n",
        "        x = F.max_pool2d(F.relu(self.conv1(x)), 2)\n",
        "        #サイズが正方形の場合、指定できる数は1つだけです\n",
        "        x = F.max_pool2d(F.relu(self.conv2d(x)), 2)\n",
        "        x = x.view(-1, self.num_flat_features(x))\n",
        "        x =F.relu(self.fc1(x))\n",
        "        x = F.relu(self.fc2(x))\n",
        "        x = self.fc3\n",
        "        return x\n"
      ],
      "execution_count": null,
      "outputs": []
    },
    {
      "cell_type": "code",
      "metadata": {
        "id": "_Hupm2qQOdVu",
        "colab_type": "code",
        "colab": {
          "base_uri": "https://localhost:8080/",
          "height": 34
        },
        "outputId": "ca7612a6-625f-471e-9dda-1935ecc3e736"
      },
      "source": [
        "a = [93, 110, 124, 125, 128, 130, 132, 135, 136, 151, 178]\n",
        "import numpy as np\n",
        "s = np.mean(a)\n",
        "s"
      ],
      "execution_count": null,
      "outputs": [
        {
          "output_type": "execute_result",
          "data": {
            "text/plain": [
              "131.0909090909091"
            ]
          },
          "metadata": {
            "tags": []
          },
          "execution_count": 2
        }
      ]
    },
    {
      "cell_type": "code",
      "metadata": {
        "id": "yyarlM8cOuch",
        "colab_type": "code",
        "colab": {
          "base_uri": "https://localhost:8080/",
          "height": 34
        },
        "outputId": "8888f2f5-5715-49b4-85f5-5a4d3de22a52"
      },
      "source": [
        "np.median(a)"
      ],
      "execution_count": null,
      "outputs": [
        {
          "output_type": "execute_result",
          "data": {
            "text/plain": [
              "130.0"
            ]
          },
          "metadata": {
            "tags": []
          },
          "execution_count": 3
        }
      ]
    },
    {
      "cell_type": "code",
      "metadata": {
        "id": "-sKiS9jDO6Ux",
        "colab_type": "code",
        "colab": {}
      },
      "source": [
        "df = pd.DataFrame(a)"
      ],
      "execution_count": null,
      "outputs": []
    },
    {
      "cell_type": "code",
      "metadata": {
        "id": "-vQEh51bPP7v",
        "colab_type": "code",
        "colab": {
          "base_uri": "https://localhost:8080/",
          "height": 51
        },
        "outputId": "b8a1d142-6953-4075-ff49-a86df533fd1b"
      },
      "source": [
        "s = df.quantile(0.75)\n",
        "s"
      ],
      "execution_count": null,
      "outputs": [
        {
          "output_type": "execute_result",
          "data": {
            "text/plain": [
              "0    135.5\n",
              "Name: 0.75, dtype: float64"
            ]
          },
          "metadata": {
            "tags": []
          },
          "execution_count": 9
        }
      ]
    },
    {
      "cell_type": "code",
      "metadata": {
        "id": "5sD81-tQVaZ4",
        "colab_type": "code",
        "colab": {}
      },
      "source": [
        ""
      ],
      "execution_count": null,
      "outputs": []
    }
  ]
}