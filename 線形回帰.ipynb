{
  "nbformat": 4,
  "nbformat_minor": 0,
  "metadata": {
    "colab": {
      "name": "線形回帰.ipynb",
      "provenance": [],
      "collapsed_sections": [],
      "authorship_tag": "ABX9TyNn32W6J8GLC+Y+Dx1/dzsb",
      "include_colab_link": true
    },
    "kernelspec": {
      "name": "python3",
      "display_name": "Python 3"
    }
  },
  "cells": [
    {
      "cell_type": "markdown",
      "metadata": {
        "id": "view-in-github",
        "colab_type": "text"
      },
      "source": [
        "<a href=\"https://colab.research.google.com/github/nekotanku/colab/blob/master/%E7%B7%9A%E5%BD%A2%E5%9B%9E%E5%B8%B0.ipynb\" target=\"_parent\"><img src=\"https://colab.research.google.com/assets/colab-badge.svg\" alt=\"Open In Colab\"/></a>"
      ]
    },
    {
      "cell_type": "code",
      "metadata": {
        "id": "4QRu45yOgMVN",
        "colab_type": "code",
        "colab": {}
      },
      "source": [
        "import torch\n",
        "import torch.nn as nn\n",
        "import torch.optim as optim\n",
        "import matplotlib.pyplot as plt\n",
        "import numpy as np\n",
        "%matplotlib inline\n",
        "plt.style.use(\"ggplot\")"
      ],
      "execution_count": 1,
      "outputs": []
    },
    {
      "cell_type": "code",
      "metadata": {
        "id": "mGs_byRUnZHQ",
        "colab_type": "code",
        "colab": {
          "base_uri": "https://localhost:8080/",
          "height": 34
        },
        "outputId": "7c88060e-fdd3-48f7-a29f-b04e513fde71"
      },
      "source": [
        "#乱数\n",
        "torch.manual_seed(123)"
      ],
      "execution_count": 2,
      "outputs": [
        {
          "output_type": "execute_result",
          "data": {
            "text/plain": [
              "<torch._C.Generator at 0x7f35d57970c0>"
            ]
          },
          "metadata": {
            "tags": []
          },
          "execution_count": 2
        }
      ]
    },
    {
      "cell_type": "code",
      "metadata": {
        "id": "nTxmUlzlpEFl",
        "colab_type": "code",
        "colab": {}
      },
      "source": [
        "a = 3\n",
        "b = 2\n",
        "#view(100,1) -> view(バッチの次元, 入力データの次元)\n",
        "x = torch.linspace(0,5,100).view(100, 1)"
      ],
      "execution_count": 3,
      "outputs": []
    },
    {
      "cell_type": "code",
      "metadata": {
        "id": "ZiPgecAepSti",
        "colab_type": "code",
        "colab": {}
      },
      "source": [
        "eps = torch.randn(100,1)\n",
        "y = a * x + b + eps"
      ],
      "execution_count": 4,
      "outputs": []
    },
    {
      "cell_type": "code",
      "metadata": {
        "id": "0Pa3NSGoppjg",
        "colab_type": "code",
        "colab": {
          "base_uri": "https://localhost:8080/",
          "height": 283
        },
        "outputId": "fe88ecad-ed8f-49fc-9c3b-ea1e333ad6a8"
      },
      "source": [
        "plt.scatter(x, y)"
      ],
      "execution_count": 5,
      "outputs": [
        {
          "output_type": "execute_result",
          "data": {
            "text/plain": [
              "<matplotlib.collections.PathCollection at 0x7f358b0379e8>"
            ]
          },
          "metadata": {
            "tags": []
          },
          "execution_count": 5
        },
        {
          "output_type": "display_data",
          "data": {
            "image/png": "[encoded data removed]",
            "text/plain": [
              "<Figure size 432x288 with 1 Axes>"
            ]
          },
          "metadata": {
            "tags": [],
            "needs_background": "light"
          }
        }
      ]
    },
    {
      "cell_type": "code",
      "metadata": {
        "id": "UrLrjE1npsRU",
        "colab_type": "code",
        "colab": {}
      },
      "source": [
        "#モデルを作成\n",
        "class LR(nn.Module):\n",
        "    #初期化\n",
        "    def __init__(self):\n",
        "        super().__init__()\n",
        "        self.linear= nn.Linear(in_features=1, out_features=1)\n",
        "    #順伝播\n",
        "    def forward(self, x):\n",
        "        output  = self.linear(x)\n",
        "        return output \n"
      ],
      "execution_count": 6,
      "outputs": []
    },
    {
      "cell_type": "code",
      "metadata": {
        "id": "8GFV5pKkqdjV",
        "colab_type": "code",
        "colab": {}
      },
      "source": [
        "#インスタンス作成\n",
        "model = LR()"
      ],
      "execution_count": 7,
      "outputs": []
    },
    {
      "cell_type": "code",
      "metadata": {
        "id": "ylUktl8qqhkp",
        "colab_type": "code",
        "colab": {
          "base_uri": "https://localhost:8080/",
          "height": 51
        },
        "outputId": "d5fdf4ab-cd39-4131-d202-6cb0605df90c"
      },
      "source": [
        "#予測\n",
        "x_test = torch.tensor([[1.0], [2.0]])\n",
        "model(x_test)"
      ],
      "execution_count": 8,
      "outputs": [
        {
          "output_type": "execute_result",
          "data": {
            "text/plain": [
              "tensor([[-0.6505],\n",
              "        [-1.4166]], grad_fn=<AddmmBackward>)"
            ]
          },
          "metadata": {
            "tags": []
          },
          "execution_count": 8
        }
      ]
    },
    {
      "cell_type": "code",
      "metadata": {
        "id": "AsZR3bh2rB-S",
        "colab_type": "code",
        "colab": {
          "base_uri": "https://localhost:8080/",
          "height": 34
        },
        "outputId": "cdd46822-7778-4a85-87ec-f7d66c8815fc"
      },
      "source": [
        "x2 = torch.linspace(0, 3, 100).view(100, 1)\n",
        "x2.size()"
      ],
      "execution_count": 9,
      "outputs": [
        {
          "output_type": "execute_result",
          "data": {
            "text/plain": [
              "torch.Size([100, 1])"
            ]
          },
          "metadata": {
            "tags": []
          },
          "execution_count": 9
        }
      ]
    },
    {
      "cell_type": "code",
      "metadata": {
        "id": "5xc7lDu2upCH",
        "colab_type": "code",
        "colab": {}
      },
      "source": [
        "y_pred = model(x2)"
      ],
      "execution_count": 10,
      "outputs": []
    },
    {
      "cell_type": "code",
      "metadata": {
        "id": "3yT_-A8wsNpl",
        "colab_type": "code",
        "colab": {
          "base_uri": "https://localhost:8080/",
          "height": 282
        },
        "outputId": "e77334ab-1bd1-420b-c675-1721a84cc878"
      },
      "source": [
        "plt.plot(x2, y_pred.detach(), label='prediction')\n",
        "plt.scatter(x, y, label=\"data\")\n",
        "plt.legend()"
      ],
      "execution_count": 11,
      "outputs": [
        {
          "output_type": "execute_result",
          "data": {
            "text/plain": [
              "<matplotlib.legend.Legend at 0x7f358ab2d828>"
            ]
          },
          "metadata": {
            "tags": []
          },
          "execution_count": 11
        },
        {
          "output_type": "display_data",
          "data": {
            "image/png": "[encoded data removed]",
            "text/plain": [
              "<Figure size 432x288 with 1 Axes>"
            ]
          },
          "metadata": {
            "tags": [],
            "needs_background": "light"
          }
        }
      ]
    },
    {
      "cell_type": "code",
      "metadata": {
        "id": "P4kzW77duFmq",
        "colab_type": "code",
        "colab": {}
      },
      "source": [
        "#損失関数\n",
        "criterion = nn.MSELoss()\n",
        "optimizer = optim.SGD(model.parameters(), lr=0.001)"
      ],
      "execution_count": 12,
      "outputs": []
    },
    {
      "cell_type": "code",
      "metadata": {
        "id": "ljgBa4wvvUPz",
        "colab_type": "code",
        "colab": {
          "base_uri": "https://localhost:8080/",
          "height": 867
        },
        "outputId": "adb33ce8-2d60-49af-f0b3-a20eca91235f"
      },
      "source": [
        "losses = []\n",
        "num_epoch = 500\n",
        "for epoch in range(num_epoch):\n",
        "    #勾配初期化\n",
        "    optimizer.zero_grad()\n",
        "    y_pred  = model(x)\n",
        "    loss = criterion(y_pred, y)\n",
        "    #誤差逆伝播\n",
        "    loss.backward()\n",
        "    optimizer.step()\n",
        "    if epoch % 10 == 0:\n",
        "        #loss.item -> Tensorから中の値を取り出す\n",
        "        print(\"epoch:{}, loss:{}\".format(epoch, loss.item()))\n",
        "        losses.append(loss.item())\n"
      ],
      "execution_count": 13,
      "outputs": [
        {
          "output_type": "stream",
          "text": [
            "epoch:0, loss:156.7843017578125\n",
            "epoch:10, loss:108.74256896972656\n",
            "epoch:20, loss:75.52831268310547\n",
            "epoch:30, loss:52.56507873535156\n",
            "epoch:40, loss:36.68894958496094\n",
            "epoch:50, loss:25.712501525878906\n",
            "epoch:60, loss:18.12348175048828\n",
            "epoch:70, loss:12.876379013061523\n",
            "epoch:80, loss:9.248371124267578\n",
            "epoch:90, loss:6.7397308349609375\n",
            "epoch:100, loss:5.004981517791748\n",
            "epoch:110, loss:3.805262804031372\n",
            "epoch:120, loss:2.9754462242126465\n",
            "epoch:130, loss:2.4013638496398926\n",
            "epoch:140, loss:2.0040884017944336\n",
            "epoch:150, loss:1.7290520668029785\n",
            "epoch:160, loss:1.5385340452194214\n",
            "epoch:170, loss:1.406448245048523\n",
            "epoch:180, loss:1.3147624731063843\n",
            "epoch:190, loss:1.2510122060775757\n",
            "epoch:200, loss:1.206579566001892\n",
            "epoch:210, loss:1.1755024194717407\n",
            "epoch:220, loss:1.1536648273468018\n",
            "epoch:230, loss:1.1382170915603638\n",
            "epoch:240, loss:1.127191185951233\n",
            "epoch:250, loss:1.1192246675491333\n",
            "epoch:260, loss:1.1133769750595093\n",
            "epoch:270, loss:1.1089967489242554\n",
            "epoch:280, loss:1.1056344509124756\n",
            "epoch:290, loss:1.102979063987732\n",
            "epoch:300, loss:1.1008155345916748\n",
            "epoch:310, loss:1.0989948511123657\n",
            "epoch:320, loss:1.0974143743515015\n",
            "epoch:330, loss:1.0960028171539307\n",
            "epoch:340, loss:1.0947110652923584\n",
            "epoch:350, loss:1.0935051441192627\n",
            "epoch:360, loss:1.092361330986023\n",
            "epoch:370, loss:1.0912634134292603\n",
            "epoch:380, loss:1.0901999473571777\n",
            "epoch:390, loss:1.0891634225845337\n",
            "epoch:400, loss:1.0881479978561401\n",
            "epoch:410, loss:1.0871498584747314\n",
            "epoch:420, loss:1.086166501045227\n",
            "epoch:430, loss:1.085196614265442\n",
            "epoch:440, loss:1.084237813949585\n",
            "epoch:450, loss:1.0832899808883667\n",
            "epoch:460, loss:1.0823521614074707\n",
            "epoch:470, loss:1.0814239978790283\n",
            "epoch:480, loss:1.0805050134658813\n",
            "epoch:490, loss:1.0795948505401611\n"
          ],
          "name": "stdout"
        }
      ]
    },
    {
      "cell_type": "code",
      "metadata": {
        "id": "r2MPqNzkwDuk",
        "colab_type": "code",
        "colab": {
          "base_uri": "https://localhost:8080/",
          "height": 282
        },
        "outputId": "d03c247a-3403-4dfa-89a8-8108fe31a802"
      },
      "source": [
        "plt.plot(losses)"
      ],
      "execution_count": 14,
      "outputs": [
        {
          "output_type": "execute_result",
          "data": {
            "text/plain": [
              "[<matplotlib.lines.Line2D at 0x7f358aab8dd8>]"
            ]
          },
          "metadata": {
            "tags": []
          },
          "execution_count": 14
        },
        {
          "output_type": "display_data",
          "data": {
            "image/png": "[encoded data removed]",
            "text/plain": [
              "<Figure size 432x288 with 1 Axes>"
            ]
          },
          "metadata": {
            "tags": [],
            "needs_background": "light"
          }
        }
      ]
    },
    {
      "cell_type": "code",
      "metadata": {
        "id": "qui70lHuxQml",
        "colab_type": "code",
        "colab": {
          "base_uri": "https://localhost:8080/",
          "height": 283
        },
        "outputId": "7778d288-0b38-48b1-c956-312931c688e3"
      },
      "source": [
        "x_test = torch.linspace(0, 5, 100).view(100, 1)\n",
        "y_test = model(x_test)\n",
        "plt.plot(x_test, y_test.detach(), label=\"prediction\" )\n",
        "plt.scatter(x, y, label=\"data\")\n",
        "plt.legend()"
      ],
      "execution_count": 16,
      "outputs": [
        {
          "output_type": "execute_result",
          "data": {
            "text/plain": [
              "<matplotlib.legend.Legend at 0x7f358219c438>"
            ]
          },
          "metadata": {
            "tags": []
          },
          "execution_count": 16
        },
        {
          "output_type": "display_data",
          "data": {
            "image/png": "[encoded data removed]",
            "text/plain": [
              "<Figure size 432x288 with 1 Axes>"
            ]
          },
          "metadata": {
            "tags": [],
            "needs_background": "light"
          }
        }
      ]
    },
    {
      "cell_type": "code",
      "metadata": {
        "id": "nY2JYQtCtrLn",
        "colab_type": "code",
        "colab": {}
      },
      "source": [
        ""
      ],
      "execution_count": null,
      "outputs": []
    }
  ]
}