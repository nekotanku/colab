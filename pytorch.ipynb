{
  "nbformat": 4,
  "nbformat_minor": 0,
  "metadata": {
    "colab": {
      "name": "pytorch.ipynb",
      "provenance": [],
      "collapsed_sections": [],
      "toc_visible": true,
      "mount_file_id": "1FHPt8JyG8_XrBcB4Mq2C2-oBklKWEEWH",
      "authorship_tag": "ABX9TyMLcdGhm6II1T7E4/hsgrBU",
      "include_colab_link": true
    },
    "kernelspec": {
      "name": "python3",
      "display_name": "Python 3"
    },
    "accelerator": "GPU"
  },
  "cells": [
    {
      "cell_type": "markdown",
      "metadata": {
        "id": "view-in-github",
        "colab_type": "text"
      },
      "source": [
        "<a href=\"https://colab.research.google.com/github/nekotanku/colab/blob/master/pytorch.ipynb\" target=\"_parent\"><img src=\"https://colab.research.google.com/assets/colab-badge.svg\" alt=\"Open In Colab\"/></a>"
      ]
    },
    {
      "cell_type": "code",
      "metadata": {
        "id": "sW36FD1VAc6U",
        "colab_type": "code",
        "colab": {}
      },
      "source": [
        "import torch\n",
        "from torch.utils.data import Dataset\n",
        "torch.cuda.is_available()\n",
        "import torchvision.transforms as transforms\n",
        "import torch.nn as nn\n",
        "import torch.optim as optim\n",
        "from torch.autograd import Variable\n",
        "import torch.nn.functional as F\n",
        "import numpy as np\n",
        "import pandas as pd\n",
        "import matplotlib.pyplot as plt\n",
        "import os\n",
        "from sklearn.model_selection import train_test_split\n",
        "from PIL import Image"
      ],
      "execution_count": 1,
      "outputs": []
    },
    {
      "cell_type": "code",
      "metadata": {
        "id": "uIrUvZqVIM1J",
        "colab_type": "code",
        "colab": {}
      },
      "source": [
        "if os.path.exists('/content/train_images/')==False:\n",
        "    !unzip \"/content/drive/My Drive/signate_img_labeling/train_images.zip\"\n",
        "else:\n",
        "    pass"
      ],
      "execution_count": 2,
      "outputs": []
    },
    {
      "cell_type": "code",
      "metadata": {
        "id": "huZBqb-VJKga",
        "colab_type": "code",
        "colab": {}
      },
      "source": [
        "if os.path.exists('/content/train_images/')==False:\n",
        "   !unzip \"/content/drive/My Drive/signate_img_labeling/test_images.zip\"\n",
        "else:\n",
        "    pass"
      ],
      "execution_count": 3,
      "outputs": []
    },
    {
      "cell_type": "code",
      "metadata": {
        "id": "e9Pw9pwcKJoH",
        "colab_type": "code",
        "colab": {}
      },
      "source": [
        "train_master = pd.read_table('/content/drive/My Drive/signate_img_labeling/train_master.tsv')"
      ],
      "execution_count": 4,
      "outputs": []
    },
    {
      "cell_type": "code",
      "metadata": {
        "id": "3vxPPOB-KPm6",
        "colab_type": "code",
        "colab": {
          "base_uri": "https://localhost:8080/",
          "height": 359
        },
        "outputId": "98111e3b-d6d1-496d-904c-f5d702b61c6e"
      },
      "source": [
        "train_master.head(10)"
      ],
      "execution_count": 5,
      "outputs": [
        {
          "output_type": "execute_result",
          "data": {
            "text/html": [
              "<div>\n",
              "<style scoped>\n",
              "    .dataframe tbody tr th:only-of-type {\n",
              "        vertical-align: middle;\n",
              "    }\n",
              "\n",
              "    .dataframe tbody tr th {\n",
              "        vertical-align: top;\n",
              "    }\n",
              "\n",
              "    .dataframe thead th {\n",
              "        text-align: right;\n",
              "    }\n",
              "</style>\n",
              "<table border=\"1\" class=\"dataframe\">\n",
              "  <thead>\n",
              "    <tr style=\"text-align: right;\">\n",
              "      <th></th>\n",
              "      <th>file_name</th>\n",
              "      <th>label_id</th>\n",
              "    </tr>\n",
              "  </thead>\n",
              "  <tbody>\n",
              "    <tr>\n",
              "      <th>0</th>\n",
              "      <td>train_0.jpg</td>\n",
              "      <td>1</td>\n",
              "    </tr>\n",
              "    <tr>\n",
              "      <th>1</th>\n",
              "      <td>train_1.jpg</td>\n",
              "      <td>5</td>\n",
              "    </tr>\n",
              "    <tr>\n",
              "      <th>2</th>\n",
              "      <td>train_2.jpg</td>\n",
              "      <td>1</td>\n",
              "    </tr>\n",
              "    <tr>\n",
              "      <th>3</th>\n",
              "      <td>train_3.jpg</td>\n",
              "      <td>6</td>\n",
              "    </tr>\n",
              "    <tr>\n",
              "      <th>4</th>\n",
              "      <td>train_4.jpg</td>\n",
              "      <td>3</td>\n",
              "    </tr>\n",
              "    <tr>\n",
              "      <th>5</th>\n",
              "      <td>train_5.jpg</td>\n",
              "      <td>9</td>\n",
              "    </tr>\n",
              "    <tr>\n",
              "      <th>6</th>\n",
              "      <td>train_6.jpg</td>\n",
              "      <td>7</td>\n",
              "    </tr>\n",
              "    <tr>\n",
              "      <th>7</th>\n",
              "      <td>train_7.jpg</td>\n",
              "      <td>4</td>\n",
              "    </tr>\n",
              "    <tr>\n",
              "      <th>8</th>\n",
              "      <td>train_8.jpg</td>\n",
              "      <td>5</td>\n",
              "    </tr>\n",
              "    <tr>\n",
              "      <th>9</th>\n",
              "      <td>train_9.jpg</td>\n",
              "      <td>8</td>\n",
              "    </tr>\n",
              "  </tbody>\n",
              "</table>\n",
              "</div>"
            ],
            "text/plain": [
              "     file_name  label_id\n",
              "0  train_0.jpg         1\n",
              "1  train_1.jpg         5\n",
              "2  train_2.jpg         1\n",
              "3  train_3.jpg         6\n",
              "4  train_4.jpg         3\n",
              "5  train_5.jpg         9\n",
              "6  train_6.jpg         7\n",
              "7  train_7.jpg         4\n",
              "8  train_8.jpg         5\n",
              "9  train_9.jpg         8"
            ]
          },
          "metadata": {
            "tags": []
          },
          "execution_count": 5
        }
      ]
    },
    {
      "cell_type": "code",
      "metadata": {
        "id": "cj6y_hOCLNnJ",
        "colab_type": "code",
        "colab": {}
      },
      "source": [
        "#Datasetを継承\n",
        "class Create_Datasets(Dataset):\n",
        "     #初期化\n",
        "    \n",
        "    def __init__(self, dir_name, tsv_file, data_transform):\n",
        "        self.dir_name = '/content/'\n",
        "        self.tsv_file = 'drive/My Drive/signate_img_labeling/train_master.tsv'\n",
        "        self.df = pd.read_table(self.dir_name + tsv_file)\n",
        "        self.data_transform = data_transform\n",
        "    \n",
        "    #データの個数を返す\n",
        "    def __len__(self):\n",
        "        return len(self.df)\n",
        "    \n",
        "    #返却された数値分のiが処理される\n",
        "    def __getitem__(self, i):\n",
        "        file = self.df['file_name'][i]\n",
        "        label = np.array(self.df['label_id'][i])\n",
        "        image = Image.open(self.dir_name+ \"train_images/\" + file)\n",
        "        image = self.data_transform(image)\n",
        "\n",
        "        return image, label\n"
      ],
      "execution_count": 6,
      "outputs": []
    },
    {
      "cell_type": "code",
      "metadata": {
        "id": "_OEaIQeQSZWP",
        "colab_type": "code",
        "colab": {}
      },
      "source": [
        "data_transfrom = transforms.Compose([\n",
        "                                    transforms.Resize(32*32),\n",
        "                                    transforms.RandomHorizontalFlip(),\n",
        "                                    transforms.ToTensor(),\n",
        "                                    transforms.Normalize([0.5,0.5,0.5], [0.5, 0.5, 0.5])\n",
        "])"
      ],
      "execution_count": 7,
      "outputs": []
    },
    {
      "cell_type": "code",
      "metadata": {
        "id": "z8MPgurWVTzX",
        "colab_type": "code",
        "colab": {}
      },
      "source": [
        "#create_datasetsのクラスをインスタンス化\n",
        "class Mynomalize:\n",
        "    def __call__(self, image):\n",
        "        shape = image.shape\n",
        "        image = (image - np.mean(image)) / np.std(image)*16+64\n",
        "        return image"
      ],
      "execution_count": 8,
      "outputs": []
    },
    {
      "cell_type": "code",
      "metadata": {
        "id": "zK6ac3IMQq83",
        "colab_type": "code",
        "colab": {}
      },
      "source": [
        "imgDataset = Create_Datasets('/content/', 'drive/My Drive/signate_img_labeling/train_master.tsv', data_transfrom)"
      ],
      "execution_count": 9,
      "outputs": []
    },
    {
      "cell_type": "code",
      "metadata": {
        "id": "ykJM-PAbdlJh",
        "colab_type": "code",
        "colab": {}
      },
      "source": [
        "train_data, test_data = train_test_split(imgDataset, test_size=0.2)"
      ],
      "execution_count": null,
      "outputs": []
    },
    {
      "cell_type": "code",
      "metadata": {
        "id": "HnQQ-D6CHDPX",
        "colab_type": "code",
        "colab": {}
      },
      "source": [
        "train_loader = torch.utils.data.DataLoader(train_data, batch_size=64, shuffle=True)\n",
        "test_loader = torch.utils.data.DataLoader(test_data, batch_size=100, shuffle=True)"
      ],
      "execution_count": null,
      "outputs": []
    },
    {
      "cell_type": "code",
      "metadata": {
        "id": "6apOoLHrR8_p",
        "colab_type": "code",
        "colab": {}
      },
      "source": [
        "class Net(nn.Module):\n",
        "    def __init__(self):\n",
        "        super(Net, self).__init__()\n",
        "        self.conv1 = nn.Conv2d(3, 6, kernel_size=5)\n",
        "        self.conv2 = nn.Conv2d(6, 16, kernel_size=5)\n",
        "        self.conv2_drop = nn.Dropout2d()\n",
        "        self.fc1 = nn.Linear(16*37*37, 120)\n",
        "        self.fc2 = nn.Linear(120, 84)\n",
        "        self.fc3 = nn.Linear(84, 10)\n",
        "\n",
        "    def forward(self, x):\n",
        "        x = F.relu(F.max_pool2d(self.conv1(x), 2))\n",
        "        x = F.relu(F.max_pool2d(self.conv2_drop(self.conv2(x)), 2))\n",
        "        x = x.view(x.size(0), 16*37*37)\n",
        "        x = F.relu(self.fc1(x))\n",
        "        x = F.dropout(x, training=self.training)\n",
        "        x = self.fc2(x)\n",
        "        return F.log_softmax(x, dim=1)"
      ],
      "execution_count": null,
      "outputs": []
    },
    {
      "cell_type": "code",
      "metadata": {
        "id": "1SDeyx-MSBqQ",
        "colab_type": "code",
        "colab": {}
      },
      "source": [
        "model = Net()\n",
        "optimizer = optim.SGD(model.parameters(), lr=0.01, momentum=0.5)\n",
        "criterion = nn.CrossEntropyLoss()\n",
        "\n",
        "def train(epoch):\n",
        "    model.train()\n",
        "    for batch_idx, (image, label) in enumerate(train_loader):\n",
        "        image, label = Variable(image), Variable(label)\n",
        "        optimizer.zero_grad()\n",
        "        output = model(image)\n",
        "        loss = criterion(output, label)\n",
        "        loss.backward()\n",
        "        optimizer.step()\n",
        "\n",
        "        print('Train Epoch: {} [{}/{} ({:.0f}%)]\\tLoss: {:.6f}'.format(\n",
        "            epoch, batch_idx * len(image), len(train_loader.dataset),\n",
        "            100. * batch_idx / len(train_loader), loss.data[0]))\n",
        "\n",
        "\n",
        "def test():\n",
        "    model.eval()\n",
        "\n",
        "    for (image, label) in test_loader:\n",
        "        image, label = Variable(image.float(), volatile=True), Variable(label)\n",
        "        output = model(image)\n",
        "        test_loss += criterion(output, label).data[0] # sum up batch loss\n",
        "        pred = output.data.max(1, keepdim=True)[1] # get the index of the max log-probability\n",
        "        correct += pred.eq(label.data.view_as(pred)).long().cpu().sum()\n",
        "    test_loss /= len(test_loader.dataset)\n",
        "    print('\\nTest set: Average loss: {:.4f}, Accuracy: {}/{} ({:.0f}%)\\n'.format(\n",
        "        test_loss, correct, len(test_loader.dataset),\n",
        "        100. * correct / len(test_loader.dataset)))\n",
        "    \n",
        "#学習\n",
        "for epoch in range(1, 1000 + 1):\n",
        "    train(epoch)\n",
        "    test()\n"
      ],
      "execution_count": null,
      "outputs": []
    },
    {
      "cell_type": "code",
      "metadata": {
        "id": "uHnln9frStDj",
        "colab_type": "code",
        "colab": {}
      },
      "source": [
        ""
      ],
      "execution_count": null,
      "outputs": []
    }
  ]
}